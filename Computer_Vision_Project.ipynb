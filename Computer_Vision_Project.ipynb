{
  "cells": [
    {
      "cell_type": "markdown",
      "metadata": {
        "id": "view-in-github",
        "colab_type": "text"
      },
      "source": [
        "<a href=\"https://colab.research.google.com/github/lakshika-wijesundara/Plastic-and-Paper-Objects-detection-and-Classification/blob/main/Computer_Vision_Project.ipynb\" target=\"_parent\"><img src=\"https://colab.research.google.com/assets/colab-badge.svg\" alt=\"Open In Colab\"/></a>"
      ]
    },
    {
      "cell_type": "code",
      "execution_count": null,
      "metadata": {
        "colab": {
          "base_uri": "https://localhost:8080/"
        },
        "id": "mMX0F4tx3f2A",
        "outputId": "139c66d2-cbc2-41a9-e255-9bac5f5e4f78"
      },
      "outputs": [
        {
          "name": "stdout",
          "output_type": "stream",
          "text": [
            "Libraries installed successfully!\n",
            "loading Roboflow workspace...\n",
            "loading Roboflow project...\n"
          ]
        },
        {
          "name": "stderr",
          "output_type": "stream",
          "text": [
            "Downloading Dataset Version Zip in /content/computer_vision to yolov8:: 100%|██████████| 1197682/1197682 [00:18<00:00, 66224.52it/s]"
          ]
        },
        {
          "name": "stdout",
          "output_type": "stream",
          "text": [
            "\n"
          ]
        },
        {
          "name": "stderr",
          "output_type": "stream",
          "text": [
            "\n",
            "Extracting Dataset Version Zip to /content/computer_vision in yolov8:: 100%|██████████| 11108/11108 [00:07<00:00, 1530.73it/s]\n"
          ]
        },
        {
          "name": "stdout",
          "output_type": "stream",
          "text": [
            "Creating new Ultralytics Settings v0.0.6 file ✅ \n",
            "View Ultralytics Settings with 'yolo settings' or at '/root/.config/Ultralytics/settings.json'\n",
            "Update Settings with 'yolo settings key=value', i.e. 'yolo settings runs_dir=path/to/dir'. For help see https://docs.ultralytics.com/quickstart/#ultralytics-settings.\n",
            "Dataset downloaded successfully!\n"
          ]
        }
      ],
      "source": [
        "# Install required libraries\n",
        "!pip install ultralytics roboflow\n",
        "from IPython.display import clear_output\n",
        "clear_output()\n",
        "print(\"Libraries installed successfully!\")\n",
        "\n",
        "# Authenticate Roboflow\n",
        "from roboflow import Roboflow\n",
        "rf = Roboflow(api_key=\"xv82Gavwdrn9ZZiy62Sc\", model_format=\"yolov8\")\n",
        "\n",
        "# Download the dataset\n",
        "dataset = rf.workspace().project(\"paper-and-plastic-detection-2\").version(1).download(location=\"/content/computer_vision\")\n",
        "print(\"Dataset downloaded successfully!\")\n"
      ]
    },
    {
      "cell_type": "code",
      "execution_count": null,
      "metadata": {
        "colab": {
          "base_uri": "https://localhost:8080/"
        },
        "id": "jEJO8Kp45DEY",
        "outputId": "724ebab1-e9ae-498c-a4f6-74908f66fc57"
      },
      "outputs": [
        {
          "name": "stdout",
          "output_type": "stream",
          "text": [
            "Downloading https://github.com/ultralytics/assets/releases/download/v8.3.0/yolov8n.pt to 'yolov8n.pt'...\n"
          ]
        },
        {
          "name": "stderr",
          "output_type": "stream",
          "text": [
            "100%|██████████| 6.25M/6.25M [00:00<00:00, 123MB/s]\n"
          ]
        },
        {
          "name": "stdout",
          "output_type": "stream",
          "text": [
            "Ultralytics 8.3.59 🚀 Python-3.10.12 torch-2.5.1+cu121 CUDA:0 (Tesla T4, 15102MiB)\n",
            "\u001b[34m\u001b[1mengine/trainer: \u001b[0mtask=detect, mode=train, model=yolov8n.pt, data=/content/computer_vision/data.yaml, epochs=10, time=None, patience=100, batch=16, imgsz=640, save=True, save_period=-1, cache=False, device=None, workers=8, project=None, name=paper_plastic_model, exist_ok=False, pretrained=True, optimizer=auto, verbose=True, seed=0, deterministic=True, single_cls=False, rect=False, cos_lr=False, close_mosaic=10, resume=False, amp=True, fraction=1.0, profile=False, freeze=None, multi_scale=False, overlap_mask=True, mask_ratio=4, dropout=0.0, val=True, split=val, save_json=False, save_hybrid=False, conf=None, iou=0.7, max_det=300, half=False, dnn=False, plots=True, source=None, vid_stride=1, stream_buffer=False, visualize=False, augment=False, agnostic_nms=False, classes=None, retina_masks=False, embed=None, show=False, save_frames=False, save_txt=False, save_conf=False, save_crop=False, show_labels=True, show_conf=True, show_boxes=True, line_width=None, format=torchscript, keras=False, optimize=False, int8=False, dynamic=False, simplify=True, opset=None, workspace=None, nms=False, lr0=0.01, lrf=0.01, momentum=0.937, weight_decay=0.0005, warmup_epochs=3.0, warmup_momentum=0.8, warmup_bias_lr=0.1, box=7.5, cls=0.5, dfl=1.5, pose=12.0, kobj=1.0, nbs=64, hsv_h=0.015, hsv_s=0.7, hsv_v=0.4, degrees=0.0, translate=0.1, scale=0.5, shear=0.0, perspective=0.0, flipud=0.0, fliplr=0.5, bgr=0.0, mosaic=1.0, mixup=0.0, copy_paste=0.0, copy_paste_mode=flip, auto_augment=randaugment, erasing=0.4, crop_fraction=1.0, cfg=None, tracker=botsort.yaml, save_dir=runs/detect/paper_plastic_model\n",
            "Downloading https://ultralytics.com/assets/Arial.ttf to '/root/.config/Ultralytics/Arial.ttf'...\n"
          ]
        },
        {
          "name": "stderr",
          "output_type": "stream",
          "text": [
            "100%|██████████| 755k/755k [00:00<00:00, 23.5MB/s]\n"
          ]
        },
        {
          "name": "stdout",
          "output_type": "stream",
          "text": [
            "Overriding model.yaml nc=80 with nc=2\n",
            "\n",
            "                   from  n    params  module                                       arguments                     \n",
            "  0                  -1  1       464  ultralytics.nn.modules.conv.Conv             [3, 16, 3, 2]                 \n",
            "  1                  -1  1      4672  ultralytics.nn.modules.conv.Conv             [16, 32, 3, 2]                \n",
            "  2                  -1  1      7360  ultralytics.nn.modules.block.C2f             [32, 32, 1, True]             \n",
            "  3                  -1  1     18560  ultralytics.nn.modules.conv.Conv             [32, 64, 3, 2]                \n",
            "  4                  -1  2     49664  ultralytics.nn.modules.block.C2f             [64, 64, 2, True]             \n",
            "  5                  -1  1     73984  ultralytics.nn.modules.conv.Conv             [64, 128, 3, 2]               \n",
            "  6                  -1  2    197632  ultralytics.nn.modules.block.C2f             [128, 128, 2, True]           \n",
            "  7                  -1  1    295424  ultralytics.nn.modules.conv.Conv             [128, 256, 3, 2]              \n",
            "  8                  -1  1    460288  ultralytics.nn.modules.block.C2f             [256, 256, 1, True]           \n",
            "  9                  -1  1    164608  ultralytics.nn.modules.block.SPPF            [256, 256, 5]                 \n",
            " 10                  -1  1         0  torch.nn.modules.upsampling.Upsample         [None, 2, 'nearest']          \n",
            " 11             [-1, 6]  1         0  ultralytics.nn.modules.conv.Concat           [1]                           \n",
            " 12                  -1  1    148224  ultralytics.nn.modules.block.C2f             [384, 128, 1]                 \n",
            " 13                  -1  1         0  torch.nn.modules.upsampling.Upsample         [None, 2, 'nearest']          \n",
            " 14             [-1, 4]  1         0  ultralytics.nn.modules.conv.Concat           [1]                           \n",
            " 15                  -1  1     37248  ultralytics.nn.modules.block.C2f             [192, 64, 1]                  \n",
            " 16                  -1  1     36992  ultralytics.nn.modules.conv.Conv             [64, 64, 3, 2]                \n",
            " 17            [-1, 12]  1         0  ultralytics.nn.modules.conv.Concat           [1]                           \n",
            " 18                  -1  1    123648  ultralytics.nn.modules.block.C2f             [192, 128, 1]                 \n",
            " 19                  -1  1    147712  ultralytics.nn.modules.conv.Conv             [128, 128, 3, 2]              \n",
            " 20             [-1, 9]  1         0  ultralytics.nn.modules.conv.Concat           [1]                           \n",
            " 21                  -1  1    493056  ultralytics.nn.modules.block.C2f             [384, 256, 1]                 \n",
            " 22        [15, 18, 21]  1    751702  ultralytics.nn.modules.head.Detect           [2, [64, 128, 256]]           \n",
            "Model summary: 225 layers, 3,011,238 parameters, 3,011,222 gradients, 8.2 GFLOPs\n",
            "\n",
            "Transferred 319/355 items from pretrained weights\n",
            "\u001b[34m\u001b[1mTensorBoard: \u001b[0mStart with 'tensorboard --logdir runs/detect/paper_plastic_model', view at http://localhost:6006/\n",
            "Freezing layer 'model.22.dfl.conv.weight'\n",
            "\u001b[34m\u001b[1mAMP: \u001b[0mrunning Automatic Mixed Precision (AMP) checks...\n",
            "Downloading https://github.com/ultralytics/assets/releases/download/v8.3.0/yolo11n.pt to 'yolo11n.pt'...\n"
          ]
        },
        {
          "name": "stderr",
          "output_type": "stream",
          "text": [
            "100%|██████████| 5.35M/5.35M [00:00<00:00, 109MB/s]\n"
          ]
        },
        {
          "name": "stdout",
          "output_type": "stream",
          "text": [
            "\u001b[34m\u001b[1mAMP: \u001b[0mchecks passed ✅\n"
          ]
        },
        {
          "name": "stderr",
          "output_type": "stream",
          "text": [
            "\u001b[34m\u001b[1mtrain: \u001b[0mScanning /content/computer_vision/train/labels... 3880 images, 6 backgrounds, 0 corrupt: 100%|██████████| 3880/3880 [00:01<00:00, 2088.56it/s]\n"
          ]
        },
        {
          "name": "stdout",
          "output_type": "stream",
          "text": [
            "\u001b[34m\u001b[1mtrain: \u001b[0mNew cache created: /content/computer_vision/train/labels.cache\n",
            "WARNING ⚠️ Box and segment counts should be equal, but got len(segments) = 568, len(boxes) = 5485. To resolve this only boxes will be used and all segments will be removed. To avoid this please supply either a detect or segment dataset, not a detect-segment mixed dataset.\n",
            "\u001b[34m\u001b[1malbumentations: \u001b[0mBlur(p=0.01, blur_limit=(3, 7)), MedianBlur(p=0.01, blur_limit=(3, 7)), ToGray(p=0.01, num_output_channels=3, method='weighted_average'), CLAHE(p=0.01, clip_limit=(1.0, 4.0), tile_grid_size=(8, 8))\n"
          ]
        },
        {
          "name": "stderr",
          "output_type": "stream",
          "text": [
            "A new version of Albumentations is available: 2.0.0 (you have 1.4.20). Upgrade using: pip install -U albumentations. To disable automatic update checks, set the environment variable NO_ALBUMENTATIONS_UPDATE to 1.\n",
            "\u001b[34m\u001b[1mval: \u001b[0mScanning /content/computer_vision/valid/labels... 1107 images, 0 backgrounds, 0 corrupt: 100%|██████████| 1107/1107 [00:01<00:00, 1032.90it/s]\n"
          ]
        },
        {
          "name": "stdout",
          "output_type": "stream",
          "text": [
            "\u001b[34m\u001b[1mval: \u001b[0mNew cache created: /content/computer_vision/valid/labels.cache\n",
            "WARNING ⚠️ Box and segment counts should be equal, but got len(segments) = 188, len(boxes) = 1607. To resolve this only boxes will be used and all segments will be removed. To avoid this please supply either a detect or segment dataset, not a detect-segment mixed dataset.\n",
            "Plotting labels to runs/detect/paper_plastic_model/labels.jpg... \n",
            "\u001b[34m\u001b[1moptimizer:\u001b[0m 'optimizer=auto' found, ignoring 'lr0=0.01' and 'momentum=0.937' and determining best 'optimizer', 'lr0' and 'momentum' automatically... \n",
            "\u001b[34m\u001b[1moptimizer:\u001b[0m AdamW(lr=0.001667, momentum=0.9) with parameter groups 57 weight(decay=0.0), 64 weight(decay=0.0005), 63 bias(decay=0.0)\n",
            "\u001b[34m\u001b[1mTensorBoard: \u001b[0mmodel graph visualization added ✅\n",
            "Image sizes 640 train, 640 val\n",
            "Using 2 dataloader workers\n",
            "Logging results to \u001b[1mruns/detect/paper_plastic_model\u001b[0m\n",
            "Starting training for 10 epochs...\n",
            "Closing dataloader mosaic\n",
            "\u001b[34m\u001b[1malbumentations: \u001b[0mBlur(p=0.01, blur_limit=(3, 7)), MedianBlur(p=0.01, blur_limit=(3, 7)), ToGray(p=0.01, num_output_channels=3, method='weighted_average'), CLAHE(p=0.01, clip_limit=(1.0, 4.0), tile_grid_size=(8, 8))\n",
            "\n",
            "      Epoch    GPU_mem   box_loss   cls_loss   dfl_loss  Instances       Size\n"
          ]
        },
        {
          "name": "stderr",
          "output_type": "stream",
          "text": [
            "       1/10       2.2G     0.9342      2.118      1.394         12        640: 100%|██████████| 243/243 [02:01<00:00,  1.99it/s]\n",
            "                 Class     Images  Instances      Box(P          R      mAP50  mAP50-95): 100%|██████████| 35/35 [00:17<00:00,  2.01it/s]\n"
          ]
        },
        {
          "name": "stdout",
          "output_type": "stream",
          "text": [
            "                   all       1107       1607      0.667      0.567      0.604      0.402\n",
            "\n",
            "      Epoch    GPU_mem   box_loss   cls_loss   dfl_loss  Instances       Size\n"
          ]
        },
        {
          "name": "stderr",
          "output_type": "stream",
          "text": [
            "       2/10      2.16G      1.087      1.569      1.516          9        640: 100%|██████████| 243/243 [02:30<00:00,  1.62it/s]\n",
            "                 Class     Images  Instances      Box(P          R      mAP50  mAP50-95): 100%|██████████| 35/35 [00:16<00:00,  2.15it/s]\n"
          ]
        },
        {
          "name": "stdout",
          "output_type": "stream",
          "text": [
            "                   all       1107       1607      0.597      0.559      0.617      0.408\n",
            "\n",
            "      Epoch    GPU_mem   box_loss   cls_loss   dfl_loss  Instances       Size\n"
          ]
        },
        {
          "name": "stderr",
          "output_type": "stream",
          "text": [
            "       3/10      2.16G      1.067      1.334      1.495         14        640: 100%|██████████| 243/243 [01:58<00:00,  2.05it/s]\n",
            "                 Class     Images  Instances      Box(P          R      mAP50  mAP50-95): 100%|██████████| 35/35 [00:15<00:00,  2.20it/s]"
          ]
        },
        {
          "name": "stdout",
          "output_type": "stream",
          "text": [
            "                   all       1107       1607      0.701      0.568      0.628      0.416\n"
          ]
        },
        {
          "name": "stderr",
          "output_type": "stream",
          "text": [
            "\n"
          ]
        },
        {
          "name": "stdout",
          "output_type": "stream",
          "text": [
            "\n",
            "      Epoch    GPU_mem   box_loss   cls_loss   dfl_loss  Instances       Size\n"
          ]
        },
        {
          "name": "stderr",
          "output_type": "stream",
          "text": [
            "       4/10      2.15G      1.008      1.186      1.451         17        640: 100%|██████████| 243/243 [02:00<00:00,  2.01it/s]\n",
            "                 Class     Images  Instances      Box(P          R      mAP50  mAP50-95): 100%|██████████| 35/35 [00:15<00:00,  2.19it/s]"
          ]
        },
        {
          "name": "stdout",
          "output_type": "stream",
          "text": [
            "                   all       1107       1607      0.697      0.636      0.695      0.506\n"
          ]
        },
        {
          "name": "stderr",
          "output_type": "stream",
          "text": [
            "\n"
          ]
        },
        {
          "name": "stdout",
          "output_type": "stream",
          "text": [
            "\n",
            "      Epoch    GPU_mem   box_loss   cls_loss   dfl_loss  Instances       Size\n"
          ]
        },
        {
          "name": "stderr",
          "output_type": "stream",
          "text": [
            "       5/10      2.17G     0.9332      1.042      1.394          9        640: 100%|██████████| 243/243 [01:59<00:00,  2.04it/s]\n",
            "                 Class     Images  Instances      Box(P          R      mAP50  mAP50-95): 100%|██████████| 35/35 [00:15<00:00,  2.28it/s]"
          ]
        },
        {
          "name": "stdout",
          "output_type": "stream",
          "text": [
            "                   all       1107       1607      0.811      0.677      0.769       0.57\n"
          ]
        },
        {
          "name": "stderr",
          "output_type": "stream",
          "text": [
            "\n"
          ]
        },
        {
          "name": "stdout",
          "output_type": "stream",
          "text": [
            "\n",
            "      Epoch    GPU_mem   box_loss   cls_loss   dfl_loss  Instances       Size\n"
          ]
        },
        {
          "name": "stderr",
          "output_type": "stream",
          "text": [
            "       6/10      2.17G     0.8804     0.9363      1.344         12        640: 100%|██████████| 243/243 [02:00<00:00,  2.01it/s]\n",
            "                 Class     Images  Instances      Box(P          R      mAP50  mAP50-95): 100%|██████████| 35/35 [00:15<00:00,  2.25it/s]\n"
          ]
        },
        {
          "name": "stdout",
          "output_type": "stream",
          "text": [
            "                   all       1107       1607      0.858      0.692      0.789      0.592\n",
            "\n",
            "      Epoch    GPU_mem   box_loss   cls_loss   dfl_loss  Instances       Size\n"
          ]
        },
        {
          "name": "stderr",
          "output_type": "stream",
          "text": [
            "       7/10      2.15G     0.8352     0.8619      1.301          9        640: 100%|██████████| 243/243 [02:00<00:00,  2.01it/s]\n",
            "                 Class     Images  Instances      Box(P          R      mAP50  mAP50-95): 100%|██████████| 35/35 [00:15<00:00,  2.21it/s]\n"
          ]
        },
        {
          "name": "stdout",
          "output_type": "stream",
          "text": [
            "                   all       1107       1607       0.85      0.732      0.807      0.616\n",
            "\n",
            "      Epoch    GPU_mem   box_loss   cls_loss   dfl_loss  Instances       Size\n"
          ]
        },
        {
          "name": "stderr",
          "output_type": "stream",
          "text": [
            "       8/10      2.15G      0.792     0.7945      1.272         10        640: 100%|██████████| 243/243 [02:01<00:00,  2.00it/s]\n",
            "                 Class     Images  Instances      Box(P          R      mAP50  mAP50-95): 100%|██████████| 35/35 [00:16<00:00,  2.10it/s]"
          ]
        },
        {
          "name": "stdout",
          "output_type": "stream",
          "text": [
            "                   all       1107       1607      0.807        0.7      0.785      0.606\n"
          ]
        },
        {
          "name": "stderr",
          "output_type": "stream",
          "text": [
            "\n"
          ]
        },
        {
          "name": "stdout",
          "output_type": "stream",
          "text": [
            "\n",
            "      Epoch    GPU_mem   box_loss   cls_loss   dfl_loss  Instances       Size\n"
          ]
        },
        {
          "name": "stderr",
          "output_type": "stream",
          "text": [
            "       9/10      2.15G     0.7424     0.7235      1.225         14        640: 100%|██████████| 243/243 [02:01<00:00,  2.01it/s]\n",
            "                 Class     Images  Instances      Box(P          R      mAP50  mAP50-95): 100%|██████████| 35/35 [00:15<00:00,  2.26it/s]"
          ]
        },
        {
          "name": "stdout",
          "output_type": "stream",
          "text": [
            "                   all       1107       1607      0.838      0.762      0.844      0.664\n"
          ]
        },
        {
          "name": "stderr",
          "output_type": "stream",
          "text": [
            "\n"
          ]
        },
        {
          "name": "stdout",
          "output_type": "stream",
          "text": [
            "\n",
            "      Epoch    GPU_mem   box_loss   cls_loss   dfl_loss  Instances       Size\n"
          ]
        },
        {
          "name": "stderr",
          "output_type": "stream",
          "text": [
            "      10/10      2.15G     0.6961     0.6583      1.184         12        640: 100%|██████████| 243/243 [01:59<00:00,  2.03it/s]\n",
            "                 Class     Images  Instances      Box(P          R      mAP50  mAP50-95): 100%|██████████| 35/35 [00:16<00:00,  2.12it/s]"
          ]
        },
        {
          "name": "stdout",
          "output_type": "stream",
          "text": [
            "                   all       1107       1607      0.883      0.777       0.86      0.686\n"
          ]
        },
        {
          "name": "stderr",
          "output_type": "stream",
          "text": [
            "\n"
          ]
        },
        {
          "name": "stdout",
          "output_type": "stream",
          "text": [
            "\n",
            "10 epochs completed in 0.395 hours.\n",
            "Optimizer stripped from runs/detect/paper_plastic_model/weights/last.pt, 6.2MB\n",
            "Optimizer stripped from runs/detect/paper_plastic_model/weights/best.pt, 6.2MB\n",
            "\n",
            "Validating runs/detect/paper_plastic_model/weights/best.pt...\n",
            "Ultralytics 8.3.59 🚀 Python-3.10.12 torch-2.5.1+cu121 CUDA:0 (Tesla T4, 15102MiB)\n",
            "Model summary (fused): 168 layers, 3,006,038 parameters, 0 gradients, 8.1 GFLOPs\n"
          ]
        },
        {
          "name": "stderr",
          "output_type": "stream",
          "text": [
            "                 Class     Images  Instances      Box(P          R      mAP50  mAP50-95): 100%|██████████| 35/35 [00:22<00:00,  1.54it/s]\n"
          ]
        },
        {
          "name": "stdout",
          "output_type": "stream",
          "text": [
            "                   all       1107       1607      0.883      0.777       0.86      0.685\n",
            "                 paper        386        534      0.853      0.665      0.782      0.597\n",
            "        plastic bottle        722       1073      0.914      0.889      0.938      0.773\n",
            "Speed: 0.2ms preprocess, 2.1ms inference, 0.0ms loss, 1.8ms postprocess per image\n",
            "Results saved to \u001b[1mruns/detect/paper_plastic_model\u001b[0m\n",
            "Training complete! Checkpoints are saved in:\n",
            "runs/detect/yolov8n.pt\n"
          ]
        }
      ],
      "source": [
        "from ultralytics import YOLO\n",
        "\n",
        "# Initialize YOLOv8 model\n",
        "model = YOLO(\"yolov8n.pt\")\n",
        "\n",
        "# Train the model\n",
        "results = model.train(\n",
        "    data=\"/content/computer_vision/data.yaml\",\n",
        "    epochs=10,\n",
        "    batch=16,\n",
        "    imgsz=640,\n",
        "    name=\"paper_plastic_model\"\n",
        ")\n",
        "\n",
        "# Confirm training completion\n",
        "print(\"Training complete! Checkpoints are saved in:\")\n",
        "print(f\"runs/detect/{model.model_name}\")\n"
      ]
    },
    {
      "cell_type": "code",
      "execution_count": null,
      "metadata": {
        "colab": {
          "base_uri": "https://localhost:8080/"
        },
        "id": "IW3TLPX6_UY4",
        "outputId": "ee819bc4-755d-42aa-8f4b-671c99b86d53"
      },
      "outputs": [
        {
          "name": "stdout",
          "output_type": "stream",
          "text": [
            "Ultralytics 8.3.59 🚀 Python-3.10.12 torch-2.5.1+cu121 CUDA:0 (Tesla T4, 15102MiB)\n",
            "Model summary (fused): 168 layers, 3,006,038 parameters, 0 gradients, 8.1 GFLOPs\n"
          ]
        },
        {
          "name": "stderr",
          "output_type": "stream",
          "text": [
            "\u001b[34m\u001b[1mval: \u001b[0mScanning /content/computer_vision/valid/labels.cache... 1107 images, 0 backgrounds, 0 corrupt: 100%|██████████| 1107/1107 [00:00<?, ?it/s]"
          ]
        },
        {
          "name": "stdout",
          "output_type": "stream",
          "text": [
            "WARNING ⚠️ Box and segment counts should be equal, but got len(segments) = 188, len(boxes) = 1607. To resolve this only boxes will be used and all segments will be removed. To avoid this please supply either a detect or segment dataset, not a detect-segment mixed dataset.\n"
          ]
        },
        {
          "name": "stderr",
          "output_type": "stream",
          "text": [
            "\n",
            "                 Class     Images  Instances      Box(P          R      mAP50  mAP50-95): 100%|██████████| 70/70 [00:24<00:00,  2.90it/s]\n"
          ]
        },
        {
          "name": "stdout",
          "output_type": "stream",
          "text": [
            "                   all       1107       1607      0.886      0.773      0.861      0.686\n",
            "                 paper        386        534      0.856      0.659      0.784      0.599\n",
            "        plastic bottle        722       1073      0.915      0.887      0.938      0.774\n",
            "Speed: 0.3ms preprocess, 4.4ms inference, 0.0ms loss, 1.9ms postprocess per image\n",
            "Results saved to \u001b[1mruns/detect/val\u001b[0m\n",
            "Validation Results: ultralytics.utils.metrics.DetMetrics object with attributes:\n",
            "\n",
            "ap_class_index: array([0, 1])\n",
            "box: ultralytics.utils.metrics.Metric object\n",
            "confusion_matrix: <ultralytics.utils.metrics.ConfusionMatrix object at 0x7a33dc703340>\n",
            "curves: ['Precision-Recall(B)', 'F1-Confidence(B)', 'Precision-Confidence(B)', 'Recall-Confidence(B)']\n",
            "curves_results: [[array([          0,    0.001001,    0.002002,    0.003003,    0.004004,    0.005005,    0.006006,    0.007007,    0.008008,    0.009009,     0.01001,    0.011011,    0.012012,    0.013013,    0.014014,    0.015015,    0.016016,    0.017017,    0.018018,    0.019019,     0.02002,    0.021021,    0.022022,    0.023023,\n",
            "          0.024024,    0.025025,    0.026026,    0.027027,    0.028028,    0.029029,     0.03003,    0.031031,    0.032032,    0.033033,    0.034034,    0.035035,    0.036036,    0.037037,    0.038038,    0.039039,     0.04004,    0.041041,    0.042042,    0.043043,    0.044044,    0.045045,    0.046046,    0.047047,\n",
            "          0.048048,    0.049049,     0.05005,    0.051051,    0.052052,    0.053053,    0.054054,    0.055055,    0.056056,    0.057057,    0.058058,    0.059059,     0.06006,    0.061061,    0.062062,    0.063063,    0.064064,    0.065065,    0.066066,    0.067067,    0.068068,    0.069069,     0.07007,    0.071071,\n",
            "          0.072072,    0.073073,    0.074074,    0.075075,    0.076076,    0.077077,    0.078078,    0.079079,     0.08008,    0.081081,    0.082082,    0.083083,    0.084084,    0.085085,    0.086086,    0.087087,    0.088088,    0.089089,     0.09009,    0.091091,    0.092092,    0.093093,    0.094094,    0.095095,\n",
            "          0.096096,    0.097097,    0.098098,    0.099099,      0.1001,      0.1011,      0.1021,      0.1031,      0.1041,     0.10511,     0.10611,     0.10711,     0.10811,     0.10911,     0.11011,     0.11111,     0.11211,     0.11311,     0.11411,     0.11512,     0.11612,     0.11712,     0.11812,     0.11912,\n",
            "           0.12012,     0.12112,     0.12212,     0.12312,     0.12412,     0.12513,     0.12613,     0.12713,     0.12813,     0.12913,     0.13013,     0.13113,     0.13213,     0.13313,     0.13413,     0.13514,     0.13614,     0.13714,     0.13814,     0.13914,     0.14014,     0.14114,     0.14214,     0.14314,\n",
            "           0.14414,     0.14515,     0.14615,     0.14715,     0.14815,     0.14915,     0.15015,     0.15115,     0.15215,     0.15315,     0.15415,     0.15516,     0.15616,     0.15716,     0.15816,     0.15916,     0.16016,     0.16116,     0.16216,     0.16316,     0.16416,     0.16517,     0.16617,     0.16717,\n",
            "           0.16817,     0.16917,     0.17017,     0.17117,     0.17217,     0.17317,     0.17417,     0.17518,     0.17618,     0.17718,     0.17818,     0.17918,     0.18018,     0.18118,     0.18218,     0.18318,     0.18418,     0.18519,     0.18619,     0.18719,     0.18819,     0.18919,     0.19019,     0.19119,\n",
            "           0.19219,     0.19319,     0.19419,      0.1952,      0.1962,      0.1972,      0.1982,      0.1992,      0.2002,      0.2012,      0.2022,      0.2032,      0.2042,     0.20521,     0.20621,     0.20721,     0.20821,     0.20921,     0.21021,     0.21121,     0.21221,     0.21321,     0.21421,     0.21522,\n",
            "           0.21622,     0.21722,     0.21822,     0.21922,     0.22022,     0.22122,     0.22222,     0.22322,     0.22422,     0.22523,     0.22623,     0.22723,     0.22823,     0.22923,     0.23023,     0.23123,     0.23223,     0.23323,     0.23423,     0.23524,     0.23624,     0.23724,     0.23824,     0.23924,\n",
            "           0.24024,     0.24124,     0.24224,     0.24324,     0.24424,     0.24525,     0.24625,     0.24725,     0.24825,     0.24925,     0.25025,     0.25125,     0.25225,     0.25325,     0.25425,     0.25526,     0.25626,     0.25726,     0.25826,     0.25926,     0.26026,     0.26126,     0.26226,     0.26326,\n",
            "           0.26426,     0.26527,     0.26627,     0.26727,     0.26827,     0.26927,     0.27027,     0.27127,     0.27227,     0.27327,     0.27427,     0.27528,     0.27628,     0.27728,     0.27828,     0.27928,     0.28028,     0.28128,     0.28228,     0.28328,     0.28428,     0.28529,     0.28629,     0.28729,\n",
            "           0.28829,     0.28929,     0.29029,     0.29129,     0.29229,     0.29329,     0.29429,      0.2953,      0.2963,      0.2973,      0.2983,      0.2993,      0.3003,      0.3013,      0.3023,      0.3033,      0.3043,     0.30531,     0.30631,     0.30731,     0.30831,     0.30931,     0.31031,     0.31131,\n",
            "           0.31231,     0.31331,     0.31431,     0.31532,     0.31632,     0.31732,     0.31832,     0.31932,     0.32032,     0.32132,     0.32232,     0.32332,     0.32432,     0.32533,     0.32633,     0.32733,     0.32833,     0.32933,     0.33033,     0.33133,     0.33233,     0.33333,     0.33433,     0.33534,\n",
            "           0.33634,     0.33734,     0.33834,     0.33934,     0.34034,     0.34134,     0.34234,     0.34334,     0.34434,     0.34535,     0.34635,     0.34735,     0.34835,     0.34935,     0.35035,     0.35135,     0.35235,     0.35335,     0.35435,     0.35536,     0.35636,     0.35736,     0.35836,     0.35936,\n",
            "           0.36036,     0.36136,     0.36236,     0.36336,     0.36436,     0.36537,     0.36637,     0.36737,     0.36837,     0.36937,     0.37037,     0.37137,     0.37237,     0.37337,     0.37437,     0.37538,     0.37638,     0.37738,     0.37838,     0.37938,     0.38038,     0.38138,     0.38238,     0.38338,\n",
            "           0.38438,     0.38539,     0.38639,     0.38739,     0.38839,     0.38939,     0.39039,     0.39139,     0.39239,     0.39339,     0.39439,      0.3954,      0.3964,      0.3974,      0.3984,      0.3994,      0.4004,      0.4014,      0.4024,      0.4034,      0.4044,     0.40541,     0.40641,     0.40741,\n",
            "           0.40841,     0.40941,     0.41041,     0.41141,     0.41241,     0.41341,     0.41441,     0.41542,     0.41642,     0.41742,     0.41842,     0.41942,     0.42042,     0.42142,     0.42242,     0.42342,     0.42442,     0.42543,     0.42643,     0.42743,     0.42843,     0.42943,     0.43043,     0.43143,\n",
            "           0.43243,     0.43343,     0.43443,     0.43544,     0.43644,     0.43744,     0.43844,     0.43944,     0.44044,     0.44144,     0.44244,     0.44344,     0.44444,     0.44545,     0.44645,     0.44745,     0.44845,     0.44945,     0.45045,     0.45145,     0.45245,     0.45345,     0.45445,     0.45546,\n",
            "           0.45646,     0.45746,     0.45846,     0.45946,     0.46046,     0.46146,     0.46246,     0.46346,     0.46446,     0.46547,     0.46647,     0.46747,     0.46847,     0.46947,     0.47047,     0.47147,     0.47247,     0.47347,     0.47447,     0.47548,     0.47648,     0.47748,     0.47848,     0.47948,\n",
            "           0.48048,     0.48148,     0.48248,     0.48348,     0.48448,     0.48549,     0.48649,     0.48749,     0.48849,     0.48949,     0.49049,     0.49149,     0.49249,     0.49349,     0.49449,      0.4955,      0.4965,      0.4975,      0.4985,      0.4995,      0.5005,      0.5015,      0.5025,      0.5035,\n",
            "            0.5045,     0.50551,     0.50651,     0.50751,     0.50851,     0.50951,     0.51051,     0.51151,     0.51251,     0.51351,     0.51451,     0.51552,     0.51652,     0.51752,     0.51852,     0.51952,     0.52052,     0.52152,     0.52252,     0.52352,     0.52452,     0.52553,     0.52653,     0.52753,\n",
            "           0.52853,     0.52953,     0.53053,     0.53153,     0.53253,     0.53353,     0.53453,     0.53554,     0.53654,     0.53754,     0.53854,     0.53954,     0.54054,     0.54154,     0.54254,     0.54354,     0.54454,     0.54555,     0.54655,     0.54755,     0.54855,     0.54955,     0.55055,     0.55155,\n",
            "           0.55255,     0.55355,     0.55455,     0.55556,     0.55656,     0.55756,     0.55856,     0.55956,     0.56056,     0.56156,     0.56256,     0.56356,     0.56456,     0.56557,     0.56657,     0.56757,     0.56857,     0.56957,     0.57057,     0.57157,     0.57257,     0.57357,     0.57457,     0.57558,\n",
            "           0.57658,     0.57758,     0.57858,     0.57958,     0.58058,     0.58158,     0.58258,     0.58358,     0.58458,     0.58559,     0.58659,     0.58759,     0.58859,     0.58959,     0.59059,     0.59159,     0.59259,     0.59359,     0.59459,      0.5956,      0.5966,      0.5976,      0.5986,      0.5996,\n",
            "            0.6006,      0.6016,      0.6026,      0.6036,      0.6046,     0.60561,     0.60661,     0.60761,     0.60861,     0.60961,     0.61061,     0.61161,     0.61261,     0.61361,     0.61461,     0.61562,     0.61662,     0.61762,     0.61862,     0.61962,     0.62062,     0.62162,     0.62262,     0.62362,\n",
            "           0.62462,     0.62563,     0.62663,     0.62763,     0.62863,     0.62963,     0.63063,     0.63163,     0.63263,     0.63363,     0.63463,     0.63564,     0.63664,     0.63764,     0.63864,     0.63964,     0.64064,     0.64164,     0.64264,     0.64364,     0.64464,     0.64565,     0.64665,     0.64765,\n",
            "           0.64865,     0.64965,     0.65065,     0.65165,     0.65265,     0.65365,     0.65465,     0.65566,     0.65666,     0.65766,     0.65866,     0.65966,     0.66066,     0.66166,     0.66266,     0.66366,     0.66466,     0.66567,     0.66667,     0.66767,     0.66867,     0.66967,     0.67067,     0.67167,\n",
            "           0.67267,     0.67367,     0.67467,     0.67568,     0.67668,     0.67768,     0.67868,     0.67968,     0.68068,     0.68168,     0.68268,     0.68368,     0.68468,     0.68569,     0.68669,     0.68769,     0.68869,     0.68969,     0.69069,     0.69169,     0.69269,     0.69369,     0.69469,      0.6957,\n",
            "            0.6967,      0.6977,      0.6987,      0.6997,      0.7007,      0.7017,      0.7027,      0.7037,      0.7047,     0.70571,     0.70671,     0.70771,     0.70871,     0.70971,     0.71071,     0.71171,     0.71271,     0.71371,     0.71471,     0.71572,     0.71672,     0.71772,     0.71872,     0.71972,\n",
            "           0.72072,     0.72172,     0.72272,     0.72372,     0.72472,     0.72573,     0.72673,     0.72773,     0.72873,     0.72973,     0.73073,     0.73173,     0.73273,     0.73373,     0.73473,     0.73574,     0.73674,     0.73774,     0.73874,     0.73974,     0.74074,     0.74174,     0.74274,     0.74374,\n",
            "           0.74474,     0.74575,     0.74675,     0.74775,     0.74875,     0.74975,     0.75075,     0.75175,     0.75275,     0.75375,     0.75475,     0.75576,     0.75676,     0.75776,     0.75876,     0.75976,     0.76076,     0.76176,     0.76276,     0.76376,     0.76476,     0.76577,     0.76677,     0.76777,\n",
            "           0.76877,     0.76977,     0.77077,     0.77177,     0.77277,     0.77377,     0.77477,     0.77578,     0.77678,     0.77778,     0.77878,     0.77978,     0.78078,     0.78178,     0.78278,     0.78378,     0.78478,     0.78579,     0.78679,     0.78779,     0.78879,     0.78979,     0.79079,     0.79179,\n",
            "           0.79279,     0.79379,     0.79479,      0.7958,      0.7968,      0.7978,      0.7988,      0.7998,      0.8008,      0.8018,      0.8028,      0.8038,      0.8048,     0.80581,     0.80681,     0.80781,     0.80881,     0.80981,     0.81081,     0.81181,     0.81281,     0.81381,     0.81481,     0.81582,\n",
            "           0.81682,     0.81782,     0.81882,     0.81982,     0.82082,     0.82182,     0.82282,     0.82382,     0.82482,     0.82583,     0.82683,     0.82783,     0.82883,     0.82983,     0.83083,     0.83183,     0.83283,     0.83383,     0.83483,     0.83584,     0.83684,     0.83784,     0.83884,     0.83984,\n",
            "           0.84084,     0.84184,     0.84284,     0.84384,     0.84484,     0.84585,     0.84685,     0.84785,     0.84885,     0.84985,     0.85085,     0.85185,     0.85285,     0.85385,     0.85485,     0.85586,     0.85686,     0.85786,     0.85886,     0.85986,     0.86086,     0.86186,     0.86286,     0.86386,\n",
            "           0.86486,     0.86587,     0.86687,     0.86787,     0.86887,     0.86987,     0.87087,     0.87187,     0.87287,     0.87387,     0.87487,     0.87588,     0.87688,     0.87788,     0.87888,     0.87988,     0.88088,     0.88188,     0.88288,     0.88388,     0.88488,     0.88589,     0.88689,     0.88789,\n",
            "           0.88889,     0.88989,     0.89089,     0.89189,     0.89289,     0.89389,     0.89489,      0.8959,      0.8969,      0.8979,      0.8989,      0.8999,      0.9009,      0.9019,      0.9029,      0.9039,      0.9049,     0.90591,     0.90691,     0.90791,     0.90891,     0.90991,     0.91091,     0.91191,\n",
            "           0.91291,     0.91391,     0.91491,     0.91592,     0.91692,     0.91792,     0.91892,     0.91992,     0.92092,     0.92192,     0.92292,     0.92392,     0.92492,     0.92593,     0.92693,     0.92793,     0.92893,     0.92993,     0.93093,     0.93193,     0.93293,     0.93393,     0.93493,     0.93594,\n",
            "           0.93694,     0.93794,     0.93894,     0.93994,     0.94094,     0.94194,     0.94294,     0.94394,     0.94494,     0.94595,     0.94695,     0.94795,     0.94895,     0.94995,     0.95095,     0.95195,     0.95295,     0.95395,     0.95495,     0.95596,     0.95696,     0.95796,     0.95896,     0.95996,\n",
            "           0.96096,     0.96196,     0.96296,     0.96396,     0.96496,     0.96597,     0.96697,     0.96797,     0.96897,     0.96997,     0.97097,     0.97197,     0.97297,     0.97397,     0.97497,     0.97598,     0.97698,     0.97798,     0.97898,     0.97998,     0.98098,     0.98198,     0.98298,     0.98398,\n",
            "           0.98498,     0.98599,     0.98699,     0.98799,     0.98899,     0.98999,     0.99099,     0.99199,     0.99299,     0.99399,     0.99499,       0.996,       0.997,       0.998,       0.999,           1]), array([[          1,           1,           1, ...,   0.0047083,   0.0023541,           0],\n",
            "       [          1,           1,           1, ...,    0.010932,   0.0054662,           0]]), 'Recall', 'Precision'], [array([          0,    0.001001,    0.002002,    0.003003,    0.004004,    0.005005,    0.006006,    0.007007,    0.008008,    0.009009,     0.01001,    0.011011,    0.012012,    0.013013,    0.014014,    0.015015,    0.016016,    0.017017,    0.018018,    0.019019,     0.02002,    0.021021,    0.022022,    0.023023,\n",
            "          0.024024,    0.025025,    0.026026,    0.027027,    0.028028,    0.029029,     0.03003,    0.031031,    0.032032,    0.033033,    0.034034,    0.035035,    0.036036,    0.037037,    0.038038,    0.039039,     0.04004,    0.041041,    0.042042,    0.043043,    0.044044,    0.045045,    0.046046,    0.047047,\n",
            "          0.048048,    0.049049,     0.05005,    0.051051,    0.052052,    0.053053,    0.054054,    0.055055,    0.056056,    0.057057,    0.058058,    0.059059,     0.06006,    0.061061,    0.062062,    0.063063,    0.064064,    0.065065,    0.066066,    0.067067,    0.068068,    0.069069,     0.07007,    0.071071,\n",
            "          0.072072,    0.073073,    0.074074,    0.075075,    0.076076,    0.077077,    0.078078,    0.079079,     0.08008,    0.081081,    0.082082,    0.083083,    0.084084,    0.085085,    0.086086,    0.087087,    0.088088,    0.089089,     0.09009,    0.091091,    0.092092,    0.093093,    0.094094,    0.095095,\n",
            "          0.096096,    0.097097,    0.098098,    0.099099,      0.1001,      0.1011,      0.1021,      0.1031,      0.1041,     0.10511,     0.10611,     0.10711,     0.10811,     0.10911,     0.11011,     0.11111,     0.11211,     0.11311,     0.11411,     0.11512,     0.11612,     0.11712,     0.11812,     0.11912,\n",
            "           0.12012,     0.12112,     0.12212,     0.12312,     0.12412,     0.12513,     0.12613,     0.12713,     0.12813,     0.12913,     0.13013,     0.13113,     0.13213,     0.13313,     0.13413,     0.13514,     0.13614,     0.13714,     0.13814,     0.13914,     0.14014,     0.14114,     0.14214,     0.14314,\n",
            "           0.14414,     0.14515,     0.14615,     0.14715,     0.14815,     0.14915,     0.15015,     0.15115,     0.15215,     0.15315,     0.15415,     0.15516,     0.15616,     0.15716,     0.15816,     0.15916,     0.16016,     0.16116,     0.16216,     0.16316,     0.16416,     0.16517,     0.16617,     0.16717,\n",
            "           0.16817,     0.16917,     0.17017,     0.17117,     0.17217,     0.17317,     0.17417,     0.17518,     0.17618,     0.17718,     0.17818,     0.17918,     0.18018,     0.18118,     0.18218,     0.18318,     0.18418,     0.18519,     0.18619,     0.18719,     0.18819,     0.18919,     0.19019,     0.19119,\n",
            "           0.19219,     0.19319,     0.19419,      0.1952,      0.1962,      0.1972,      0.1982,      0.1992,      0.2002,      0.2012,      0.2022,      0.2032,      0.2042,     0.20521,     0.20621,     0.20721,     0.20821,     0.20921,     0.21021,     0.21121,     0.21221,     0.21321,     0.21421,     0.21522,\n",
            "           0.21622,     0.21722,     0.21822,     0.21922,     0.22022,     0.22122,     0.22222,     0.22322,     0.22422,     0.22523,     0.22623,     0.22723,     0.22823,     0.22923,     0.23023,     0.23123,     0.23223,     0.23323,     0.23423,     0.23524,     0.23624,     0.23724,     0.23824,     0.23924,\n",
            "           0.24024,     0.24124,     0.24224,     0.24324,     0.24424,     0.24525,     0.24625,     0.24725,     0.24825,     0.24925,     0.25025,     0.25125,     0.25225,     0.25325,     0.25425,     0.25526,     0.25626,     0.25726,     0.25826,     0.25926,     0.26026,     0.26126,     0.26226,     0.26326,\n",
            "           0.26426,     0.26527,     0.26627,     0.26727,     0.26827,     0.26927,     0.27027,     0.27127,     0.27227,     0.27327,     0.27427,     0.27528,     0.27628,     0.27728,     0.27828,     0.27928,     0.28028,     0.28128,     0.28228,     0.28328,     0.28428,     0.28529,     0.28629,     0.28729,\n",
            "           0.28829,     0.28929,     0.29029,     0.29129,     0.29229,     0.29329,     0.29429,      0.2953,      0.2963,      0.2973,      0.2983,      0.2993,      0.3003,      0.3013,      0.3023,      0.3033,      0.3043,     0.30531,     0.30631,     0.30731,     0.30831,     0.30931,     0.31031,     0.31131,\n",
            "           0.31231,     0.31331,     0.31431,     0.31532,     0.31632,     0.31732,     0.31832,     0.31932,     0.32032,     0.32132,     0.32232,     0.32332,     0.32432,     0.32533,     0.32633,     0.32733,     0.32833,     0.32933,     0.33033,     0.33133,     0.33233,     0.33333,     0.33433,     0.33534,\n",
            "           0.33634,     0.33734,     0.33834,     0.33934,     0.34034,     0.34134,     0.34234,     0.34334,     0.34434,     0.34535,     0.34635,     0.34735,     0.34835,     0.34935,     0.35035,     0.35135,     0.35235,     0.35335,     0.35435,     0.35536,     0.35636,     0.35736,     0.35836,     0.35936,\n",
            "           0.36036,     0.36136,     0.36236,     0.36336,     0.36436,     0.36537,     0.36637,     0.36737,     0.36837,     0.36937,     0.37037,     0.37137,     0.37237,     0.37337,     0.37437,     0.37538,     0.37638,     0.37738,     0.37838,     0.37938,     0.38038,     0.38138,     0.38238,     0.38338,\n",
            "           0.38438,     0.38539,     0.38639,     0.38739,     0.38839,     0.38939,     0.39039,     0.39139,     0.39239,     0.39339,     0.39439,      0.3954,      0.3964,      0.3974,      0.3984,      0.3994,      0.4004,      0.4014,      0.4024,      0.4034,      0.4044,     0.40541,     0.40641,     0.40741,\n",
            "           0.40841,     0.40941,     0.41041,     0.41141,     0.41241,     0.41341,     0.41441,     0.41542,     0.41642,     0.41742,     0.41842,     0.41942,     0.42042,     0.42142,     0.42242,     0.42342,     0.42442,     0.42543,     0.42643,     0.42743,     0.42843,     0.42943,     0.43043,     0.43143,\n",
            "           0.43243,     0.43343,     0.43443,     0.43544,     0.43644,     0.43744,     0.43844,     0.43944,     0.44044,     0.44144,     0.44244,     0.44344,     0.44444,     0.44545,     0.44645,     0.44745,     0.44845,     0.44945,     0.45045,     0.45145,     0.45245,     0.45345,     0.45445,     0.45546,\n",
            "           0.45646,     0.45746,     0.45846,     0.45946,     0.46046,     0.46146,     0.46246,     0.46346,     0.46446,     0.46547,     0.46647,     0.46747,     0.46847,     0.46947,     0.47047,     0.47147,     0.47247,     0.47347,     0.47447,     0.47548,     0.47648,     0.47748,     0.47848,     0.47948,\n",
            "           0.48048,     0.48148,     0.48248,     0.48348,     0.48448,     0.48549,     0.48649,     0.48749,     0.48849,     0.48949,     0.49049,     0.49149,     0.49249,     0.49349,     0.49449,      0.4955,      0.4965,      0.4975,      0.4985,      0.4995,      0.5005,      0.5015,      0.5025,      0.5035,\n",
            "            0.5045,     0.50551,     0.50651,     0.50751,     0.50851,     0.50951,     0.51051,     0.51151,     0.51251,     0.51351,     0.51451,     0.51552,     0.51652,     0.51752,     0.51852,     0.51952,     0.52052,     0.52152,     0.52252,     0.52352,     0.52452,     0.52553,     0.52653,     0.52753,\n",
            "           0.52853,     0.52953,     0.53053,     0.53153,     0.53253,     0.53353,     0.53453,     0.53554,     0.53654,     0.53754,     0.53854,     0.53954,     0.54054,     0.54154,     0.54254,     0.54354,     0.54454,     0.54555,     0.54655,     0.54755,     0.54855,     0.54955,     0.55055,     0.55155,\n",
            "           0.55255,     0.55355,     0.55455,     0.55556,     0.55656,     0.55756,     0.55856,     0.55956,     0.56056,     0.56156,     0.56256,     0.56356,     0.56456,     0.56557,     0.56657,     0.56757,     0.56857,     0.56957,     0.57057,     0.57157,     0.57257,     0.57357,     0.57457,     0.57558,\n",
            "           0.57658,     0.57758,     0.57858,     0.57958,     0.58058,     0.58158,     0.58258,     0.58358,     0.58458,     0.58559,     0.58659,     0.58759,     0.58859,     0.58959,     0.59059,     0.59159,     0.59259,     0.59359,     0.59459,      0.5956,      0.5966,      0.5976,      0.5986,      0.5996,\n",
            "            0.6006,      0.6016,      0.6026,      0.6036,      0.6046,     0.60561,     0.60661,     0.60761,     0.60861,     0.60961,     0.61061,     0.61161,     0.61261,     0.61361,     0.61461,     0.61562,     0.61662,     0.61762,     0.61862,     0.61962,     0.62062,     0.62162,     0.62262,     0.62362,\n",
            "           0.62462,     0.62563,     0.62663,     0.62763,     0.62863,     0.62963,     0.63063,     0.63163,     0.63263,     0.63363,     0.63463,     0.63564,     0.63664,     0.63764,     0.63864,     0.63964,     0.64064,     0.64164,     0.64264,     0.64364,     0.64464,     0.64565,     0.64665,     0.64765,\n",
            "           0.64865,     0.64965,     0.65065,     0.65165,     0.65265,     0.65365,     0.65465,     0.65566,     0.65666,     0.65766,     0.65866,     0.65966,     0.66066,     0.66166,     0.66266,     0.66366,     0.66466,     0.66567,     0.66667,     0.66767,     0.66867,     0.66967,     0.67067,     0.67167,\n",
            "           0.67267,     0.67367,     0.67467,     0.67568,     0.67668,     0.67768,     0.67868,     0.67968,     0.68068,     0.68168,     0.68268,     0.68368,     0.68468,     0.68569,     0.68669,     0.68769,     0.68869,     0.68969,     0.69069,     0.69169,     0.69269,     0.69369,     0.69469,      0.6957,\n",
            "            0.6967,      0.6977,      0.6987,      0.6997,      0.7007,      0.7017,      0.7027,      0.7037,      0.7047,     0.70571,     0.70671,     0.70771,     0.70871,     0.70971,     0.71071,     0.71171,     0.71271,     0.71371,     0.71471,     0.71572,     0.71672,     0.71772,     0.71872,     0.71972,\n",
            "           0.72072,     0.72172,     0.72272,     0.72372,     0.72472,     0.72573,     0.72673,     0.72773,     0.72873,     0.72973,     0.73073,     0.73173,     0.73273,     0.73373,     0.73473,     0.73574,     0.73674,     0.73774,     0.73874,     0.73974,     0.74074,     0.74174,     0.74274,     0.74374,\n",
            "           0.74474,     0.74575,     0.74675,     0.74775,     0.74875,     0.74975,     0.75075,     0.75175,     0.75275,     0.75375,     0.75475,     0.75576,     0.75676,     0.75776,     0.75876,     0.75976,     0.76076,     0.76176,     0.76276,     0.76376,     0.76476,     0.76577,     0.76677,     0.76777,\n",
            "           0.76877,     0.76977,     0.77077,     0.77177,     0.77277,     0.77377,     0.77477,     0.77578,     0.77678,     0.77778,     0.77878,     0.77978,     0.78078,     0.78178,     0.78278,     0.78378,     0.78478,     0.78579,     0.78679,     0.78779,     0.78879,     0.78979,     0.79079,     0.79179,\n",
            "           0.79279,     0.79379,     0.79479,      0.7958,      0.7968,      0.7978,      0.7988,      0.7998,      0.8008,      0.8018,      0.8028,      0.8038,      0.8048,     0.80581,     0.80681,     0.80781,     0.80881,     0.80981,     0.81081,     0.81181,     0.81281,     0.81381,     0.81481,     0.81582,\n",
            "           0.81682,     0.81782,     0.81882,     0.81982,     0.82082,     0.82182,     0.82282,     0.82382,     0.82482,     0.82583,     0.82683,     0.82783,     0.82883,     0.82983,     0.83083,     0.83183,     0.83283,     0.83383,     0.83483,     0.83584,     0.83684,     0.83784,     0.83884,     0.83984,\n",
            "           0.84084,     0.84184,     0.84284,     0.84384,     0.84484,     0.84585,     0.84685,     0.84785,     0.84885,     0.84985,     0.85085,     0.85185,     0.85285,     0.85385,     0.85485,     0.85586,     0.85686,     0.85786,     0.85886,     0.85986,     0.86086,     0.86186,     0.86286,     0.86386,\n",
            "           0.86486,     0.86587,     0.86687,     0.86787,     0.86887,     0.86987,     0.87087,     0.87187,     0.87287,     0.87387,     0.87487,     0.87588,     0.87688,     0.87788,     0.87888,     0.87988,     0.88088,     0.88188,     0.88288,     0.88388,     0.88488,     0.88589,     0.88689,     0.88789,\n",
            "           0.88889,     0.88989,     0.89089,     0.89189,     0.89289,     0.89389,     0.89489,      0.8959,      0.8969,      0.8979,      0.8989,      0.8999,      0.9009,      0.9019,      0.9029,      0.9039,      0.9049,     0.90591,     0.90691,     0.90791,     0.90891,     0.90991,     0.91091,     0.91191,\n",
            "           0.91291,     0.91391,     0.91491,     0.91592,     0.91692,     0.91792,     0.91892,     0.91992,     0.92092,     0.92192,     0.92292,     0.92392,     0.92492,     0.92593,     0.92693,     0.92793,     0.92893,     0.92993,     0.93093,     0.93193,     0.93293,     0.93393,     0.93493,     0.93594,\n",
            "           0.93694,     0.93794,     0.93894,     0.93994,     0.94094,     0.94194,     0.94294,     0.94394,     0.94494,     0.94595,     0.94695,     0.94795,     0.94895,     0.94995,     0.95095,     0.95195,     0.95295,     0.95395,     0.95495,     0.95596,     0.95696,     0.95796,     0.95896,     0.95996,\n",
            "           0.96096,     0.96196,     0.96296,     0.96396,     0.96496,     0.96597,     0.96697,     0.96797,     0.96897,     0.96997,     0.97097,     0.97197,     0.97297,     0.97397,     0.97497,     0.97598,     0.97698,     0.97798,     0.97898,     0.97998,     0.98098,     0.98198,     0.98298,     0.98398,\n",
            "           0.98498,     0.98599,     0.98699,     0.98799,     0.98899,     0.98999,     0.99099,     0.99199,     0.99299,     0.99399,     0.99499,       0.996,       0.997,       0.998,       0.999,           1]), array([[   0.084299,    0.084345,     0.12711, ...,           0,           0,           0],\n",
            "       [    0.20096,     0.20104,      0.2917, ...,           0,           0,           0]]), 'Confidence', 'F1'], [array([          0,    0.001001,    0.002002,    0.003003,    0.004004,    0.005005,    0.006006,    0.007007,    0.008008,    0.009009,     0.01001,    0.011011,    0.012012,    0.013013,    0.014014,    0.015015,    0.016016,    0.017017,    0.018018,    0.019019,     0.02002,    0.021021,    0.022022,    0.023023,\n",
            "          0.024024,    0.025025,    0.026026,    0.027027,    0.028028,    0.029029,     0.03003,    0.031031,    0.032032,    0.033033,    0.034034,    0.035035,    0.036036,    0.037037,    0.038038,    0.039039,     0.04004,    0.041041,    0.042042,    0.043043,    0.044044,    0.045045,    0.046046,    0.047047,\n",
            "          0.048048,    0.049049,     0.05005,    0.051051,    0.052052,    0.053053,    0.054054,    0.055055,    0.056056,    0.057057,    0.058058,    0.059059,     0.06006,    0.061061,    0.062062,    0.063063,    0.064064,    0.065065,    0.066066,    0.067067,    0.068068,    0.069069,     0.07007,    0.071071,\n",
            "          0.072072,    0.073073,    0.074074,    0.075075,    0.076076,    0.077077,    0.078078,    0.079079,     0.08008,    0.081081,    0.082082,    0.083083,    0.084084,    0.085085,    0.086086,    0.087087,    0.088088,    0.089089,     0.09009,    0.091091,    0.092092,    0.093093,    0.094094,    0.095095,\n",
            "          0.096096,    0.097097,    0.098098,    0.099099,      0.1001,      0.1011,      0.1021,      0.1031,      0.1041,     0.10511,     0.10611,     0.10711,     0.10811,     0.10911,     0.11011,     0.11111,     0.11211,     0.11311,     0.11411,     0.11512,     0.11612,     0.11712,     0.11812,     0.11912,\n",
            "           0.12012,     0.12112,     0.12212,     0.12312,     0.12412,     0.12513,     0.12613,     0.12713,     0.12813,     0.12913,     0.13013,     0.13113,     0.13213,     0.13313,     0.13413,     0.13514,     0.13614,     0.13714,     0.13814,     0.13914,     0.14014,     0.14114,     0.14214,     0.14314,\n",
            "           0.14414,     0.14515,     0.14615,     0.14715,     0.14815,     0.14915,     0.15015,     0.15115,     0.15215,     0.15315,     0.15415,     0.15516,     0.15616,     0.15716,     0.15816,     0.15916,     0.16016,     0.16116,     0.16216,     0.16316,     0.16416,     0.16517,     0.16617,     0.16717,\n",
            "           0.16817,     0.16917,     0.17017,     0.17117,     0.17217,     0.17317,     0.17417,     0.17518,     0.17618,     0.17718,     0.17818,     0.17918,     0.18018,     0.18118,     0.18218,     0.18318,     0.18418,     0.18519,     0.18619,     0.18719,     0.18819,     0.18919,     0.19019,     0.19119,\n",
            "           0.19219,     0.19319,     0.19419,      0.1952,      0.1962,      0.1972,      0.1982,      0.1992,      0.2002,      0.2012,      0.2022,      0.2032,      0.2042,     0.20521,     0.20621,     0.20721,     0.20821,     0.20921,     0.21021,     0.21121,     0.21221,     0.21321,     0.21421,     0.21522,\n",
            "           0.21622,     0.21722,     0.21822,     0.21922,     0.22022,     0.22122,     0.22222,     0.22322,     0.22422,     0.22523,     0.22623,     0.22723,     0.22823,     0.22923,     0.23023,     0.23123,     0.23223,     0.23323,     0.23423,     0.23524,     0.23624,     0.23724,     0.23824,     0.23924,\n",
            "           0.24024,     0.24124,     0.24224,     0.24324,     0.24424,     0.24525,     0.24625,     0.24725,     0.24825,     0.24925,     0.25025,     0.25125,     0.25225,     0.25325,     0.25425,     0.25526,     0.25626,     0.25726,     0.25826,     0.25926,     0.26026,     0.26126,     0.26226,     0.26326,\n",
            "           0.26426,     0.26527,     0.26627,     0.26727,     0.26827,     0.26927,     0.27027,     0.27127,     0.27227,     0.27327,     0.27427,     0.27528,     0.27628,     0.27728,     0.27828,     0.27928,     0.28028,     0.28128,     0.28228,     0.28328,     0.28428,     0.28529,     0.28629,     0.28729,\n",
            "           0.28829,     0.28929,     0.29029,     0.29129,     0.29229,     0.29329,     0.29429,      0.2953,      0.2963,      0.2973,      0.2983,      0.2993,      0.3003,      0.3013,      0.3023,      0.3033,      0.3043,     0.30531,     0.30631,     0.30731,     0.30831,     0.30931,     0.31031,     0.31131,\n",
            "           0.31231,     0.31331,     0.31431,     0.31532,     0.31632,     0.31732,     0.31832,     0.31932,     0.32032,     0.32132,     0.32232,     0.32332,     0.32432,     0.32533,     0.32633,     0.32733,     0.32833,     0.32933,     0.33033,     0.33133,     0.33233,     0.33333,     0.33433,     0.33534,\n",
            "           0.33634,     0.33734,     0.33834,     0.33934,     0.34034,     0.34134,     0.34234,     0.34334,     0.34434,     0.34535,     0.34635,     0.34735,     0.34835,     0.34935,     0.35035,     0.35135,     0.35235,     0.35335,     0.35435,     0.35536,     0.35636,     0.35736,     0.35836,     0.35936,\n",
            "           0.36036,     0.36136,     0.36236,     0.36336,     0.36436,     0.36537,     0.36637,     0.36737,     0.36837,     0.36937,     0.37037,     0.37137,     0.37237,     0.37337,     0.37437,     0.37538,     0.37638,     0.37738,     0.37838,     0.37938,     0.38038,     0.38138,     0.38238,     0.38338,\n",
            "           0.38438,     0.38539,     0.38639,     0.38739,     0.38839,     0.38939,     0.39039,     0.39139,     0.39239,     0.39339,     0.39439,      0.3954,      0.3964,      0.3974,      0.3984,      0.3994,      0.4004,      0.4014,      0.4024,      0.4034,      0.4044,     0.40541,     0.40641,     0.40741,\n",
            "           0.40841,     0.40941,     0.41041,     0.41141,     0.41241,     0.41341,     0.41441,     0.41542,     0.41642,     0.41742,     0.41842,     0.41942,     0.42042,     0.42142,     0.42242,     0.42342,     0.42442,     0.42543,     0.42643,     0.42743,     0.42843,     0.42943,     0.43043,     0.43143,\n",
            "           0.43243,     0.43343,     0.43443,     0.43544,     0.43644,     0.43744,     0.43844,     0.43944,     0.44044,     0.44144,     0.44244,     0.44344,     0.44444,     0.44545,     0.44645,     0.44745,     0.44845,     0.44945,     0.45045,     0.45145,     0.45245,     0.45345,     0.45445,     0.45546,\n",
            "           0.45646,     0.45746,     0.45846,     0.45946,     0.46046,     0.46146,     0.46246,     0.46346,     0.46446,     0.46547,     0.46647,     0.46747,     0.46847,     0.46947,     0.47047,     0.47147,     0.47247,     0.47347,     0.47447,     0.47548,     0.47648,     0.47748,     0.47848,     0.47948,\n",
            "           0.48048,     0.48148,     0.48248,     0.48348,     0.48448,     0.48549,     0.48649,     0.48749,     0.48849,     0.48949,     0.49049,     0.49149,     0.49249,     0.49349,     0.49449,      0.4955,      0.4965,      0.4975,      0.4985,      0.4995,      0.5005,      0.5015,      0.5025,      0.5035,\n",
            "            0.5045,     0.50551,     0.50651,     0.50751,     0.50851,     0.50951,     0.51051,     0.51151,     0.51251,     0.51351,     0.51451,     0.51552,     0.51652,     0.51752,     0.51852,     0.51952,     0.52052,     0.52152,     0.52252,     0.52352,     0.52452,     0.52553,     0.52653,     0.52753,\n",
            "           0.52853,     0.52953,     0.53053,     0.53153,     0.53253,     0.53353,     0.53453,     0.53554,     0.53654,     0.53754,     0.53854,     0.53954,     0.54054,     0.54154,     0.54254,     0.54354,     0.54454,     0.54555,     0.54655,     0.54755,     0.54855,     0.54955,     0.55055,     0.55155,\n",
            "           0.55255,     0.55355,     0.55455,     0.55556,     0.55656,     0.55756,     0.55856,     0.55956,     0.56056,     0.56156,     0.56256,     0.56356,     0.56456,     0.56557,     0.56657,     0.56757,     0.56857,     0.56957,     0.57057,     0.57157,     0.57257,     0.57357,     0.57457,     0.57558,\n",
            "           0.57658,     0.57758,     0.57858,     0.57958,     0.58058,     0.58158,     0.58258,     0.58358,     0.58458,     0.58559,     0.58659,     0.58759,     0.58859,     0.58959,     0.59059,     0.59159,     0.59259,     0.59359,     0.59459,      0.5956,      0.5966,      0.5976,      0.5986,      0.5996,\n",
            "            0.6006,      0.6016,      0.6026,      0.6036,      0.6046,     0.60561,     0.60661,     0.60761,     0.60861,     0.60961,     0.61061,     0.61161,     0.61261,     0.61361,     0.61461,     0.61562,     0.61662,     0.61762,     0.61862,     0.61962,     0.62062,     0.62162,     0.62262,     0.62362,\n",
            "           0.62462,     0.62563,     0.62663,     0.62763,     0.62863,     0.62963,     0.63063,     0.63163,     0.63263,     0.63363,     0.63463,     0.63564,     0.63664,     0.63764,     0.63864,     0.63964,     0.64064,     0.64164,     0.64264,     0.64364,     0.64464,     0.64565,     0.64665,     0.64765,\n",
            "           0.64865,     0.64965,     0.65065,     0.65165,     0.65265,     0.65365,     0.65465,     0.65566,     0.65666,     0.65766,     0.65866,     0.65966,     0.66066,     0.66166,     0.66266,     0.66366,     0.66466,     0.66567,     0.66667,     0.66767,     0.66867,     0.66967,     0.67067,     0.67167,\n",
            "           0.67267,     0.67367,     0.67467,     0.67568,     0.67668,     0.67768,     0.67868,     0.67968,     0.68068,     0.68168,     0.68268,     0.68368,     0.68468,     0.68569,     0.68669,     0.68769,     0.68869,     0.68969,     0.69069,     0.69169,     0.69269,     0.69369,     0.69469,      0.6957,\n",
            "            0.6967,      0.6977,      0.6987,      0.6997,      0.7007,      0.7017,      0.7027,      0.7037,      0.7047,     0.70571,     0.70671,     0.70771,     0.70871,     0.70971,     0.71071,     0.71171,     0.71271,     0.71371,     0.71471,     0.71572,     0.71672,     0.71772,     0.71872,     0.71972,\n",
            "           0.72072,     0.72172,     0.72272,     0.72372,     0.72472,     0.72573,     0.72673,     0.72773,     0.72873,     0.72973,     0.73073,     0.73173,     0.73273,     0.73373,     0.73473,     0.73574,     0.73674,     0.73774,     0.73874,     0.73974,     0.74074,     0.74174,     0.74274,     0.74374,\n",
            "           0.74474,     0.74575,     0.74675,     0.74775,     0.74875,     0.74975,     0.75075,     0.75175,     0.75275,     0.75375,     0.75475,     0.75576,     0.75676,     0.75776,     0.75876,     0.75976,     0.76076,     0.76176,     0.76276,     0.76376,     0.76476,     0.76577,     0.76677,     0.76777,\n",
            "           0.76877,     0.76977,     0.77077,     0.77177,     0.77277,     0.77377,     0.77477,     0.77578,     0.77678,     0.77778,     0.77878,     0.77978,     0.78078,     0.78178,     0.78278,     0.78378,     0.78478,     0.78579,     0.78679,     0.78779,     0.78879,     0.78979,     0.79079,     0.79179,\n",
            "           0.79279,     0.79379,     0.79479,      0.7958,      0.7968,      0.7978,      0.7988,      0.7998,      0.8008,      0.8018,      0.8028,      0.8038,      0.8048,     0.80581,     0.80681,     0.80781,     0.80881,     0.80981,     0.81081,     0.81181,     0.81281,     0.81381,     0.81481,     0.81582,\n",
            "           0.81682,     0.81782,     0.81882,     0.81982,     0.82082,     0.82182,     0.82282,     0.82382,     0.82482,     0.82583,     0.82683,     0.82783,     0.82883,     0.82983,     0.83083,     0.83183,     0.83283,     0.83383,     0.83483,     0.83584,     0.83684,     0.83784,     0.83884,     0.83984,\n",
            "           0.84084,     0.84184,     0.84284,     0.84384,     0.84484,     0.84585,     0.84685,     0.84785,     0.84885,     0.84985,     0.85085,     0.85185,     0.85285,     0.85385,     0.85485,     0.85586,     0.85686,     0.85786,     0.85886,     0.85986,     0.86086,     0.86186,     0.86286,     0.86386,\n",
            "           0.86486,     0.86587,     0.86687,     0.86787,     0.86887,     0.86987,     0.87087,     0.87187,     0.87287,     0.87387,     0.87487,     0.87588,     0.87688,     0.87788,     0.87888,     0.87988,     0.88088,     0.88188,     0.88288,     0.88388,     0.88488,     0.88589,     0.88689,     0.88789,\n",
            "           0.88889,     0.88989,     0.89089,     0.89189,     0.89289,     0.89389,     0.89489,      0.8959,      0.8969,      0.8979,      0.8989,      0.8999,      0.9009,      0.9019,      0.9029,      0.9039,      0.9049,     0.90591,     0.90691,     0.90791,     0.90891,     0.90991,     0.91091,     0.91191,\n",
            "           0.91291,     0.91391,     0.91491,     0.91592,     0.91692,     0.91792,     0.91892,     0.91992,     0.92092,     0.92192,     0.92292,     0.92392,     0.92492,     0.92593,     0.92693,     0.92793,     0.92893,     0.92993,     0.93093,     0.93193,     0.93293,     0.93393,     0.93493,     0.93594,\n",
            "           0.93694,     0.93794,     0.93894,     0.93994,     0.94094,     0.94194,     0.94294,     0.94394,     0.94494,     0.94595,     0.94695,     0.94795,     0.94895,     0.94995,     0.95095,     0.95195,     0.95295,     0.95395,     0.95495,     0.95596,     0.95696,     0.95796,     0.95896,     0.95996,\n",
            "           0.96096,     0.96196,     0.96296,     0.96396,     0.96496,     0.96597,     0.96697,     0.96797,     0.96897,     0.96997,     0.97097,     0.97197,     0.97297,     0.97397,     0.97497,     0.97598,     0.97698,     0.97798,     0.97898,     0.97998,     0.98098,     0.98198,     0.98298,     0.98398,\n",
            "           0.98498,     0.98599,     0.98699,     0.98799,     0.98899,     0.98999,     0.99099,     0.99199,     0.99299,     0.99399,     0.99499,       0.996,       0.997,       0.998,       0.999,           1]), array([[   0.044041,    0.044066,     0.06803, ...,           1,           1,           1],\n",
            "       [    0.11196,     0.11201,     0.17143, ...,           1,           1,           1]]), 'Confidence', 'Precision'], [array([          0,    0.001001,    0.002002,    0.003003,    0.004004,    0.005005,    0.006006,    0.007007,    0.008008,    0.009009,     0.01001,    0.011011,    0.012012,    0.013013,    0.014014,    0.015015,    0.016016,    0.017017,    0.018018,    0.019019,     0.02002,    0.021021,    0.022022,    0.023023,\n",
            "          0.024024,    0.025025,    0.026026,    0.027027,    0.028028,    0.029029,     0.03003,    0.031031,    0.032032,    0.033033,    0.034034,    0.035035,    0.036036,    0.037037,    0.038038,    0.039039,     0.04004,    0.041041,    0.042042,    0.043043,    0.044044,    0.045045,    0.046046,    0.047047,\n",
            "          0.048048,    0.049049,     0.05005,    0.051051,    0.052052,    0.053053,    0.054054,    0.055055,    0.056056,    0.057057,    0.058058,    0.059059,     0.06006,    0.061061,    0.062062,    0.063063,    0.064064,    0.065065,    0.066066,    0.067067,    0.068068,    0.069069,     0.07007,    0.071071,\n",
            "          0.072072,    0.073073,    0.074074,    0.075075,    0.076076,    0.077077,    0.078078,    0.079079,     0.08008,    0.081081,    0.082082,    0.083083,    0.084084,    0.085085,    0.086086,    0.087087,    0.088088,    0.089089,     0.09009,    0.091091,    0.092092,    0.093093,    0.094094,    0.095095,\n",
            "          0.096096,    0.097097,    0.098098,    0.099099,      0.1001,      0.1011,      0.1021,      0.1031,      0.1041,     0.10511,     0.10611,     0.10711,     0.10811,     0.10911,     0.11011,     0.11111,     0.11211,     0.11311,     0.11411,     0.11512,     0.11612,     0.11712,     0.11812,     0.11912,\n",
            "           0.12012,     0.12112,     0.12212,     0.12312,     0.12412,     0.12513,     0.12613,     0.12713,     0.12813,     0.12913,     0.13013,     0.13113,     0.13213,     0.13313,     0.13413,     0.13514,     0.13614,     0.13714,     0.13814,     0.13914,     0.14014,     0.14114,     0.14214,     0.14314,\n",
            "           0.14414,     0.14515,     0.14615,     0.14715,     0.14815,     0.14915,     0.15015,     0.15115,     0.15215,     0.15315,     0.15415,     0.15516,     0.15616,     0.15716,     0.15816,     0.15916,     0.16016,     0.16116,     0.16216,     0.16316,     0.16416,     0.16517,     0.16617,     0.16717,\n",
            "           0.16817,     0.16917,     0.17017,     0.17117,     0.17217,     0.17317,     0.17417,     0.17518,     0.17618,     0.17718,     0.17818,     0.17918,     0.18018,     0.18118,     0.18218,     0.18318,     0.18418,     0.18519,     0.18619,     0.18719,     0.18819,     0.18919,     0.19019,     0.19119,\n",
            "           0.19219,     0.19319,     0.19419,      0.1952,      0.1962,      0.1972,      0.1982,      0.1992,      0.2002,      0.2012,      0.2022,      0.2032,      0.2042,     0.20521,     0.20621,     0.20721,     0.20821,     0.20921,     0.21021,     0.21121,     0.21221,     0.21321,     0.21421,     0.21522,\n",
            "           0.21622,     0.21722,     0.21822,     0.21922,     0.22022,     0.22122,     0.22222,     0.22322,     0.22422,     0.22523,     0.22623,     0.22723,     0.22823,     0.22923,     0.23023,     0.23123,     0.23223,     0.23323,     0.23423,     0.23524,     0.23624,     0.23724,     0.23824,     0.23924,\n",
            "           0.24024,     0.24124,     0.24224,     0.24324,     0.24424,     0.24525,     0.24625,     0.24725,     0.24825,     0.24925,     0.25025,     0.25125,     0.25225,     0.25325,     0.25425,     0.25526,     0.25626,     0.25726,     0.25826,     0.25926,     0.26026,     0.26126,     0.26226,     0.26326,\n",
            "           0.26426,     0.26527,     0.26627,     0.26727,     0.26827,     0.26927,     0.27027,     0.27127,     0.27227,     0.27327,     0.27427,     0.27528,     0.27628,     0.27728,     0.27828,     0.27928,     0.28028,     0.28128,     0.28228,     0.28328,     0.28428,     0.28529,     0.28629,     0.28729,\n",
            "           0.28829,     0.28929,     0.29029,     0.29129,     0.29229,     0.29329,     0.29429,      0.2953,      0.2963,      0.2973,      0.2983,      0.2993,      0.3003,      0.3013,      0.3023,      0.3033,      0.3043,     0.30531,     0.30631,     0.30731,     0.30831,     0.30931,     0.31031,     0.31131,\n",
            "           0.31231,     0.31331,     0.31431,     0.31532,     0.31632,     0.31732,     0.31832,     0.31932,     0.32032,     0.32132,     0.32232,     0.32332,     0.32432,     0.32533,     0.32633,     0.32733,     0.32833,     0.32933,     0.33033,     0.33133,     0.33233,     0.33333,     0.33433,     0.33534,\n",
            "           0.33634,     0.33734,     0.33834,     0.33934,     0.34034,     0.34134,     0.34234,     0.34334,     0.34434,     0.34535,     0.34635,     0.34735,     0.34835,     0.34935,     0.35035,     0.35135,     0.35235,     0.35335,     0.35435,     0.35536,     0.35636,     0.35736,     0.35836,     0.35936,\n",
            "           0.36036,     0.36136,     0.36236,     0.36336,     0.36436,     0.36537,     0.36637,     0.36737,     0.36837,     0.36937,     0.37037,     0.37137,     0.37237,     0.37337,     0.37437,     0.37538,     0.37638,     0.37738,     0.37838,     0.37938,     0.38038,     0.38138,     0.38238,     0.38338,\n",
            "           0.38438,     0.38539,     0.38639,     0.38739,     0.38839,     0.38939,     0.39039,     0.39139,     0.39239,     0.39339,     0.39439,      0.3954,      0.3964,      0.3974,      0.3984,      0.3994,      0.4004,      0.4014,      0.4024,      0.4034,      0.4044,     0.40541,     0.40641,     0.40741,\n",
            "           0.40841,     0.40941,     0.41041,     0.41141,     0.41241,     0.41341,     0.41441,     0.41542,     0.41642,     0.41742,     0.41842,     0.41942,     0.42042,     0.42142,     0.42242,     0.42342,     0.42442,     0.42543,     0.42643,     0.42743,     0.42843,     0.42943,     0.43043,     0.43143,\n",
            "           0.43243,     0.43343,     0.43443,     0.43544,     0.43644,     0.43744,     0.43844,     0.43944,     0.44044,     0.44144,     0.44244,     0.44344,     0.44444,     0.44545,     0.44645,     0.44745,     0.44845,     0.44945,     0.45045,     0.45145,     0.45245,     0.45345,     0.45445,     0.45546,\n",
            "           0.45646,     0.45746,     0.45846,     0.45946,     0.46046,     0.46146,     0.46246,     0.46346,     0.46446,     0.46547,     0.46647,     0.46747,     0.46847,     0.46947,     0.47047,     0.47147,     0.47247,     0.47347,     0.47447,     0.47548,     0.47648,     0.47748,     0.47848,     0.47948,\n",
            "           0.48048,     0.48148,     0.48248,     0.48348,     0.48448,     0.48549,     0.48649,     0.48749,     0.48849,     0.48949,     0.49049,     0.49149,     0.49249,     0.49349,     0.49449,      0.4955,      0.4965,      0.4975,      0.4985,      0.4995,      0.5005,      0.5015,      0.5025,      0.5035,\n",
            "            0.5045,     0.50551,     0.50651,     0.50751,     0.50851,     0.50951,     0.51051,     0.51151,     0.51251,     0.51351,     0.51451,     0.51552,     0.51652,     0.51752,     0.51852,     0.51952,     0.52052,     0.52152,     0.52252,     0.52352,     0.52452,     0.52553,     0.52653,     0.52753,\n",
            "           0.52853,     0.52953,     0.53053,     0.53153,     0.53253,     0.53353,     0.53453,     0.53554,     0.53654,     0.53754,     0.53854,     0.53954,     0.54054,     0.54154,     0.54254,     0.54354,     0.54454,     0.54555,     0.54655,     0.54755,     0.54855,     0.54955,     0.55055,     0.55155,\n",
            "           0.55255,     0.55355,     0.55455,     0.55556,     0.55656,     0.55756,     0.55856,     0.55956,     0.56056,     0.56156,     0.56256,     0.56356,     0.56456,     0.56557,     0.56657,     0.56757,     0.56857,     0.56957,     0.57057,     0.57157,     0.57257,     0.57357,     0.57457,     0.57558,\n",
            "           0.57658,     0.57758,     0.57858,     0.57958,     0.58058,     0.58158,     0.58258,     0.58358,     0.58458,     0.58559,     0.58659,     0.58759,     0.58859,     0.58959,     0.59059,     0.59159,     0.59259,     0.59359,     0.59459,      0.5956,      0.5966,      0.5976,      0.5986,      0.5996,\n",
            "            0.6006,      0.6016,      0.6026,      0.6036,      0.6046,     0.60561,     0.60661,     0.60761,     0.60861,     0.60961,     0.61061,     0.61161,     0.61261,     0.61361,     0.61461,     0.61562,     0.61662,     0.61762,     0.61862,     0.61962,     0.62062,     0.62162,     0.62262,     0.62362,\n",
            "           0.62462,     0.62563,     0.62663,     0.62763,     0.62863,     0.62963,     0.63063,     0.63163,     0.63263,     0.63363,     0.63463,     0.63564,     0.63664,     0.63764,     0.63864,     0.63964,     0.64064,     0.64164,     0.64264,     0.64364,     0.64464,     0.64565,     0.64665,     0.64765,\n",
            "           0.64865,     0.64965,     0.65065,     0.65165,     0.65265,     0.65365,     0.65465,     0.65566,     0.65666,     0.65766,     0.65866,     0.65966,     0.66066,     0.66166,     0.66266,     0.66366,     0.66466,     0.66567,     0.66667,     0.66767,     0.66867,     0.66967,     0.67067,     0.67167,\n",
            "           0.67267,     0.67367,     0.67467,     0.67568,     0.67668,     0.67768,     0.67868,     0.67968,     0.68068,     0.68168,     0.68268,     0.68368,     0.68468,     0.68569,     0.68669,     0.68769,     0.68869,     0.68969,     0.69069,     0.69169,     0.69269,     0.69369,     0.69469,      0.6957,\n",
            "            0.6967,      0.6977,      0.6987,      0.6997,      0.7007,      0.7017,      0.7027,      0.7037,      0.7047,     0.70571,     0.70671,     0.70771,     0.70871,     0.70971,     0.71071,     0.71171,     0.71271,     0.71371,     0.71471,     0.71572,     0.71672,     0.71772,     0.71872,     0.71972,\n",
            "           0.72072,     0.72172,     0.72272,     0.72372,     0.72472,     0.72573,     0.72673,     0.72773,     0.72873,     0.72973,     0.73073,     0.73173,     0.73273,     0.73373,     0.73473,     0.73574,     0.73674,     0.73774,     0.73874,     0.73974,     0.74074,     0.74174,     0.74274,     0.74374,\n",
            "           0.74474,     0.74575,     0.74675,     0.74775,     0.74875,     0.74975,     0.75075,     0.75175,     0.75275,     0.75375,     0.75475,     0.75576,     0.75676,     0.75776,     0.75876,     0.75976,     0.76076,     0.76176,     0.76276,     0.76376,     0.76476,     0.76577,     0.76677,     0.76777,\n",
            "           0.76877,     0.76977,     0.77077,     0.77177,     0.77277,     0.77377,     0.77477,     0.77578,     0.77678,     0.77778,     0.77878,     0.77978,     0.78078,     0.78178,     0.78278,     0.78378,     0.78478,     0.78579,     0.78679,     0.78779,     0.78879,     0.78979,     0.79079,     0.79179,\n",
            "           0.79279,     0.79379,     0.79479,      0.7958,      0.7968,      0.7978,      0.7988,      0.7998,      0.8008,      0.8018,      0.8028,      0.8038,      0.8048,     0.80581,     0.80681,     0.80781,     0.80881,     0.80981,     0.81081,     0.81181,     0.81281,     0.81381,     0.81481,     0.81582,\n",
            "           0.81682,     0.81782,     0.81882,     0.81982,     0.82082,     0.82182,     0.82282,     0.82382,     0.82482,     0.82583,     0.82683,     0.82783,     0.82883,     0.82983,     0.83083,     0.83183,     0.83283,     0.83383,     0.83483,     0.83584,     0.83684,     0.83784,     0.83884,     0.83984,\n",
            "           0.84084,     0.84184,     0.84284,     0.84384,     0.84484,     0.84585,     0.84685,     0.84785,     0.84885,     0.84985,     0.85085,     0.85185,     0.85285,     0.85385,     0.85485,     0.85586,     0.85686,     0.85786,     0.85886,     0.85986,     0.86086,     0.86186,     0.86286,     0.86386,\n",
            "           0.86486,     0.86587,     0.86687,     0.86787,     0.86887,     0.86987,     0.87087,     0.87187,     0.87287,     0.87387,     0.87487,     0.87588,     0.87688,     0.87788,     0.87888,     0.87988,     0.88088,     0.88188,     0.88288,     0.88388,     0.88488,     0.88589,     0.88689,     0.88789,\n",
            "           0.88889,     0.88989,     0.89089,     0.89189,     0.89289,     0.89389,     0.89489,      0.8959,      0.8969,      0.8979,      0.8989,      0.8999,      0.9009,      0.9019,      0.9029,      0.9039,      0.9049,     0.90591,     0.90691,     0.90791,     0.90891,     0.90991,     0.91091,     0.91191,\n",
            "           0.91291,     0.91391,     0.91491,     0.91592,     0.91692,     0.91792,     0.91892,     0.91992,     0.92092,     0.92192,     0.92292,     0.92392,     0.92492,     0.92593,     0.92693,     0.92793,     0.92893,     0.92993,     0.93093,     0.93193,     0.93293,     0.93393,     0.93493,     0.93594,\n",
            "           0.93694,     0.93794,     0.93894,     0.93994,     0.94094,     0.94194,     0.94294,     0.94394,     0.94494,     0.94595,     0.94695,     0.94795,     0.94895,     0.94995,     0.95095,     0.95195,     0.95295,     0.95395,     0.95495,     0.95596,     0.95696,     0.95796,     0.95896,     0.95996,\n",
            "           0.96096,     0.96196,     0.96296,     0.96396,     0.96496,     0.96597,     0.96697,     0.96797,     0.96897,     0.96997,     0.97097,     0.97197,     0.97297,     0.97397,     0.97497,     0.97598,     0.97698,     0.97798,     0.97898,     0.97998,     0.98098,     0.98198,     0.98298,     0.98398,\n",
            "           0.98498,     0.98599,     0.98699,     0.98799,     0.98899,     0.98999,     0.99099,     0.99199,     0.99299,     0.99399,     0.99499,       0.996,       0.997,       0.998,       0.999,           1]), array([[    0.98127,     0.98127,     0.96629, ...,           0,           0,           0],\n",
            "       [     0.9795,      0.9795,     0.97763, ...,           0,           0,           0]]), 'Confidence', 'Recall']]\n",
            "fitness: 0.7037822420683925\n",
            "keys: ['metrics/precision(B)', 'metrics/recall(B)', 'metrics/mAP50(B)', 'metrics/mAP50-95(B)']\n",
            "maps: array([    0.59873,     0.77391])\n",
            "names: {0: 'paper', 1: 'plastic bottle'}\n",
            "plot: True\n",
            "results_dict: {'metrics/precision(B)': 0.8859036781321515, 'metrics/recall(B)': 0.7731891226490448, 'metrics/mAP50(B)': 0.860969198293657, 'metrics/mAP50-95(B)': 0.6863170247100296, 'fitness': 0.7037822420683925}\n",
            "save_dir: PosixPath('runs/detect/val')\n",
            "speed: {'preprocess': 0.2933541395261467, 'inference': 4.413094731634979, 'loss': 0.010070008206389031, 'postprocess': 1.948116486850039}\n",
            "task: 'detect'\n"
          ]
        }
      ],
      "source": [
        "# Load the trained model (replace 'runs/detect/paper_plastic_model/weights/best.pt' with your model's path)\n",
        "model = YOLO(\"runs/detect/paper_plastic_model/weights/best.pt\")\n",
        "\n",
        "# Run validation\n",
        "results = model.val(\n",
        "    data=\"/content/computer_vision/data.yaml\",  # Path to data.yaml\n",
        "    batch=16,                                  # Batch size\n",
        "    imgsz=640                                  # Image size\n",
        ")\n",
        "\n",
        "# Print validation results\n",
        "print(\"Validation Results:\", results)\n"
      ]
    },
    {
      "cell_type": "code",
      "execution_count": null,
      "metadata": {
        "colab": {
          "base_uri": "https://localhost:8080/"
        },
        "id": "KjmSqe9C_jak",
        "outputId": "2054a70e-e776-461e-bc3b-d943a77fa898"
      },
      "outputs": [
        {
          "name": "stdout",
          "output_type": "stream",
          "text": [
            "\n",
            "image 1/561 /content/computer_vision/test/images/-127_jpg.rf.e9fcfa79c009052f7dbf38e4647ddc1e.jpg: 640x640 3 plastic bottles, 9.3ms\n",
            "image 2/561 /content/computer_vision/test/images/-145_jpg.rf.cd3624e8248ee8e14327e1ba71f9861a.jpg: 448x640 3 plastic bottles, 36.0ms\n",
            "image 3/561 /content/computer_vision/test/images/-187_jpg.rf.264bd9f1893e31ec250d28a87083a778.jpg: 640x640 1 plastic bottle, 8.0ms\n",
            "image 4/561 /content/computer_vision/test/images/-190_jpg.rf.c65df6cfd273d7e2c0291006e18385a9.jpg: 640x640 1 plastic bottle, 7.3ms\n",
            "image 5/561 /content/computer_vision/test/images/-229_jpg.rf.74811d478f891a23e441284f7c6e7956.jpg: 384x640 3 plastic bottles, 36.2ms\n",
            "image 6/561 /content/computer_vision/test/images/-22_jpg.rf.36d93eaadd504f9528283a6c75e1f2d0.jpg: 640x480 1 plastic bottle, 34.2ms\n",
            "image 7/561 /content/computer_vision/test/images/-25_jpg.rf.ed2e5c1c5634108e6fa495b827025f68.jpg: 640x640 1 plastic bottle, 8.0ms\n",
            "image 8/561 /content/computer_vision/test/images/-265_jpg.rf.1d62c22553272276eed0f9055dd22094.jpg: 640x384 2 plastic bottles, 32.9ms\n",
            "image 9/561 /content/computer_vision/test/images/-285_jpg.rf.ff5d1173e1cd7a4f0342e2d86d294b65.jpg: 640x640 1 plastic bottle, 8.0ms\n",
            "image 10/561 /content/computer_vision/test/images/-30_jpg.rf.fbcc8e722a41eec96b75cf60735c1296.jpg: 640x640 1 paper, 7.4ms\n",
            "image 11/561 /content/computer_vision/test/images/-32_jpg.rf.7fd1afd52de04553f4c98a223bc5698b.jpg: 640x640 3 plastic bottles, 7.4ms\n",
            "image 12/561 /content/computer_vision/test/images/-368_jpg.rf.a4fd4ea995c2b8a2eed8083e86b922e4.jpg: 640x640 3 plastic bottles, 7.4ms\n",
            "image 13/561 /content/computer_vision/test/images/-58_jpg.rf.c2081d3be415b82e3c390e60abd4dc5d.jpg: 320x640 1 plastic bottle, 33.6ms\n",
            "image 14/561 /content/computer_vision/test/images/-9_jpg.rf.bf03baf0a7d281548656ba17e8316261.jpg: 640x640 1 plastic bottle, 8.0ms\n",
            "image 15/561 /content/computer_vision/test/images/0218101409_jpg.rf.824b6b037b275821b54136a76c45d0e2.jpg: 480x640 1 plastic bottle, 31.9ms\n",
            "image 16/561 /content/computer_vision/test/images/0218103717_jpg.rf.694f1fdb5474ef83ce73cf1981014854.jpg: 480x640 1 plastic bottle, 6.1ms\n",
            "image 17/561 /content/computer_vision/test/images/0224021817_jpg.rf.4e6bbff8cd713c206f8fe876744ab747.jpg: 480x640 1 plastic bottle, 6.2ms\n",
            "image 18/561 /content/computer_vision/test/images/0224022905_jpg.rf.cddc85205da4469f7f9a0eb8e37486f0.jpg: 480x640 1 plastic bottle, 6.1ms\n",
            "image 19/561 /content/computer_vision/test/images/100014_jpg.rf.b7d7f0ecc96605ece99bae35bbcc1310.jpg: 640x480 1 plastic bottle, 6.7ms\n",
            "image 20/561 /content/computer_vision/test/images/100016_jpg.rf.b2281b92b834d567b7588e27f4a898ef.jpg: 640x640 2 plastic bottles, 8.3ms\n",
            "image 21/561 /content/computer_vision/test/images/100019_jpg.rf.f8a5fb515ab8ea1bb749d2d9792b8036.jpg: 608x640 2 plastic bottles, 42.9ms\n",
            "image 22/561 /content/computer_vision/test/images/100036_jpg.rf.65bf5b76e2b13d6d36f0e9a6adfbb48b.jpg: 640x448 1 plastic bottle, 31.7ms\n",
            "image 23/561 /content/computer_vision/test/images/100045_jpg.rf.c2745b040099ba1a99ee9c35a610ea5c.jpg: 640x480 1 plastic bottle, 6.7ms\n",
            "image 24/561 /content/computer_vision/test/images/1001-BPC40-2404_jpg.rf.9a065c2e9f28240b1af4758aeacc954b.jpg: 640x640 1 plastic bottle, 8.0ms\n",
            "image 25/561 /content/computer_vision/test/images/100158_jpg.rf.78206c0e2f7ae57d90a3dff14cba2f73.jpg: 640x640 2 plastic bottles, 7.4ms\n",
            "image 26/561 /content/computer_vision/test/images/100279_jpg.rf.12ef2b5c93f8ff4f9f97eb7ff57225ea.jpg: 640x640 5 plastic bottles, 7.3ms\n",
            "image 27/561 /content/computer_vision/test/images/100497_jpg.rf.88684d6aaed80ef1f575650692ad6fda.jpg: 576x640 1 plastic bottle, 32.4ms\n",
            "image 28/561 /content/computer_vision/test/images/100556_jpg.rf.4601848876f849933f8f5ba6b7a1f90b.jpg: 448x640 3 plastic bottles, 6.8ms\n",
            "image 29/561 /content/computer_vision/test/images/104_jpg.rf.ed3519994f56cf394038de171a2ac311.jpg: 640x480 1 plastic bottle, 6.8ms\n",
            "image 30/561 /content/computer_vision/test/images/111_jpg.rf.e5bbaf0b708d163a6de3d4c4a4a8e0aa.jpg: 640x480 1 plastic bottle, 9.4ms\n",
            "image 31/561 /content/computer_vision/test/images/12_jpg.rf.6a48d4d755dcc34137979d5f6933d1d3.jpg: 640x480 2 plastic bottles, 8.4ms\n",
            "image 32/561 /content/computer_vision/test/images/15_jpg.rf.db950f0feec433bc61139cef9c070b21.jpg: 640x480 1 plastic bottle, 8.7ms\n",
            "image 33/561 /content/computer_vision/test/images/16_jpg.rf.601f5b7a25fb6ef57209a6922b072a13.jpg: 480x640 2 plastic bottles, 7.0ms\n",
            "image 34/561 /content/computer_vision/test/images/200008_jpg.rf.e3c78bfbcfe3314c7fcf40a4b80bccb6.jpg: 640x640 3 plastic bottles, 9.8ms\n",
            "image 35/561 /content/computer_vision/test/images/200025_jpg.rf.3b41acbf9d8fcfdd43f9b98d9be1b108.jpg: 416x640 1 plastic bottle, 34.3ms\n",
            "image 36/561 /content/computer_vision/test/images/200033_jpg.rf.f765b5adf87c21cd25a40df3eef929c3.jpg: 384x640 1 plastic bottle, 7.2ms\n",
            "image 37/561 /content/computer_vision/test/images/200045_jpg.rf.a13daf002bbc9d6b7b1c152551013d42.jpg: 640x640 1 plastic bottle, 8.1ms\n",
            "image 38/561 /content/computer_vision/test/images/200055_jpg.rf.cc025f47e3d1117db6fe554517f5b2fd.jpg: 448x640 2 plastic bottles, 6.8ms\n",
            "image 39/561 /content/computer_vision/test/images/200068_jpg.rf.ebf249744d320b4c46fc0e2c61e62b89.jpg: 448x640 2 plastic bottles, 6.1ms\n",
            "image 40/561 /content/computer_vision/test/images/200075_jpg.rf.b4f23a49b9249553f3e548b04961e262.jpg: 448x640 1 plastic bottle, 6.0ms\n",
            "image 41/561 /content/computer_vision/test/images/200155_jpg.rf.fe0be59c5bbc579c3c76a1056fdf7cee.jpg: 448x640 6 plastic bottles, 6.0ms\n",
            "image 42/561 /content/computer_vision/test/images/200371_jpg.rf.8cd1ac281ac2d9a557ff28ce2ccfee99.jpg: 640x640 1 plastic bottle, 8.1ms\n",
            "image 43/561 /content/computer_vision/test/images/200376_jpg.rf.9273fa825dbc58f4e62de0d43d5ca551.jpg: 640x640 1 plastic bottle, 7.4ms\n",
            "image 44/561 /content/computer_vision/test/images/200422_jpg.rf.e1110d031252cf578fa32d2230bd6ef9.jpg: 448x640 1 plastic bottle, 6.7ms\n",
            "image 45/561 /content/computer_vision/test/images/200449_jpg.rf.c6b3b59d17c1d369b35b22269de9bef8.jpg: 384x640 3 plastic bottles, 6.7ms\n",
            "image 46/561 /content/computer_vision/test/images/200462_jpg.rf.c3415053667af57c73f34250d3bff0af.jpg: 640x448 2 plastic bottles, 6.6ms\n",
            "image 47/561 /content/computer_vision/test/images/22_jpg.rf.2d0e8ab18e6e68592efec71350ca5176.jpg: 480x640 1 plastic bottle, 11.4ms\n",
            "image 48/561 /content/computer_vision/test/images/22_jpg.rf.939da3fa8be38d03db7e76c4640a8e51.jpg: 448x640 1 plastic bottle, 6.7ms\n",
            "image 49/561 /content/computer_vision/test/images/24_jpg.rf.5a258d1fd4a9819f30b93e889a95de89.jpg: 640x480 4 plastic bottles, 6.7ms\n",
            "image 50/561 /content/computer_vision/test/images/300011_jpg.rf.9b7f253af1ffa9efe78d74822d88ab9a.jpg: 640x640 1 plastic bottle, 8.0ms\n",
            "image 51/561 /content/computer_vision/test/images/300015_jpg.rf.68ca07306383d74a387a46ab216f8fc0.jpg: 640x640 1 plastic bottle, 7.4ms\n",
            "image 52/561 /content/computer_vision/test/images/300061_jpg.rf.ee8affbad3533fc32bca295c28560b89.jpg: 640x640 1 plastic bottle, 7.4ms\n",
            "image 53/561 /content/computer_vision/test/images/300286_jpg.rf.09590cffeb7ad2ae86760590e4753e40.jpg: 384x640 1 plastic bottle, 6.9ms\n",
            "image 54/561 /content/computer_vision/test/images/3_jpg.rf.02b5e839400a447c8d61a87ca82e7ffc.jpg: 640x480 1 plastic bottle, 7.5ms\n",
            "image 55/561 /content/computer_vision/test/images/3_jpg.rf.09831dbb7239f33848e297b64d505924.jpg: 640x224 1 plastic bottle, 32.6ms\n",
            "image 56/561 /content/computer_vision/test/images/400009_jpg.rf.e877887c4d4868d98535ba0013339e64.jpg: 640x640 2 plastic bottles, 8.1ms\n",
            "image 57/561 /content/computer_vision/test/images/400059_jpg.rf.58a9f4af535c80d950e7dd9411863d82.jpg: 640x640 2 plastic bottles, 7.4ms\n",
            "image 58/561 /content/computer_vision/test/images/400080_jpg.rf.8cbfa67ded445e31bcd1edfce45c65ba.jpg: 640x640 1 plastic bottle, 7.4ms\n",
            "image 59/561 /content/computer_vision/test/images/400090_jpg.rf.ff622d57fcd71f54f288aac8a9157f90.jpg: 640x640 1 plastic bottle, 7.4ms\n",
            "image 60/561 /content/computer_vision/test/images/4_jpg.rf.1f3e3668270beb16f2ce269993d03433.jpg: 640x480 2 plastic bottles, 7.4ms\n",
            "image 61/561 /content/computer_vision/test/images/500099_jpg.rf.7c075b9ff0302913140bd5a5b89ef893.jpg: 640x512 1 plastic bottle, 41.9ms\n",
            "image 62/561 /content/computer_vision/test/images/500135_jpg.rf.fcf558a7ea965923aba1e1666c8aec8a.jpg: 640x640 1 plastic bottle, 9.2ms\n",
            "image 63/561 /content/computer_vision/test/images/500361_jpg.rf.c9286b2a70d9a95a8ee0a45f0e3165f0.jpg: 640x352 2 plastic bottles, 40.4ms\n",
            "image 64/561 /content/computer_vision/test/images/500610_jpg.rf.f2383c0d10d136716e9c3a0fc99ed26f.jpg: 640x480 1 plastic bottle, 7.4ms\n",
            "image 65/561 /content/computer_vision/test/images/500625_jpg.rf.3e6df75bd75beb3ffc3cd93e0cff813d.jpg: 640x480 1 plastic bottle, 6.4ms\n",
            "image 66/561 /content/computer_vision/test/images/52_jpg.rf.34cdd134f42931ea0a0a265a9451400f.jpg: 640x640 1 plastic bottle, 8.1ms\n",
            "image 67/561 /content/computer_vision/test/images/600010_jpg.rf.60a8e33e6f1e37a9a7d227a8e604a2a4.jpg: 640x384 1 plastic bottle, 6.7ms\n",
            "image 68/561 /content/computer_vision/test/images/600040_jpg.rf.4c909fa77aa1f77e7de8c00ae549116c.jpg: 448x640 2 plastic bottles, 6.8ms\n",
            "image 69/561 /content/computer_vision/test/images/600080_jpg.rf.f26e10c06a13ef3983176e930d003f25.jpg: 416x640 1 plastic bottle, 7.3ms\n",
            "image 70/561 /content/computer_vision/test/images/6_jpg.rf.8184e071a924a965190c4bdde78246ce.jpg: 640x480 4 plastic bottles, 6.8ms\n",
            "image 71/561 /content/computer_vision/test/images/6_jpg.rf.ba88fef2be3cbae1ecde2841fa8f7cb1.jpg: 640x320 1 plastic bottle, 85.6ms\n",
            "image 72/561 /content/computer_vision/test/images/700262_jpg.rf.8e6cd903c93f8d4301ecd8f664a81482.jpg: 640x480 1 plastic bottle, 45.2ms\n",
            "image 73/561 /content/computer_vision/test/images/71_jpg.rf.814cf9d208a438316d961062dfe904e8.jpg: 448x640 9 plastic bottles, 38.9ms\n",
            "image 74/561 /content/computer_vision/test/images/741455588-f81472c53356f07fe2e7ceb16e2b4b16a98665e086c0a1327be77b24b85b62d4-d_640x360_jpg.rf.82327b1808fdb71308c5be042ddc30b7.jpg: 384x640 1 plastic bottle, 32.5ms\n",
            "image 75/561 /content/computer_vision/test/images/7_jpeg_jpg.rf.d904aed468c97550fb38d0ac08764648.jpg: 640x640 1 plastic bottle, 8.1ms\n",
            "image 76/561 /content/computer_vision/test/images/800255_jpg.rf.8ec17851cc3fee2f2507118236145c43.jpg: 640x640 4 plastic bottles, 7.5ms\n",
            "image 77/561 /content/computer_vision/test/images/800296_jpg.rf.0cdc89aa2e7eac777049fbf336310245.jpg: 640x640 4 plastic bottles, 7.4ms\n",
            "image 78/561 /content/computer_vision/test/images/800387_jpg.rf.2dcecf4746213636d958fcdd9c8f367e.jpg: 640x640 7 plastic bottles, 8.9ms\n",
            "image 79/561 /content/computer_vision/test/images/8_jpg.rf.9fba2c28396e46d3e0bb3c7d69df1ebe.jpg: 640x480 2 plastic bottles, 6.9ms\n",
            "image 80/561 /content/computer_vision/test/images/900058_jpg.rf.0820d9d07c88762be8f7caca117069ad.jpg: 640x640 3 plastic bottles, 8.0ms\n",
            "image 81/561 /content/computer_vision/test/images/900235_jpg.rf.9bfd33556ae080347b538e2eb57773b9.jpg: 640x640 1 plastic bottle, 7.4ms\n",
            "image 82/561 /content/computer_vision/test/images/92_jpg.rf.a916a2d33336acacc209eaa678394348.jpg: 384x640 1 plastic bottle, 6.7ms\n",
            "image 83/561 /content/computer_vision/test/images/9_jpg.rf.37c2992d29614835f3f3081195ca07ca.jpg: 640x288 1 plastic bottle, 33.3ms\n",
            "image 84/561 /content/computer_vision/test/images/9_jpg.rf.9fe088511137e306af03a52ba723eaab.jpg: 640x288 1 plastic bottle, 6.2ms\n",
            "image 85/561 /content/computer_vision/test/images/Bouteille_plastique1_Bouteille_plastique_10_jpg.rf.f398162aa1335361dd38e7141536f0cd.jpg: 640x640 1 plastic bottle, 9.4ms\n",
            "image 86/561 /content/computer_vision/test/images/Bouteille_plastique1_Bouteille_plastique_16_jpg.rf.97b619ae99366d5f982743d8d8c12f20.jpg: 640x640 1 paper, 1 plastic bottle, 7.5ms\n",
            "image 87/561 /content/computer_vision/test/images/Bouteille_plastique1_Bouteille_plastique_18_jpg.rf.3f8899c99a21d79508e8740fc4253d57.jpg: 640x640 1 plastic bottle, 7.5ms\n",
            "image 88/561 /content/computer_vision/test/images/Bouteille_plastique1_Bouteille_plastique_24_jpg.rf.c50c572c9008478bea0c6dffb284c6e6.jpg: 640x640 1 paper, 1 plastic bottle, 12.3ms\n",
            "image 89/561 /content/computer_vision/test/images/Datacluster-Bottles-and-Cups-59-_jpg.rf.b25565ab604b3e2d22ac02497037a284.jpg: 480x640 1 plastic bottle, 7.1ms\n",
            "image 90/561 /content/computer_vision/test/images/JPEG-image-422_jpeg_jpg.rf.9d41b00d761564663df1aabfeccf4d95.jpg: 480x640 1 plastic bottle, 6.4ms\n",
            "image 91/561 /content/computer_vision/test/images/JPEG-image-432_jpeg_jpg.rf.3264f3a2afc0c6654bc34f8f4fdf8c20.jpg: 480x640 1 plastic bottle, 6.4ms\n",
            "image 92/561 /content/computer_vision/test/images/JPEG-image-439_jpeg_jpg.rf.d6a85c22256576d529098d74350c10ce.jpg: 480x640 1 plastic bottle, 7.6ms\n",
            "image 93/561 /content/computer_vision/test/images/JPEG-image-468_jpeg_jpg.rf.6df0baba2872671b9de900f72c2c3d4e.jpg: 480x640 1 plastic bottle, 20.1ms\n",
            "image 94/561 /content/computer_vision/test/images/JPEG-image-471_jpeg_jpg.rf.72310b3e5461cf83c6abe3eed0bd518e.jpg: 480x640 1 plastic bottle, 6.4ms\n",
            "image 95/561 /content/computer_vision/test/images/JPEG-image-485_jpeg_jpg.rf.f29deadd5c7f30c9f30af6c82e8a81bb.jpg: 480x640 1 plastic bottle, 13.6ms\n",
            "image 96/561 /content/computer_vision/test/images/JPEG-image-490_jpeg_jpg.rf.f048d37d269147d98600c84ddd205082.jpg: 480x640 1 plastic bottle, 6.7ms\n",
            "image 97/561 /content/computer_vision/test/images/Plastic-water-bottles-1-Pixabay_jpg.rf.82feaff77363e83a801df64c971e2898.jpg: 448x640 5 plastic bottles, 7.3ms\n",
            "image 98/561 /content/computer_vision/test/images/WIN_20221224_00_48_26_Pro_jpg.rf.a8f9b2d8e0e57ed18a53196f80813ff5.jpg: 384x640 1 plastic bottle, 6.8ms\n",
            "image 99/561 /content/computer_vision/test/images/WhatsApp-Image-2022-12-24-at-00-41-57-1-_jpeg_jpg.rf.48084a6c14c863965630270744e3f8c3.jpg: 640x480 1 plastic bottle, 6.7ms\n",
            "image 100/561 /content/computer_vision/test/images/ajk_jpg.rf.29a81306b84a679ee17c43331aecf4ce.jpg: 640x480 1 plastic bottle, 6.0ms\n",
            "image 101/561 /content/computer_vision/test/images/anj4u_jpg.rf.b75f72640f1deb41532baf79562a6f9c.jpg: 640x480 1 plastic bottle, 6.1ms\n",
            "image 102/561 /content/computer_vision/test/images/bandicam-2019-11-03-19-21-13-692_jpg.rf.c34d53534aa39a71affd4e7275fca248.jpg: 480x640 1 plastic bottle, 7.1ms\n",
            "image 103/561 /content/computer_vision/test/images/bandicam-2019-11-03-19-24-29-236_jpg.rf.69d08178df1861b26aa990f6089116b3.jpg: 480x640 1 plastic bottle, 6.1ms\n",
            "image 104/561 /content/computer_vision/test/images/bandicam-2019-11-03-20-19-01-140_jpg.rf.947440942276f9677d47b2a8af184db7.jpg: 384x640 1 plastic bottle, 6.7ms\n",
            "image 105/561 /content/computer_vision/test/images/bandicam-2019-11-03-20-19-12-719_jpg.rf.853d49ca25349135178d791bdaabe141.jpg: 384x640 1 plastic bottle, 6.1ms\n",
            "image 106/561 /content/computer_vision/test/images/bandicam-2019-11-03-20-21-03-267_jpg.rf.74ea4cf5b138cb2657e572345004e843.jpg: 384x640 1 plastic bottle, 6.2ms\n",
            "image 107/561 /content/computer_vision/test/images/bandicam-2019-11-05-23-37-39-042_jpg.rf.939249a0892177980d451d9e4894f02c.jpg: 384x640 1 plastic bottle, 6.0ms\n",
            "image 108/561 /content/computer_vision/test/images/bottle-11-_JPG_jpg.rf.29ddd2e29b05d455153fd99062d94f47.jpg: 448x640 1 plastic bottle, 7.4ms\n",
            "image 109/561 /content/computer_vision/test/images/bottle-162-_JPG_jpg.rf.f476e239e6376e59d9d078b2a2802110.jpg: 448x640 1 plastic bottle, 6.7ms\n",
            "image 110/561 /content/computer_vision/test/images/bottle-202-_JPG_jpg.rf.8d879f78d3c14f560a0d263ff9de3505.jpg: 448x640 1 plastic bottle, 7.1ms\n",
            "image 111/561 /content/computer_vision/test/images/bottle-223-_JPG_jpg.rf.8059ca6b05eaa242ac5b97db93234deb.jpg: 448x640 1 plastic bottle, 24.1ms\n",
            "image 112/561 /content/computer_vision/test/images/bottle-241-_JPG_jpg.rf.33d6b3e52f8750a4c1b861316d7fd4d1.jpg: 448x640 1 plastic bottle, 6.8ms\n",
            "image 113/561 /content/computer_vision/test/images/bottle-25-_JPG_jpg.rf.b21f53d0634792635d272555070480c1.jpg: 448x640 1 plastic bottle, 10.1ms\n",
            "image 114/561 /content/computer_vision/test/images/bottle-267-_JPG_jpg.rf.28cac28d45df1d2976a89b0386f94c8d.jpg: 448x640 1 plastic bottle, 9.7ms\n",
            "image 115/561 /content/computer_vision/test/images/bottle-268-_JPG_jpg.rf.cce4d19ed27746bf695632b70ef595d5.jpg: 448x640 1 plastic bottle, 10.9ms\n",
            "image 116/561 /content/computer_vision/test/images/bottle-272-_JPG_jpg.rf.f98dac1afb0e24a9743b0640d5b49660.jpg: 448x640 1 plastic bottle, 9.6ms\n",
            "image 117/561 /content/computer_vision/test/images/bottle-275-_JPG_jpg.rf.d458175cff50ef9a552205ec5787f4c2.jpg: 448x640 1 plastic bottle, 9.9ms\n",
            "image 118/561 /content/computer_vision/test/images/bottle-29-_JPG_jpg.rf.58341a2b347d82c25508a8da6baa2dea.jpg: 448x640 1 plastic bottle, 9.6ms\n",
            "image 119/561 /content/computer_vision/test/images/bottle-305-_JPG_jpg.rf.05f759eb0fff9387898907447fe1c456.jpg: 448x640 1 plastic bottle, 9.6ms\n",
            "image 120/561 /content/computer_vision/test/images/bottle-316-_JPG_jpg.rf.66db6395a74e9b97212fec7d98e4218e.jpg: 448x640 1 plastic bottle, 9.6ms\n",
            "image 121/561 /content/computer_vision/test/images/bottle-32-_JPG_jpg.rf.bff9f40a8e02c19ecb07debaf02034e3.jpg: 448x640 1 plastic bottle, 9.6ms\n",
            "image 122/561 /content/computer_vision/test/images/bottle-324-_JPG_jpg.rf.1261634b54b3575dfb0fdb7e38929454.jpg: 448x640 1 plastic bottle, 6.8ms\n",
            "image 123/561 /content/computer_vision/test/images/bottle-329-_JPG_jpg.rf.57069cf2b1367eaf4940f810d201a5f2.jpg: 448x640 1 plastic bottle, 6.6ms\n",
            "image 124/561 /content/computer_vision/test/images/bottle-338-_JPG_jpg.rf.e2608312cd2b0e379b1ac9fc15195ff0.jpg: 448x640 1 plastic bottle, 6.5ms\n",
            "image 125/561 /content/computer_vision/test/images/bottle-343-_JPG_jpg.rf.5aacfa95e113608089311f394295294d.jpg: 448x640 1 plastic bottle, 6.5ms\n",
            "image 126/561 /content/computer_vision/test/images/bottle-363-_JPG_jpg.rf.dcc8fd9f5bbf507662fb65e1ac18ca31.jpg: 448x640 1 plastic bottle, 6.7ms\n",
            "image 127/561 /content/computer_vision/test/images/bottle-398-_JPG_jpg.rf.c84a638a4b85fa1f13796643612c13d6.jpg: 448x640 1 plastic bottle, 6.5ms\n",
            "image 128/561 /content/computer_vision/test/images/bottle-4-_jpg.rf.3040282fc22720c3abb093264da5b853.jpg: 640x480 1 plastic bottle, 7.2ms\n",
            "image 129/561 /content/computer_vision/test/images/bottle-402-_JPG_jpg.rf.ee7041410a5f9620228632d0b1005767.jpg: 448x640 1 plastic bottle, 7.3ms\n",
            "image 130/561 /content/computer_vision/test/images/bottle-419-_JPG_jpg.rf.4a6337e654746086ee46d2d7a2b0987d.jpg: 448x640 1 plastic bottle, 6.5ms\n",
            "image 131/561 /content/computer_vision/test/images/bottle-431-_JPG_jpg.rf.19efcc65a8cb20337c0f963f827358be.jpg: 448x640 1 plastic bottle, 6.8ms\n",
            "image 132/561 /content/computer_vision/test/images/bottle-442-_JPG_jpg.rf.b2d0334d23b89cd2112de7e256a25a98.jpg: 448x640 1 plastic bottle, 6.9ms\n",
            "image 133/561 /content/computer_vision/test/images/bottle-452-_JPG_jpg.rf.2582570f9175f6e9fe1bc30fe9bb26bd.jpg: 448x640 1 plastic bottle, 6.6ms\n",
            "image 134/561 /content/computer_vision/test/images/bottle-461-_JPG_jpg.rf.fbd59ed6deb50fd93215c67bb5385755.jpg: 448x640 1 plastic bottle, 6.5ms\n",
            "image 135/561 /content/computer_vision/test/images/bottle-47-_JPG_jpg.rf.7b9ee4681c0835290f87057855661a70.jpg: 448x640 1 plastic bottle, 6.8ms\n",
            "image 136/561 /content/computer_vision/test/images/bottle-473-_JPG_jpg.rf.5b75a3a9112076d7503e833d9bb8cea4.jpg: 448x640 1 plastic bottle, 6.9ms\n",
            "image 137/561 /content/computer_vision/test/images/bottle-476-_JPG_jpg.rf.fb5ecd9b96e8354c7ca0eab4135be127.jpg: 448x640 1 plastic bottle, 7.0ms\n",
            "image 138/561 /content/computer_vision/test/images/bottle-490-_JPG_jpg.rf.38d75db6a0a5cfe3c41c683a324a9f7a.jpg: 448x640 1 plastic bottle, 6.6ms\n",
            "image 139/561 /content/computer_vision/test/images/bottle-498-_JPG_jpg.rf.289fc836c074450c89b6d4aada8c98fc.jpg: 448x640 1 plastic bottle, 6.6ms\n",
            "image 140/561 /content/computer_vision/test/images/bottle-504-_JPG_jpg.rf.11d7f26c82126a8952551097c4fb5cd6.jpg: 448x640 1 plastic bottle, 6.4ms\n",
            "image 141/561 /content/computer_vision/test/images/bottle-512-_JPG_jpg.rf.db937b872dea335e6674ea0622127198.jpg: 448x640 1 plastic bottle, 6.5ms\n",
            "image 142/561 /content/computer_vision/test/images/bottle-515-_JPG_jpg.rf.4b2f83440de6eca87f3ccb345dad4ccb.jpg: 448x640 1 plastic bottle, 11.1ms\n",
            "image 143/561 /content/computer_vision/test/images/bottle-54-_JPG_jpg.rf.eeb46f9cce48609fff10216b7ae3f41b.jpg: 448x640 1 plastic bottle, 8.6ms\n",
            "image 144/561 /content/computer_vision/test/images/bottle-544-_JPG_jpg.rf.d88771deea7ea79b226b2b17f69c38eb.jpg: 448x640 1 plastic bottle, 11.3ms\n",
            "image 145/561 /content/computer_vision/test/images/bottle-549-_JPG_jpg.rf.282db770b7be2f119022519ec6f78a4d.jpg: 448x640 1 plastic bottle, 9.6ms\n",
            "image 146/561 /content/computer_vision/test/images/bottle-554-_JPG_jpg.rf.a20709572f932e522c079f0dd0f49302.jpg: 448x640 1 plastic bottle, 15.7ms\n",
            "image 147/561 /content/computer_vision/test/images/bottle-57-_JPG_jpg.rf.ff5d1038e74ba7dd17eeef016dbce496.jpg: 448x640 1 plastic bottle, 15.1ms\n",
            "image 148/561 /content/computer_vision/test/images/bottle-6-_jpg.rf.f097ea601a2905c7ef90508c2e940b11.jpg: 640x480 1 plastic bottle, 40.7ms\n",
            "image 149/561 /content/computer_vision/test/images/bottle-659-_JPG_jpg.rf.1352cea18cd5ee133a1318fd0f568ee5.jpg: 448x640 1 plastic bottle, 11.0ms\n",
            "image 150/561 /content/computer_vision/test/images/bottle-715-_jpg.rf.5e69dc099dc27d094fa267ac0dab2e60.jpg: 480x640 1 plastic bottle, 10.5ms\n",
            "image 151/561 /content/computer_vision/test/images/bottle-sizes-bottleyourbrand_png_jpg.rf.4b18ac816a7c7228c1bf356e2116fee0.jpg: 640x512 2 plastic bottles, 48.2ms\n",
            "image 152/561 /content/computer_vision/test/images/bottle-waste-pollution-garbage_jpg.rf.97f8d765eb173bac979b635558844f53.jpg: 448x640 1 plastic bottle, 11.8ms\n",
            "image 153/561 /content/computer_vision/test/images/brian-yurasits-oJWMXPaFjPY-unsplash-scaled-1-750x550_jpg.rf.0b3ebb6c3d0cb7b96a0156c919ad2a52.jpg: 480x640 1 plastic bottle, 9.9ms\n",
            "image 154/561 /content/computer_vision/test/images/depositphotos_6038342-stock-photo-water-bottle-on-grass_jpg.rf.c5686b71edf05e8372e03436442bbf54.jpg: 448x640 1 plastic bottle, 9.9ms\n",
            "image 155/561 /content/computer_vision/test/images/empty-plastic-bottle-lying-around-park-ground-empty-plastic-bottle-lying-around-park-ground-146271701_jpg.rf.55ce092943fe227144b72b8492f1bb35.jpg: 480x640 4 plastic bottles, 16.1ms\n",
            "image 156/561 /content/computer_vision/test/images/empty-plastic-water-bottle-500x500_jpg.rf.b42a78d2ae154431c9fc3967e1f722ee.jpg: 640x480 1 plastic bottle, 9.6ms\n",
            "image 157/561 /content/computer_vision/test/images/foto_principal_34_1_jpg.rf.64b87757ed90819a58b898022b24087e.jpg: 640x480 1 plastic bottle, 9.9ms\n",
            "image 158/561 /content/computer_vision/test/images/gratis-png-botella-de-agua-botella-de-dos-litros-agua-mineral-agua-potable-botella-agua-botellas-de-vidrio_png_jpg.rf.31d5662c41416108b472eef8fed377d2.jpg: 640x576 2 plastic bottles, 58.6ms\n",
            "image 159/561 /content/computer_vision/test/images/imagesc_jpg.rf.b2fb4e670c29dc468de91178c67ad5b8.jpg: 448x640 1 plastic bottle, 10.6ms\n",
            "image 160/561 /content/computer_vision/test/images/old-aged-plastic-bottle-garbage-2708060_jpg.rf.7ab4adb47490fedd0106ea32b6704ba9.jpg: 640x448 2 plastic bottles, 9.3ms\n",
            "image 161/561 /content/computer_vision/test/images/paper100_jpg.rf.664fbd2928991284e7899487ca189378.jpg: 480x640 1 paper, 10.0ms\n",
            "image 162/561 /content/computer_vision/test/images/paper101_jpg.rf.069277844365af8afe5d22d9629168ec.jpg: 480x640 1 paper, 14.2ms\n",
            "image 163/561 /content/computer_vision/test/images/paper129_jpg.rf.7c2a6d77ee407802a5d9e8de6b484ffd.jpg: 480x640 1 paper, 11.4ms\n",
            "image 164/561 /content/computer_vision/test/images/paper136_jpg.rf.07e89710f18a1ee821823fb68009de33.jpg: 480x640 1 paper, 10.2ms\n",
            "image 165/561 /content/computer_vision/test/images/paper152_jpg.rf.c8e0d5f8a284f1b8009df1bb80267322.jpg: 480x640 1 paper, 10.0ms\n",
            "image 166/561 /content/computer_vision/test/images/paper163_jpg.rf.8d1200356005e27759e3a6a13620a912.jpg: 480x640 2 papers, 24.4ms\n",
            "image 167/561 /content/computer_vision/test/images/paper187_jpg.rf.bcdbdc879dbde9c36b67280e4082671c.jpg: 480x640 1 paper, 27.3ms\n",
            "image 168/561 /content/computer_vision/test/images/paper195_jpg.rf.9186ce096f6877b74928e2fcd244ae45.jpg: 480x640 1 paper, 23.4ms\n",
            "image 169/561 /content/computer_vision/test/images/paper1_paper1012_jpg.rf.5cfbf9a441a22a980c19b5169145ae15.jpg: 480x640 1 paper, 30.3ms\n",
            "image 170/561 /content/computer_vision/test/images/paper1_paper1024_jpg.rf.93559ccdf3cf5d74c9b61e269ce60ad8.jpg: 480x640 1 paper, 29.0ms\n",
            "image 171/561 /content/computer_vision/test/images/paper1_paper10_jpg.rf.6e096cab71a4227bd9cda96c1b90ee72.jpg: 480x640 1 paper, 29.9ms\n",
            "image 172/561 /content/computer_vision/test/images/paper1_paper131_jpg.rf.3696528aeab44248fe8d8f75ff1e4e9c.jpg: 640x512 1 paper, 24.6ms\n",
            "image 173/561 /content/computer_vision/test/images/paper1_paper180_jpg.rf.c351e293d50260a1d375a7dec114d5a6.jpg: 640x640 1 paper, 16.1ms\n",
            "image 174/561 /content/computer_vision/test/images/paper1_paper23_jpg.rf.e5022fd54b6bcd656e013c473c1dff00.jpg: 480x640 1 paper, 12.5ms\n",
            "image 175/561 /content/computer_vision/test/images/paper1_paper254_jpg.rf.e044557c6a38736d5530f8346608331c.jpg: 512x640 1 paper, 45.6ms\n",
            "image 176/561 /content/computer_vision/test/images/paper1_paper257_jpg.rf.db04f69c93b2d600e9b6b15014290f4e.jpg: 384x640 5 papers, 10.5ms\n",
            "image 177/561 /content/computer_vision/test/images/paper1_paper262_jpg.rf.d31854f88a7cced4db30b2c2af052242.jpg: 480x640 1 paper, 6.7ms\n",
            "image 178/561 /content/computer_vision/test/images/paper1_paper267_jpg.rf.cef6ed0710e1476f6fe796445f153b9a.jpg: 640x480 1 paper, 6.7ms\n",
            "image 179/561 /content/computer_vision/test/images/paper1_paper297_jpg.rf.eed5f1aa38cfddbe63b7e27c63f26ea2.jpg: 416x640 5 papers, 6.9ms\n",
            "image 180/561 /content/computer_vision/test/images/paper1_paper30_jpg.rf.3df8cea18aca858de8cc3bc41d8c7034.jpg: 480x640 1 paper, 6.7ms\n",
            "image 181/561 /content/computer_vision/test/images/paper1_paper423_jpg.rf.f58543086ed6bb3b0f6113382466660c.jpg: 640x640 1 paper, 8.1ms\n",
            "image 182/561 /content/computer_vision/test/images/paper1_paper427_jpg.rf.0f4830cc042fda3e6cfcf86a62f7c234.jpg: 384x640 4 papers, 7.0ms\n",
            "image 183/561 /content/computer_vision/test/images/paper1_paper490_jpg.rf.9eebe5c31bcf07d0e5465f4627df1973.jpg: 480x640 1 paper, 6.8ms\n",
            "image 184/561 /content/computer_vision/test/images/paper1_paper496_jpg.rf.bb7f94eddf25031857864ac98df311fa.jpg: 640x480 1 paper, 6.7ms\n",
            "image 185/561 /content/computer_vision/test/images/paper1_paper498_jpg.rf.b7a3075aa9fcd48439990b30c5d3075b.jpg: 480x640 1 paper, 6.9ms\n",
            "image 186/561 /content/computer_vision/test/images/paper1_paper516_jpg.rf.c910c9976e7a9e3f0b5946be4eb16c26.jpg: 480x640 1 paper, 6.1ms\n",
            "image 187/561 /content/computer_vision/test/images/paper1_paper537_jpg.rf.2b8f4d4727acfcd4855385b47c462201.jpg: 480x640 1 paper, 6.3ms\n",
            "image 188/561 /content/computer_vision/test/images/paper1_paper543_jpg.rf.ff9f3cec896bb2d345f4a718cc412e7f.jpg: 480x640 1 paper, 6.1ms\n",
            "image 189/561 /content/computer_vision/test/images/paper1_paper576_jpg.rf.7bcdc1104c881c6bddebc04b18978378.jpg: 480x640 2 papers, 6.1ms\n",
            "image 190/561 /content/computer_vision/test/images/paper1_paper586_jpg.rf.3a03f3deb0d2bb301f55e749173fcbfc.jpg: 480x640 1 paper, 6.1ms\n",
            "image 191/561 /content/computer_vision/test/images/paper1_paper60_jpg.rf.4c2a0df47d37a7e7c7e5f19b717e92a8.jpg: 480x640 1 paper, 6.1ms\n",
            "image 192/561 /content/computer_vision/test/images/paper1_paper654_jpg.rf.383cea0232ab05aaf1874588fcec47af.jpg: 480x640 1 paper, 6.4ms\n",
            "image 193/561 /content/computer_vision/test/images/paper1_paper657_jpg.rf.289b6ad4b0f6bbe9724963ded45474b0.jpg: 480x640 1 paper, 6.1ms\n",
            "image 194/561 /content/computer_vision/test/images/paper1_paper664_jpg.rf.e0892445dde3af118c94727e0ce04f53.jpg: 480x640 1 paper, 5.9ms\n",
            "image 195/561 /content/computer_vision/test/images/paper1_paper718_jpg.rf.4eb15cd170e04fb284d81c5d60094c9e.jpg: 640x448 1 paper, 6.7ms\n",
            "image 196/561 /content/computer_vision/test/images/paper1_paper722_jpg.rf.7bd651841475ef390b2c69023d904906.jpg: 480x640 1 paper, 6.5ms\n",
            "image 197/561 /content/computer_vision/test/images/paper1_paper764_jpg.rf.726ae880e74997d444cdc00b4c8c65c4.jpg: 480x640 1 paper, 5.8ms\n",
            "image 198/561 /content/computer_vision/test/images/paper1_paper768_jpg.rf.537754e0a913e6b840b96332dde293ef.jpg: 480x640 1 paper, 5.7ms\n",
            "image 199/561 /content/computer_vision/test/images/paper1_paper772_jpg.rf.8895d6951fc2c1fba46d2b8734b33b02.jpg: 480x640 1 paper, 6.1ms\n",
            "image 200/561 /content/computer_vision/test/images/paper1_paper795_jpg.rf.5df1808467140e34220d70cace0c91a8.jpg: 480x640 1 paper, 5.8ms\n",
            "image 201/561 /content/computer_vision/test/images/paper1_paper828_jpg.rf.05a68e7f3280154bfedc5718d41818ec.jpg: 480x640 1 paper, 5.8ms\n",
            "image 202/561 /content/computer_vision/test/images/paper1_paper850_jpg.rf.d2759dc8a20e1eca48fa17344c64a286.jpg: 480x640 1 paper, 5.8ms\n",
            "image 203/561 /content/computer_vision/test/images/paper1_paper855_jpg.rf.98335c86a42e1f8e72cb1bc926da62de.jpg: 480x640 1 paper, 5.6ms\n",
            "image 204/561 /content/computer_vision/test/images/paper1_paper858_jpg.rf.d7ad8bd0a8d9163310ee2da29ebff161.jpg: 480x640 1 paper, 5.6ms\n",
            "image 205/561 /content/computer_vision/test/images/paper1_paper873_jpg.rf.06f95efa9eaae09d722dbfa2b6a8c3b6.jpg: 480x640 1 paper, 6.8ms\n",
            "image 206/561 /content/computer_vision/test/images/paper1_paper887_jpg.rf.4a8016171034de39c698dbc32b682388.jpg: 480x640 1 paper, 5.8ms\n",
            "image 207/561 /content/computer_vision/test/images/paper1_paper893_jpg.rf.d280cd0cb2e987e8f1047d66caf1cd7d.jpg: 480x640 2 papers, 6.0ms\n",
            "image 208/561 /content/computer_vision/test/images/paper1_paper894_jpg.rf.71008abed68aebe990d136dfa2fbccef.jpg: 480x640 1 paper, 6.0ms\n",
            "image 209/561 /content/computer_vision/test/images/paper1_paper920_jpg.rf.eb38e80355270ba3d47ba3e7e656d9a8.jpg: 480x640 1 paper, 5.9ms\n",
            "image 210/561 /content/computer_vision/test/images/paper1_paper922_jpg.rf.1cc45e290ca9434b2f4c22be89a5919d.jpg: 480x640 2 papers, 6.7ms\n",
            "image 211/561 /content/computer_vision/test/images/paper1_paper926_jpg.rf.9ed9096a3adb1f59c31f413bf9d4e4ce.jpg: 480x640 1 paper, 5.9ms\n",
            "image 212/561 /content/computer_vision/test/images/paper1_paper933_jpg.rf.c1c4fe76f32d397c73fbdef186acead2.jpg: 480x640 1 paper, 5.9ms\n",
            "image 213/561 /content/computer_vision/test/images/paper1_paper940_jpg.rf.82a1a24be4cb0f8a835f083576d32147.jpg: 640x512 1 paper, 6.6ms\n",
            "image 214/561 /content/computer_vision/test/images/paper1_paper946_jpg.rf.cbd6b411c613669d1255f53417ab902d.jpg: 480x640 1 paper, 6.7ms\n",
            "image 215/561 /content/computer_vision/test/images/paper237_jpg.rf.b7801a7d1413d1b1ad568b3671fac2e1.jpg: 480x640 1 paper, 5.9ms\n",
            "image 216/561 /content/computer_vision/test/images/paper2_filtered_paper_20200115_205708_frame_185_jpg.rf.2879100117a6be258afda6a73deba9b3.jpg: 480x640 1 paper, 6.7ms\n",
            "image 217/561 /content/computer_vision/test/images/paper2_filtered_paper_20200115_205708_frame_888_jpg.rf.4f4d1f559bed1907da07e7b2b14f576a.jpg: 480x640 1 paper, 6.1ms\n",
            "image 218/561 /content/computer_vision/test/images/paper2_filtered_paper_20200115_210009_frame_16_jpg.rf.26c025d9289ba217af5013d11fbd87f5.jpg: 480x640 1 paper, 6.0ms\n",
            "image 219/561 /content/computer_vision/test/images/paper2_filtered_paper_20200115_210009_frame_21_jpg.rf.49818c14eb415df2af52aaa68e32dace.jpg: 480x640 1 paper, 6.1ms\n",
            "image 220/561 /content/computer_vision/test/images/paper2_filtered_paper_20200115_210300_frame_139_jpg.rf.71694696ae4ecf0bf7452217e891608f.jpg: 480x640 1 paper, 10.2ms\n",
            "image 221/561 /content/computer_vision/test/images/paper2_filtered_paper_20200115_210300_frame_247_jpg.rf.734c2ebbfa707c0d2255e57b0e079fd3.jpg: 480x640 1 paper, 5.8ms\n",
            "image 222/561 /content/computer_vision/test/images/paper2_filtered_paper_20200115_210300_frame_290_jpg.rf.0d88a8a7d9eb9897dfabd6132d38987b.jpg: 480x640 1 paper, 6.0ms\n",
            "image 223/561 /content/computer_vision/test/images/paper2_filtered_paper_20200115_210300_frame_812_jpg.rf.042ba078f97b215130829b90465b7213.jpg: 480x640 1 paper, 6.0ms\n",
            "image 224/561 /content/computer_vision/test/images/paper2_filtered_paper_20200115_210300_frame_835_jpg.rf.379a89d4dc50000552ef576a25fca231.jpg: 480x640 1 paper, 6.4ms\n",
            "image 225/561 /content/computer_vision/test/images/paper2_filtered_paper_20200116_142750_frame_101_jpg.rf.06be2851be3e0a45f460711fc7e04ff9.jpg: 480x640 1 paper, 8.2ms\n",
            "image 226/561 /content/computer_vision/test/images/paper2_filtered_paper_20200116_142750_frame_106_jpg.rf.1aee070dfb27de9e0f9defde0002bbf5.jpg: 480x640 1 paper, 6.6ms\n",
            "image 227/561 /content/computer_vision/test/images/paper2_filtered_paper_20200116_142750_frame_185_jpg.rf.75bd148f4ae621858db4331835d442a1.jpg: 480x640 1 paper, 5.9ms\n",
            "image 228/561 /content/computer_vision/test/images/paper2_filtered_paper_20200116_142750_frame_219_jpg.rf.1450ddc254ede7d49cabc00a0f213c1c.jpg: 480x640 1 paper, 5.9ms\n",
            "image 229/561 /content/computer_vision/test/images/paper2_filtered_paper_20200116_142858_frame_197_jpg.rf.8379053b6c94517570543f570ee843cb.jpg: 480x640 1 paper, 6.1ms\n",
            "image 230/561 /content/computer_vision/test/images/paper2_filtered_paper_20200116_143026_frame_282_jpg.rf.846ee840e789e37323d593d4b758acf8.jpg: 480x640 1 paper, 6.1ms\n",
            "image 231/561 /content/computer_vision/test/images/paper2_filtered_paper_20200116_143026_frame_51_jpg.rf.442f0d47cb3b437f62beb390b600bc1e.jpg: 480x640 1 paper, 6.0ms\n",
            "image 232/561 /content/computer_vision/test/images/paper2_filtered_paper_20200116_143200_frame_67_jpg.rf.0d78ccf2d74551595536f01a258512e2.jpg: 480x640 1 paper, 5.8ms\n",
            "image 233/561 /content/computer_vision/test/images/paper2_filtered_paper_20200116_143239_frame_107_jpg.rf.25dc8c6cfd0629d302b629d4598c2495.jpg: 480x640 1 paper, 5.9ms\n",
            "image 234/561 /content/computer_vision/test/images/paper2_filtered_paper_20200116_143418_frame_80_jpg.rf.2cc54fae175a2f10b01803b1a0d8508a.jpg: 480x640 1 paper, 6.3ms\n",
            "image 235/561 /content/computer_vision/test/images/paper2_filtered_paper_20200116_143523_frame_117_jpg.rf.f235653f45560691c0d12182521fe51f.jpg: 480x640 1 paper, 5.9ms\n",
            "image 236/561 /content/computer_vision/test/images/paper2_filtered_paper_20200116_143523_frame_135_jpg.rf.d5c51dcb8a4f5e891310d25942c5b40b.jpg: 480x640 1 paper, 8.6ms\n",
            "image 237/561 /content/computer_vision/test/images/paper2_filtered_paper_20200116_143543_frame_0_jpg.rf.7f7cfa43ee0ebba56bba1e3f74a4b971.jpg: 480x640 1 paper, 7.7ms\n",
            "image 238/561 /content/computer_vision/test/images/paper2_filtered_paper_20200116_143614_frame_108_jpg.rf.2e03c75e72ae3ed86bb30f15e953427c.jpg: 480x640 2 papers, 11.7ms\n",
            "image 239/561 /content/computer_vision/test/images/paper2_filtered_paper_20200116_143614_frame_144_jpg.rf.3de397d87330e27338016f5904e25c52.jpg: 480x640 1 paper, 7.8ms\n",
            "image 240/561 /content/computer_vision/test/images/paper2_filtered_paper_20200116_143614_frame_1_jpg.rf.6eec91d8be44b86265448155bf016c73.jpg: 480x640 1 paper, 9.2ms\n",
            "image 241/561 /content/computer_vision/test/images/paper2_filtered_paper_20200116_143614_frame_36_jpg.rf.6e0b35b321683a47f73bb4b24efcc0dd.jpg: 480x640 1 paper, 11.1ms\n",
            "image 242/561 /content/computer_vision/test/images/paper2_filtered_paper_20200116_143614_frame_70_jpg.rf.bb92167bf31620b03c94d75aaebdd07c.jpg: 480x640 1 paper, 8.3ms\n",
            "image 243/561 /content/computer_vision/test/images/paper2_filtered_paper_20200116_145402_frame_81_jpg.rf.c7af451b1e9b9ff1e4696812abd893ec.jpg: 480x640 1 paper, 7.7ms\n",
            "image 244/561 /content/computer_vision/test/images/paper2_filtered_paper_20200116_145415_frame_134_jpg.rf.d9b35785f3d20c04201bd6f931826c7f.jpg: 480x640 1 paper, 8.4ms\n",
            "image 245/561 /content/computer_vision/test/images/paper2_filtered_paper_20200116_145415_frame_29_jpg.rf.5ea8305f2af90159c1514a8c5827ccf7.jpg: 480x640 1 paper, 8.2ms\n",
            "image 246/561 /content/computer_vision/test/images/paper2_filtered_paper_20200116_145435_frame_107_jpg.rf.49017dec12656f0cdcb6a4641c34d535.jpg: 480x640 1 paper, 9.2ms\n",
            "image 247/561 /content/computer_vision/test/images/paper2_filtered_paper_20200116_145435_frame_163_jpg.rf.ee196ea023afbd462753c555c74b7d44.jpg: 480x640 1 paper, 8.6ms\n",
            "image 248/561 /content/computer_vision/test/images/paper2_filtered_paper_20200116_145435_frame_176_jpg.rf.1a6f74adfb4776864d0047612d2459be.jpg: 480x640 1 paper, 8.1ms\n",
            "image 249/561 /content/computer_vision/test/images/paper2_filtered_paper_20200116_145520_frame_174_jpg.rf.3cca52b6d6c850ea98c00f967f7d6df3.jpg: 480x640 1 paper, 8.4ms\n",
            "image 250/561 /content/computer_vision/test/images/paper2_filtered_paper_20200116_145520_frame_235_jpg.rf.ab3fd42cb7cc7284902638cbec528aa0.jpg: 480x640 1 paper, 9.2ms\n",
            "image 251/561 /content/computer_vision/test/images/paper2_filtered_paper_20200116_145520_frame_87_jpg.rf.a9432bdcf718a56b2c04d0dd5f414e2e.jpg: 480x640 1 paper, 8.3ms\n",
            "image 252/561 /content/computer_vision/test/images/paper2_filtered_paper_20200116_145549_frame_70_jpg.rf.28aff46ea8a1686a7f00d64d845ce010.jpg: 480x640 1 paper, 8.3ms\n",
            "image 253/561 /content/computer_vision/test/images/paper2_filtered_paper_20200116_145617_frame_139_jpg.rf.107802cb4ea39d1dd85b3b60ecd0c417.jpg: 480x640 1 paper, 8.3ms\n",
            "image 254/561 /content/computer_vision/test/images/paper2_filtered_paper_20200116_145617_frame_163_jpg.rf.cb49680abfd69425e30cbe41928097cf.jpg: 480x640 1 paper, 3 plastic bottles, 8.6ms\n",
            "image 255/561 /content/computer_vision/test/images/paper2_filtered_paper_20200116_145617_frame_67_jpg.rf.7c9c9940499b78939de1a32b21af47f5.jpg: 480x640 1 paper, 8.2ms\n",
            "image 256/561 /content/computer_vision/test/images/paper2_filtered_paper_20200116_145634_frame_102_jpg.rf.fdf05b1e61e5982d6a5700311f6f379a.jpg: 480x640 1 paper, 8.6ms\n",
            "image 257/561 /content/computer_vision/test/images/paper2_filtered_paper_20200116_145634_frame_121_jpg.rf.4099035860bf26da6cc99d7206d2ec02.jpg: 480x640 1 paper, 11.3ms\n",
            "image 258/561 /content/computer_vision/test/images/paper2_filtered_paper_20200116_145634_frame_17_jpg.rf.b8e52245dd80bf78929b5ea8b230dda6.jpg: 480x640 1 paper, 14.5ms\n",
            "image 259/561 /content/computer_vision/test/images/paper2_filtered_paper_20200116_145634_frame_72_jpg.rf.598cf9a0903aa078215d20bb68664a00.jpg: 480x640 1 paper, 8.6ms\n",
            "image 260/561 /content/computer_vision/test/images/paper2_filtered_paper_20200116_145634_frame_85_jpg.rf.39a43e5e196fad99f6248ccb7ac017e7.jpg: 480x640 1 paper, 9.0ms\n",
            "image 261/561 /content/computer_vision/test/images/paper311_jpg.rf.eb188f23215a67be840cdc2643932c13.jpg: 480x640 1 paper, 5.8ms\n",
            "image 262/561 /content/computer_vision/test/images/paper326_jpg.rf.e01215a347d55ceafaaab55374f8b5d2.jpg: 480x640 1 paper, 5.9ms\n",
            "image 263/561 /content/computer_vision/test/images/paper335_jpg.rf.70c32e37656e72d1a24002c255f04a30.jpg: 480x640 1 paper, 5.7ms\n",
            "image 264/561 /content/computer_vision/test/images/paper349_jpg.rf.5644b77c5bf77fdcafc28066cf911643.jpg: 480x640 1 paper, 6.8ms\n",
            "image 265/561 /content/computer_vision/test/images/paper358_jpg.rf.6f9be1339f9e8401f6014d98e55fcdaf.jpg: 480x640 1 paper, 5.8ms\n",
            "image 266/561 /content/computer_vision/test/images/paper365_jpg.rf.eb4c722f730328915ad4737267358b82.jpg: 480x640 1 paper, 5.8ms\n",
            "image 267/561 /content/computer_vision/test/images/paper3_paper-104-_jpg.rf.ce390a2cc2d741571b0fcc7abaeb7f1a.jpg: 480x640 1 paper, 5.9ms\n",
            "image 268/561 /content/computer_vision/test/images/paper3_paper-105-_jpg.rf.0a4ef85d3d6105e0d9401073f9382b41.jpg: 480x640 1 paper, 6.6ms\n",
            "image 269/561 /content/computer_vision/test/images/paper3_paper-114-_jpg.rf.37b214937e016cc290dda3c3ad8ed87b.jpg: 480x640 1 paper, 1 plastic bottle, 6.9ms\n",
            "image 270/561 /content/computer_vision/test/images/paper3_paper-134-_jpg.rf.01c5dbf929a2bcdb90fba3de72b56b81.jpg: 480x640 1 paper, 6.7ms\n",
            "image 271/561 /content/computer_vision/test/images/paper3_paper-138-_jpg.rf.7e1d035a18246566f2927d8f86cd7f09.jpg: 480x640 1 paper, 6.4ms\n",
            "image 272/561 /content/computer_vision/test/images/paper3_paper-164-_jpg.rf.58187558e714f7c7259f14179df449b5.jpg: 480x640 1 paper, 6.3ms\n",
            "image 273/561 /content/computer_vision/test/images/paper3_paper-165-_jpg.rf.c3a6754a9b660dd71160d50bd57ced63.jpg: 480x640 1 paper, 6.2ms\n",
            "image 274/561 /content/computer_vision/test/images/paper3_paper-169-_jpg.rf.72d21c37492e1f3077978a2ce3882cad.jpg: 480x640 (no detections), 6.5ms\n",
            "image 275/561 /content/computer_vision/test/images/paper3_paper-242-_jpg.rf.e538776fd2b5f92c010c7242c4ca79cb.jpg: 480x640 1 paper, 6.5ms\n",
            "image 276/561 /content/computer_vision/test/images/paper3_paper-263-_jpg.rf.19538e594b126b9da380519f82807be6.jpg: 480x640 1 paper, 6.3ms\n",
            "image 277/561 /content/computer_vision/test/images/paper3_paper-28-_jpg.rf.445488449664cba2f55ada04bd0b18cd.jpg: 640x480 1 paper, 7.2ms\n",
            "image 278/561 /content/computer_vision/test/images/paper3_paper-288-_jpg.rf.634bef599ecc8ba4ed9a68037152c854.jpg: 480x640 1 paper, 7.4ms\n",
            "image 279/561 /content/computer_vision/test/images/paper3_paper-293-_JPG.rf.b0cc1125fe1016d56b9b3949a07ba305.jpg: 480x640 1 paper, 6.4ms\n",
            "image 280/561 /content/computer_vision/test/images/paper3_paper-297-_JPG.rf.38bc443fe4c6c8b58147622fcfce038f.jpg: 480x640 1 paper, 9.4ms\n",
            "image 281/561 /content/computer_vision/test/images/paper3_paper-299-_JPG.rf.b57c519b9dc7b58d20035701ede400ea.jpg: 480x640 1 paper, 7.4ms\n",
            "image 282/561 /content/computer_vision/test/images/paper3_paper-308-_JPG.rf.dd81a3b10708e78b4c76203af852a288.jpg: 480x640 (no detections), 6.4ms\n",
            "image 283/561 /content/computer_vision/test/images/paper3_paper-41-_jpg.rf.77d667964c6dbd84c8d6dd847aebb1de.jpg: 640x480 1 paper, 28.0ms\n",
            "image 284/561 /content/computer_vision/test/images/paper3_paper-46-_jpg.rf.3bcacd95c1cdc3b657be3d32651379d1.jpg: 480x640 1 paper, 7.3ms\n",
            "image 285/561 /content/computer_vision/test/images/paper3_paper-572-_jpg.rf.46811f865091f46517dcecfc0a50b0fd.jpg: 480x640 1 paper, 6.8ms\n",
            "image 286/561 /content/computer_vision/test/images/paper3_paper-628-_jpg.rf.487ab5dee845682bec81a5d183da7279.jpg: 480x640 1 paper, 6.2ms\n",
            "image 287/561 /content/computer_vision/test/images/paper3_paper-74-_jpg.rf.6edc3c2216c9641f78763c7b36b053ea.jpg: 480x640 1 paper, 6.5ms\n",
            "image 288/561 /content/computer_vision/test/images/paper3_paper-75-_jpg.rf.1e8ca9223fb404e5cfcd8640bd4cae42.jpg: 480x640 1 paper, 8.5ms\n",
            "image 289/561 /content/computer_vision/test/images/paper3_paper-830-_jpg.rf.98463a5e037a3bb639f3b43363f3be36.jpg: 480x640 1 paper, 6.4ms\n",
            "image 290/561 /content/computer_vision/test/images/paper3_paper-833-_jpg.rf.1bb1bca5a3b9f4352664c78150e786f2.jpg: 480x640 1 paper, 6.2ms\n",
            "image 291/561 /content/computer_vision/test/images/paper3_paper-85-_jpg.rf.f586b3c50443d5cae72642c840c9c8fc.jpg: 480x640 1 paper, 6.4ms\n",
            "image 292/561 /content/computer_vision/test/images/paper3_paper-861-_jpg.rf.d1123ed6cfe641003f9bb5ca7ea51fde.jpg: 480x640 (no detections), 40.5ms\n",
            "image 293/561 /content/computer_vision/test/images/paper3_paper-98-_jpg.rf.20486d1100394823ee6cbd3fa7f5aed9.jpg: 480x640 1 paper, 1 plastic bottle, 6.2ms\n",
            "image 294/561 /content/computer_vision/test/images/paper465_jpg.rf.ae986a5e667c20cd915746436c321bd3.jpg: 480x640 1 paper, 8.4ms\n",
            "image 295/561 /content/computer_vision/test/images/paper47_jpg.rf.f85670698cddc1653ed18a6243161731.jpg: 480x640 1 paper, 6.2ms\n",
            "image 296/561 /content/computer_vision/test/images/paper481_jpg.rf.88871b0740f55406f77327f74460ded8.jpg: 480x640 2 papers, 6.1ms\n",
            "image 297/561 /content/computer_vision/test/images/paper48_jpg.rf.ea86d16f64e072a6bfa8e8d1a49b678b.jpg: 480x640 1 paper, 6.1ms\n",
            "image 298/561 /content/computer_vision/test/images/paper522_jpg.rf.c4f19eaac7dcfb9244a02a73a798de37.jpg: 480x640 1 paper, 6.1ms\n",
            "image 299/561 /content/computer_vision/test/images/paper69_jpg.rf.67d65c7325dbebc0ba3cd479a1260e89.jpg: 480x640 1 paper, 6.1ms\n",
            "image 300/561 /content/computer_vision/test/images/paper76_jpg.rf.2a4ebcfb01ad3d900bc18832bb8f1c33.jpg: 480x640 1 paper, 8.0ms\n",
            "image 301/561 /content/computer_vision/test/images/paper_paper685_jpg.rf.f7c2b848b578c4f9b0446f1d372fc857.jpg: 640x512 2 papers, 9.8ms\n",
            "image 302/561 /content/computer_vision/test/images/paper_paper_0010_jpg.rf.4684a6197f1dc2cf6fc644e97a6708b4.jpg: 448x640 1 paper, 9.6ms\n",
            "image 303/561 /content/computer_vision/test/images/paper_paper_0011_jpg.rf.467f9bb6539e45aaf2b977ea143cd4d5.jpg: 384x640 2 papers, 8.7ms\n",
            "image 304/561 /content/computer_vision/test/images/paper_paper_0039_jpg.rf.362ee82875839d4889325380918127d6.jpg: 448x640 1 paper, 9.2ms\n",
            "image 305/561 /content/computer_vision/test/images/paper_paper_0055_jpg.rf.6508f73294903eac88b0fb756a688ba2.jpg: 480x640 1 paper, 6.8ms\n",
            "image 306/561 /content/computer_vision/test/images/paper_paper_0060_jpg.rf.2694368f9441842df8b08016dbb35f87.jpg: 640x320 2 papers, 7.5ms\n",
            "image 307/561 /content/computer_vision/test/images/paper_paper_0089_jpg.rf.06e7ef91372dc48949fa472fb2a27598.jpg: 480x640 1 paper, 6.9ms\n",
            "image 308/561 /content/computer_vision/test/images/paper_paper_0115_jpg.rf.2252af4729f0498824f757194eaf02be.jpg: 448x640 1 paper, 6.7ms\n",
            "image 309/561 /content/computer_vision/test/images/paper_paper_0118_jpg.rf.60d62dccb074ac02238e291d2907abf0.jpg: 640x512 1 paper, 6.7ms\n",
            "image 310/561 /content/computer_vision/test/images/paper_paper_0129_jpg.rf.07606899ddaf5beda1e09892c22aa1c3.jpg: 480x640 3 papers, 6.9ms\n",
            "image 311/561 /content/computer_vision/test/images/paper_paper_0136_jpg.rf.0951c61539ef59d304ae5ac8578fb7f3.jpg: 640x480 1 paper, 6.9ms\n",
            "image 312/561 /content/computer_vision/test/images/paper_paper_0163_jpg.rf.9e5521d23d7892c29416e274ff71cae8.jpg: 448x640 1 paper, 6.8ms\n",
            "image 313/561 /content/computer_vision/test/images/paper_paper_0169_jpg.rf.65cc4a35d42d11b5fd6dcba2eaf2a58f.jpg: 512x640 1 paper, 6.8ms\n",
            "image 314/561 /content/computer_vision/test/images/paper_paper_016_png.rf.95a84d3f926e9d0469ad246489950854.jpg: 480x640 3 papers, 6.8ms\n",
            "image 315/561 /content/computer_vision/test/images/paper_paper_0216_jpg.rf.fe94b3466edceafdd96d0f74dae7e02b.jpg: 640x512 1 paper, 8.5ms\n",
            "image 316/561 /content/computer_vision/test/images/paper_paper_0223_jpg.rf.c0c6c6518d22219fbbf58331c5786d7b.jpg: 416x640 2 papers, 6.7ms\n",
            "image 317/561 /content/computer_vision/test/images/paper_paper_0239_jpg.rf.f43cee205a1bf836a863da10513112d8.jpg: 640x448 1 paper, 6.7ms\n",
            "image 318/561 /content/computer_vision/test/images/paper_paper_0248_jpg.rf.1d6130e5fd4ae503935ff9ec70b3bda5.jpg: 384x640 1 paper, 6.8ms\n",
            "image 319/561 /content/computer_vision/test/images/paper_paper_0250_jpg.rf.e696ca84614fd5d6f68e4b1e01cf86fe.jpg: 640x640 1 paper, 8.0ms\n",
            "image 320/561 /content/computer_vision/test/images/paper_paper_0268_jpg.rf.b00933ea5cf555fa7d9650688016299d.jpg: 448x640 1 paper, 7.1ms\n",
            "image 321/561 /content/computer_vision/test/images/paper_paper_0269_jpg.rf.8409295ce9b9e17cbdd61e2130576f40.jpg: 640x640 1 paper, 8.5ms\n",
            "image 322/561 /content/computer_vision/test/images/paper_paper_0275_jpg.rf.953e415494fff69b866f4f745fdf856f.jpg: 448x640 1 paper, 6.9ms\n",
            "image 323/561 /content/computer_vision/test/images/paper_paper_0294_jpg.rf.f2f9c1ac7ea7f293be4a01e46e49a6a8.jpg: 416x640 2 papers, 7.1ms\n",
            "image 324/561 /content/computer_vision/test/images/paper_paper_0311_jpg.rf.00ab4cd542fde34af719fb363b787fa8.jpg: 384x640 1 paper, 6.9ms\n",
            "image 325/561 /content/computer_vision/test/images/paper_paper_0313_jpg.rf.9a658761054c390ec2e8370d9118a3ff.jpg: 480x640 1 paper, 8.7ms\n",
            "image 326/561 /content/computer_vision/test/images/paper_paper_0317_jpg.rf.777c59b98ba5f1123eec8e7f44f4144e.jpg: 640x480 1 paper, 7.1ms\n",
            "image 327/561 /content/computer_vision/test/images/paper_paper_0332_jpg.rf.b6dc6fddcd76168818ab05302d792c62.jpg: 576x640 2 papers, 8.0ms\n",
            "image 328/561 /content/computer_vision/test/images/paper_paper_0351_jpg.rf.ba6702fc9e65e2a5fb352dc80fc223b0.jpg: 640x544 2 papers, 34.0ms\n",
            "image 329/561 /content/computer_vision/test/images/paper_paper_0371_jpg.rf.7af2b282c031ec7f1efb1a5a6b92f4b3.jpg: 480x640 4 papers, 6.8ms\n",
            "image 330/561 /content/computer_vision/test/images/paper_paper_0377_jpg.rf.a8b377581424a1c17a0b61e49290a7ae.jpg: 640x480 1 paper, 14.9ms\n",
            "image 331/561 /content/computer_vision/test/images/paper_paper_0383_jpg.rf.4956727af9433483e652e094a7481ed2.jpg: 480x640 1 paper, 6.8ms\n",
            "image 332/561 /content/computer_vision/test/images/paper_paper_0418_jpg.rf.a737d16c1bee258538c02ee2cf51b6d7.jpg: 480x640 2 papers, 6.3ms\n",
            "image 333/561 /content/computer_vision/test/images/paper_paper_0424_jpg.rf.be6208114102bb94bab63c85ab5bc8bf.jpg: 640x640 1 paper, 8.1ms\n",
            "image 334/561 /content/computer_vision/test/images/paper_paper_0429_jpg.rf.0db419167a682c388c10a7da79c319fe.jpg: 384x640 1 paper, 6.7ms\n",
            "image 335/561 /content/computer_vision/test/images/paper_paper_0440_jpg.rf.b883d3080d62303bd1377bbd2acd9732.jpg: 640x576 1 paper, 7.9ms\n",
            "image 336/561 /content/computer_vision/test/images/paper_paper_0502_jpg.rf.1755e0e0a6f6f94b127673227d47df7b.jpg: 544x640 1 paper, 125.4ms\n",
            "image 337/561 /content/computer_vision/test/images/paper_paper_0511_jpg.rf.5318657bc2d8f15237fe3dbdcd490756.jpg: 608x640 1 paper, 42.4ms\n",
            "image 338/561 /content/computer_vision/test/images/paper_paper_0532_jpg.rf.9a7781babbb9f4cd9c74530289f34ec8.jpg: 480x640 1 paper, 40.0ms\n",
            "image 339/561 /content/computer_vision/test/images/paper_paper_0577_jpg.rf.737bec3bb768e5b00e6f4375d48160ff.jpg: 640x544 3 papers, 9.1ms\n",
            "image 340/561 /content/computer_vision/test/images/paper_paper_0608_jpg.rf.f611fa35d41011d1cca3e76329b07ebb.jpg: 224x640 3 papers, 32.0ms\n",
            "image 341/561 /content/computer_vision/test/images/paper_paper_0632_jpg.rf.1c13d4e517827f0f052d6a28a779dfce.jpg: 640x640 1 paper, 8.1ms\n",
            "image 342/561 /content/computer_vision/test/images/paper_paper_0699_jpg.rf.0e0b4e139934ce335cdd736df52f0eda.jpg: 512x640 1 paper, 6.8ms\n",
            "image 343/561 /content/computer_vision/test/images/paper_paper_0711_jpg.rf.e6c48450c5269217581e24bc546e8d99.jpg: 480x640 4 papers, 6.8ms\n",
            "image 344/561 /content/computer_vision/test/images/paper_paper_0727_jpg.rf.6745bd9647acb6996daa02b6b08df2cb.jpg: 480x640 (no detections), 6.1ms\n",
            "image 345/561 /content/computer_vision/test/images/paper_paper_0728_jpg.rf.cbe2317d54af3f800b39a1055158fedb.jpg: 448x640 2 papers, 6.7ms\n",
            "image 346/561 /content/computer_vision/test/images/paper_paper_0764_jpg.rf.3fde30df32f93f8c7c65d3ed1328f3a8.jpg: 640x640 1 paper, 8.2ms\n",
            "image 347/561 /content/computer_vision/test/images/paper_paper_0773_jpg.rf.d221431efdefaea47f266fffeb619012.jpg: 640x384 1 paper, 6.8ms\n",
            "image 348/561 /content/computer_vision/test/images/paper_paper_0798_jpg.rf.068406c84f0b33def1bf35cbba023705.jpg: 416x640 7 papers, 6.8ms\n",
            "image 349/561 /content/computer_vision/test/images/paper_paper_0826_jpg.rf.6f8ee57a2e5901f8dac4965359e5a8c1.jpg: 448x640 1 paper, 6.7ms\n",
            "image 350/561 /content/computer_vision/test/images/paper_paper_0828_jpg.rf.3972cca7f0c0d0059002cfceadfcd244.jpg: 640x480 1 paper, 6.7ms\n",
            "image 351/561 /content/computer_vision/test/images/paper_paper_0838_jpg.rf.6bba1459d5506228c86ed9dadff0ff4c.jpg: 384x640 1 paper, 6.8ms\n",
            "image 352/561 /content/computer_vision/test/images/paper_paper_0873_jpg.rf.b341e54e012838a82e9e930a4dbfc7f3.jpg: 448x640 1 paper, 6.7ms\n",
            "image 353/561 /content/computer_vision/test/images/paper_paper_0875_jpg.rf.b9a769700ac7b23eddc2207ae241de5b.jpg: 320x640 1 paper, 7.0ms\n",
            "image 354/561 /content/computer_vision/test/images/paper_paper_0877_jpg.rf.3c8683f4d4495802ea0bff7eebbc1ca1.jpg: 448x640 2 papers, 6.7ms\n",
            "image 355/561 /content/computer_vision/test/images/paper_paper_0879_jpg.rf.ff32d060b4550ae2e4a78c67d0b4e1ef.jpg: 640x640 1 paper, 9.1ms\n",
            "image 356/561 /content/computer_vision/test/images/paper_paper_0891_jpg.rf.4c9be656a7a9f73322b5a60a1acfc498.jpg: 448x640 1 paper, 6.8ms\n",
            "image 357/561 /content/computer_vision/test/images/paper_paper_0940_jpg.rf.fe3e09ca35c0a9b1df2cd70f175f39a8.jpg: 640x448 1 paper, 9.3ms\n",
            "image 358/561 /content/computer_vision/test/images/paper_paper_0952_jpg.rf.3c110ca432a411089774f7aa5fda88b5.jpg: 640x640 1 paper, 9.2ms\n",
            "image 359/561 /content/computer_vision/test/images/paper_paper_0959_jpg.rf.da34f120da73d191e5cf941f4cba438e.jpg: 448x640 1 paper, 12.3ms\n",
            "image 360/561 /content/computer_vision/test/images/paper_paper_0964_jpg.rf.2ea701c11007c7552ed8f1102c62f2d3.jpg: 384x640 1 paper, 9.7ms\n",
            "image 361/561 /content/computer_vision/test/images/paper_paper_0975_jpg.rf.1cfbd7dc78cd070e5729fe93935df1a4.jpg: 512x640 1 paper, 15.6ms\n",
            "image 362/561 /content/computer_vision/test/images/paper_paper_0987_jpg.rf.f3dea36069fc7978f4b03ebe3c8edfec.jpg: 480x640 1 paper, 11.9ms\n",
            "image 363/561 /content/computer_vision/test/images/paper_paper_0992_jpg.rf.a855de62c39d6fc23bca3a1e2465e274.jpg: 448x640 1 paper, 11.9ms\n",
            "image 364/561 /content/computer_vision/test/images/pexels-karolina-grabowska-4498089_jpg.rf.8b1b3e5839412687881aea48875fc21a.jpg: 640x448 3 plastic bottles, 9.4ms\n",
            "image 365/561 /content/computer_vision/test/images/plastic-7-_jpg.rf.f7dfe5b8f14b806fb3345dbece37d6da.jpg: 480x640 1 plastic bottle, 9.0ms\n",
            "image 366/561 /content/computer_vision/test/images/plastic1_plastic123_jpg.rf.d00c753f47b5970ef4f6dbabb6316461.jpg: 480x640 1 paper, 1 plastic bottle, 11.0ms\n",
            "image 367/561 /content/computer_vision/test/images/plastic1_plastic127_jpg.rf.93374ad717f6de5e6771d83dfc8183a6.jpg: 640x448 1 plastic bottle, 20.6ms\n",
            "image 368/561 /content/computer_vision/test/images/plastic1_plastic133_jpg.rf.e6be04ffba898e45e5a63c6e8921dfbe.jpg: 480x640 1 plastic bottle, 9.0ms\n",
            "image 369/561 /content/computer_vision/test/images/plastic1_plastic135_jpg.rf.49fdd7e34438ea6152f6c63e31fb9a3c.jpg: 480x640 1 paper, 7.6ms\n",
            "image 370/561 /content/computer_vision/test/images/plastic1_plastic160_jpg.rf.2e503b4d1e17985ebe74d47cc84879e5.jpg: 480x640 1 plastic bottle, 7.4ms\n",
            "image 371/561 /content/computer_vision/test/images/plastic1_plastic164_jpg.rf.0f68c9b44abb1b31ce52b98e85fca5e1.jpg: 384x640 8 plastic bottles, 11.8ms\n",
            "image 372/561 /content/computer_vision/test/images/plastic1_plastic179_jpg.rf.44021e17f1cdd07aa5faf9953fe22470.jpg: 480x640 1 plastic bottle, 7.9ms\n",
            "image 373/561 /content/computer_vision/test/images/plastic1_plastic17_jpg.rf.6ca52aefbdf9d3c1e152ead90b7f6a87.jpg: 416x640 (no detections), 13.8ms\n",
            "image 374/561 /content/computer_vision/test/images/plastic1_plastic1_jpg.rf.60d415a4178f6c100c9678ca6ed594d8.jpg: 640x480 1 plastic bottle, 11.9ms\n",
            "image 375/561 /content/computer_vision/test/images/plastic1_plastic207_jpg.rf.ce2fb699586ce5959541dc7aaeb74653.jpg: 480x640 1 plastic bottle, 11.3ms\n",
            "image 376/561 /content/computer_vision/test/images/plastic1_plastic240_jpg.rf.fffa0900bb530a089794950547638ec3.jpg: 480x640 1 plastic bottle, 10.1ms\n",
            "image 377/561 /content/computer_vision/test/images/plastic1_plastic281_jpg.rf.7c2d3e25d5d96c315bba99185fbe4abe.jpg: 480x640 1 plastic bottle, 26.7ms\n",
            "image 378/561 /content/computer_vision/test/images/plastic1_plastic355_jpg.rf.e0cd9da8461e04ed6e7454e76cba916b.jpg: 480x640 1 plastic bottle, 33.9ms\n",
            "image 379/561 /content/computer_vision/test/images/plastic1_plastic363_jpg.rf.922bb067cc3463101b07333ab0b8d4d5.jpg: 480x640 1 plastic bottle, 43.9ms\n",
            "image 380/561 /content/computer_vision/test/images/plastic1_plastic376_jpg.rf.a2dc473b8d40dc800ca62ad840616cc0.jpg: 480x640 1 plastic bottle, 42.4ms\n",
            "image 381/561 /content/computer_vision/test/images/plastic1_plastic380_jpg.rf.f2cbc907047120cbb8a86d8394a09613.jpg: 480x640 1 plastic bottle, 43.1ms\n",
            "image 382/561 /content/computer_vision/test/images/plastic1_plastic445_jpg.rf.b95d301e3bb28eb0c8d737e6d9792b5b.jpg: 480x640 1 plastic bottle, 25.6ms\n",
            "image 383/561 /content/computer_vision/test/images/plastic1_plastic484_jpg.rf.15590ad0b245a2cce1636f4afdc7bef8.jpg: 480x640 2 plastic bottles, 9.9ms\n",
            "image 384/561 /content/computer_vision/test/images/plastic1_plastic521_jpg.rf.a7dce0d1a4f6049efb254b8e93e8aebf.jpg: 480x640 1 plastic bottle, 15.5ms\n",
            "image 385/561 /content/computer_vision/test/images/plastic1_plastic569_jpg.rf.2387e12ea9ce0f4b2a37d3da034ebfe8.jpg: 640x448 1 plastic bottle, 10.9ms\n",
            "image 386/561 /content/computer_vision/test/images/plastic1_plastic591_jpg.rf.c1597868cc38aa688d71222b740e66db.jpg: 640x384 1 plastic bottle, 9.9ms\n",
            "image 387/561 /content/computer_vision/test/images/plastic1_plastic5_jpg.rf.cd9dc39ff14a8ec3cc474012187db962.jpg: 480x640 1 plastic bottle, 11.0ms\n",
            "image 388/561 /content/computer_vision/test/images/plastic1_plastic628_jpg.rf.a69aac9c6eb6369996c8dc3cfc293ca3.jpg: 640x640 5 plastic bottles, 9.9ms\n",
            "image 389/561 /content/computer_vision/test/images/plastic1_plastic644_jpg.rf.9f7af390989da1735d1d47d8f40d550a.jpg: 480x640 1 plastic bottle, 9.9ms\n",
            "image 390/561 /content/computer_vision/test/images/plastic1_plastic645_jpg.rf.7054085e4e0b3e9ae1cd57b404b48045.jpg: 512x640 (no detections), 9.4ms\n",
            "image 391/561 /content/computer_vision/test/images/plastic1_plastic684_jpg.rf.b348a488a6609b60f697d6f56f8bdd5e.jpg: 416x640 9 plastic bottles, 9.4ms\n",
            "image 392/561 /content/computer_vision/test/images/plastic1_plastic687_jpg.rf.29c08f03576eb047ff7bd07cb1b2c85e.jpg: 640x576 3 plastic bottles, 9.2ms\n",
            "image 393/561 /content/computer_vision/test/images/plastic1_plastic713_jpg.rf.5b552708115d7da2944bef1dee42d2a3.jpg: 480x640 5 plastic bottles, 9.1ms\n",
            "image 394/561 /content/computer_vision/test/images/plastic1_plastic714_jpg.rf.5cd76aa9ac31fd079f7ea79867930fa3.jpg: 480x640 1 plastic bottle, 8.3ms\n",
            "image 395/561 /content/computer_vision/test/images/plastic1_plastic743_jpg.rf.d332f66372951e411405b107229dcdf8.jpg: 448x640 1 plastic bottle, 9.3ms\n",
            "image 396/561 /content/computer_vision/test/images/plastic1_plastic74_jpg.rf.11a72eccdf35e6dc1005b968880d4e2a.jpg: 480x640 1 plastic bottle, 9.6ms\n",
            "image 397/561 /content/computer_vision/test/images/plastic1_plastic768_jpg.rf.09c2921ca3f5011a6adde5d213ac138f.jpg: 480x640 1 plastic bottle, 8.5ms\n",
            "image 398/561 /content/computer_vision/test/images/plastic1_plastic77_jpg.rf.76159adf12cafef9c0ed3a3b1f3b7722.jpg: 480x640 1 paper, 1 plastic bottle, 9.3ms\n",
            "image 399/561 /content/computer_vision/test/images/plastic1_plastic78_jpg.rf.dd690bd2a5d317099eb53d2674392a56.jpg: 480x640 1 plastic bottle, 8.6ms\n",
            "image 400/561 /content/computer_vision/test/images/plastic1_plastic801_jpg.rf.e97c0cf8529cf9bf0f681aa1895f2c3c.jpg: 640x640 1 plastic bottle, 9.4ms\n",
            "image 401/561 /content/computer_vision/test/images/plastic1_plastic821_jpg.rf.991441844d657f94c0ab389405867bcd.jpg: 448x640 1 plastic bottle, 10.0ms\n",
            "image 402/561 /content/computer_vision/test/images/plastic1_plastic865_jpg.rf.682b9529d05e602d3cf30e08e545455c.jpg: 480x640 1 paper, 9.3ms\n",
            "image 403/561 /content/computer_vision/test/images/plastic2_filtered_plastic_20200116_143900_frame_1018_jpg.rf.173340ea68e92aaad4c92175f97d80e3.jpg: 480x640 3 plastic bottles, 8.5ms\n",
            "image 404/561 /content/computer_vision/test/images/plastic2_filtered_plastic_20200116_143900_frame_1049_jpg.rf.64851d17e097a4a68ae2bfe561997286.jpg: 480x640 2 plastic bottles, 8.5ms\n",
            "image 405/561 /content/computer_vision/test/images/plastic2_filtered_plastic_20200116_143900_frame_1054_jpg.rf.9da8714964f31d679e0c1ea4dbd6124d.jpg: 480x640 3 plastic bottles, 8.6ms\n",
            "image 406/561 /content/computer_vision/test/images/plastic2_filtered_plastic_20200116_143900_frame_1114_jpg.rf.59717605787ede557f8e248937d4c918.jpg: 480x640 2 plastic bottles, 8.4ms\n",
            "image 407/561 /content/computer_vision/test/images/plastic2_filtered_plastic_20200116_143900_frame_1119_jpg.rf.908ef30c44018d5efb330568228aab47.jpg: 480x640 2 plastic bottles, 8.6ms\n",
            "image 408/561 /content/computer_vision/test/images/plastic2_filtered_plastic_20200116_143900_frame_1126_jpg.rf.4ff23ac4e9f45ffa6e2b3b76f57579c6.jpg: 480x640 2 plastic bottles, 8.4ms\n",
            "image 409/561 /content/computer_vision/test/images/plastic2_filtered_plastic_20200116_143900_frame_1237_jpg.rf.e982b2d54440b40987a79feac168cab1.jpg: 480x640 3 plastic bottles, 8.4ms\n",
            "image 410/561 /content/computer_vision/test/images/plastic2_filtered_plastic_20200116_143900_frame_1364_jpg.rf.1ad9d3e5e13bba768ea619210674c94e.jpg: 480x640 1 plastic bottle, 8.5ms\n",
            "image 411/561 /content/computer_vision/test/images/plastic2_filtered_plastic_20200116_143900_frame_236_jpg.rf.90a1f595904b404cd150f0bfa7d2a8a0.jpg: 480x640 1 plastic bottle, 8.8ms\n",
            "image 412/561 /content/computer_vision/test/images/plastic2_filtered_plastic_20200116_143900_frame_251_jpg.rf.f5b218eb8f868dd8d5197ad1bdbc331b.jpg: 480x640 1 plastic bottle, 8.5ms\n",
            "image 413/561 /content/computer_vision/test/images/plastic2_filtered_plastic_20200116_143900_frame_254_jpg.rf.68e60d8b5bdc63c41fdf2fd864fa55c5.jpg: 480x640 1 plastic bottle, 8.6ms\n",
            "image 414/561 /content/computer_vision/test/images/plastic2_filtered_plastic_20200116_143900_frame_444_jpg.rf.39babef4af3acfa9a775fdd146079216.jpg: 480x640 2 plastic bottles, 8.6ms\n",
            "image 415/561 /content/computer_vision/test/images/plastic2_filtered_plastic_20200116_143900_frame_454_jpg.rf.49f5dbb4d61d6c51b5fb72ba038617c0.jpg: 480x640 1 plastic bottle, 10.5ms\n",
            "image 416/561 /content/computer_vision/test/images/plastic2_filtered_plastic_20200116_143900_frame_461_jpg.rf.2bc0ed3b7e56caebca0b8a132420c3e3.jpg: 480x640 1 plastic bottle, 9.5ms\n",
            "image 417/561 /content/computer_vision/test/images/plastic2_filtered_plastic_20200116_143900_frame_466_jpg.rf.fb33cb8f168f696f7f00f6607e66d26b.jpg: 480x640 1 plastic bottle, 10.9ms\n",
            "image 418/561 /content/computer_vision/test/images/plastic2_filtered_plastic_20200116_143900_frame_887_jpg.rf.7d8e1bd673d5d179928f924b7294d11d.jpg: 480x640 1 plastic bottle, 9.7ms\n",
            "image 419/561 /content/computer_vision/test/images/plastic2_filtered_plastic_20200116_143900_frame_890_jpg.rf.0d63672ca4eac1f063c01856ce2d9451.jpg: 480x640 1 plastic bottle, 12.2ms\n",
            "image 420/561 /content/computer_vision/test/images/plastic2_filtered_plastic_20200116_143900_frame_8_jpg.rf.11cada475136e773fb31d46f643ee94b.jpg: 480x640 1 plastic bottle, 12.3ms\n",
            "image 421/561 /content/computer_vision/test/images/plastic2_filtered_plastic_20200116_143900_frame_94_jpg.rf.f7c16243813674528827563c94c9cf36.jpg: 480x640 1 plastic bottle, 17.5ms\n",
            "image 422/561 /content/computer_vision/test/images/plastic2_filtered_plastic_20200116_144121_frame_136_jpg.rf.01333597c6cdb167b8a2e517f2df9e9e.jpg: 480x640 1 plastic bottle, 10.4ms\n",
            "image 423/561 /content/computer_vision/test/images/plastic2_filtered_plastic_20200116_144121_frame_141_jpg.rf.5bcdaf9d37c9e202975c74d92a5abd16.jpg: 480x640 2 plastic bottles, 11.5ms\n",
            "image 424/561 /content/computer_vision/test/images/plastic2_filtered_plastic_20200116_144121_frame_146_jpg.rf.663b3153eadf5a8dbfc8b4d70ca2e5a3.jpg: 480x640 1 plastic bottle, 10.6ms\n",
            "image 425/561 /content/computer_vision/test/images/plastic2_filtered_plastic_20200116_144121_frame_168_jpg.rf.e7deb4c5f38ad65d86e51aae536de991.jpg: 480x640 1 plastic bottle, 12.3ms\n",
            "image 426/561 /content/computer_vision/test/images/plastic2_filtered_plastic_20200116_144121_frame_203_jpg.rf.ec670d5fd11c6597ddf77e1f8fca8fcd.jpg: 480x640 1 plastic bottle, 8.0ms\n",
            "image 427/561 /content/computer_vision/test/images/plastic2_filtered_plastic_20200116_144121_frame_207_jpg.rf.39fcf6c383c572fdd29a7f71911f4744.jpg: 480x640 1 plastic bottle, 8.6ms\n",
            "image 428/561 /content/computer_vision/test/images/plastic2_filtered_plastic_20200116_144121_frame_217_jpg.rf.7d9ed22b7aa8b957ba2bf9eab5cb2cc2.jpg: 480x640 1 plastic bottle, 8.8ms\n",
            "image 429/561 /content/computer_vision/test/images/plastic2_filtered_plastic_20200116_144121_frame_48_jpg.rf.2429fd577138b9bef6913bf0ab90ea2b.jpg: 480x640 1 plastic bottle, 8.5ms\n",
            "image 430/561 /content/computer_vision/test/images/plastic2_filtered_plastic_20200116_144121_frame_60_jpg.rf.65e7400c03d98171b48eaae5d6a55bb4.jpg: 480x640 1 plastic bottle, 8.6ms\n",
            "image 431/561 /content/computer_vision/test/images/plastic2_filtered_plastic_20200116_144139_frame_125_jpg.rf.e7dc79ee6128b9a3de6d64153ae8d9ee.jpg: 480x640 2 plastic bottles, 8.4ms\n",
            "image 432/561 /content/computer_vision/test/images/plastic2_filtered_plastic_20200116_144139_frame_174_jpg.rf.deb114361448448be5e8254605844d87.jpg: 480x640 2 plastic bottles, 11.4ms\n",
            "image 433/561 /content/computer_vision/test/images/plastic2_filtered_plastic_20200116_144139_frame_223_jpg.rf.a15c8c3483c25bb70ebc7c7d10ec1435.jpg: 480x640 1 plastic bottle, 9.5ms\n",
            "image 434/561 /content/computer_vision/test/images/plastic2_filtered_plastic_20200116_144139_frame_29_jpg.rf.a0cc5beadc441a584e781350de3da206.jpg: 480x640 1 plastic bottle, 11.9ms\n",
            "image 435/561 /content/computer_vision/test/images/plastic2_filtered_plastic_20200116_144139_frame_95_jpg.rf.3df064b04e335c0eb00045ab5bd4356d.jpg: 480x640 2 plastic bottles, 8.6ms\n",
            "image 436/561 /content/computer_vision/test/images/plastic2_filtered_plastic_20200116_144156_frame_35_jpg.rf.6318580438c41926db33dbd1d3af1cdb.jpg: 480x640 1 plastic bottle, 8.4ms\n",
            "image 437/561 /content/computer_vision/test/images/plastic2_filtered_plastic_20200116_144209_frame_121_jpg.rf.f223bafa8d44ff6d0fb35fd031c76e21.jpg: 480x640 1 plastic bottle, 9.5ms\n",
            "image 438/561 /content/computer_vision/test/images/plastic2_filtered_plastic_20200116_144209_frame_1_jpg.rf.ce91baad32190c0931bb09e4a50d0f58.jpg: 480x640 2 plastic bottles, 8.4ms\n",
            "image 439/561 /content/computer_vision/test/images/plastic2_filtered_plastic_20200116_144209_frame_63_jpg.rf.200e43673fb2ba678ffab1e966f1c347.jpg: 480x640 1 plastic bottle, 9.4ms\n",
            "image 440/561 /content/computer_vision/test/images/plastic2_filtered_plastic_20200116_144209_frame_74_jpg.rf.eb7e7778f3fc26526fb418191fb4a8c1.jpg: 480x640 1 plastic bottle, 9.4ms\n",
            "image 441/561 /content/computer_vision/test/images/plastic2_filtered_plastic_20200116_144209_frame_89_jpg.rf.c8bb178d302ff1448bae74e8514085f6.jpg: 480x640 1 plastic bottle, 8.9ms\n",
            "image 442/561 /content/computer_vision/test/images/plastic2_filtered_plastic_20200116_144222_frame_102_jpg.rf.3ca2a734903e0db6c5a48d6045002844.jpg: 480x640 2 plastic bottles, 8.6ms\n",
            "image 443/561 /content/computer_vision/test/images/plastic2_filtered_plastic_20200116_144222_frame_107_jpg.rf.59c052fc8c4abfabc73dd51ff3f7ed45.jpg: 480x640 2 plastic bottles, 8.6ms\n",
            "image 444/561 /content/computer_vision/test/images/plastic2_filtered_plastic_20200116_144222_frame_119_jpg.rf.2b3b3a6546389ecda4911ecdf068cf3e.jpg: 480x640 3 plastic bottles, 8.3ms\n",
            "image 445/561 /content/computer_vision/test/images/plastic2_filtered_plastic_20200116_144222_frame_136_jpg.rf.3248c229287732d5a7d10d4a01b91626.jpg: 480x640 2 plastic bottles, 8.5ms\n",
            "image 446/561 /content/computer_vision/test/images/plastic2_filtered_plastic_20200116_144222_frame_64_jpg.rf.b7639f202263807191130103c05b6295.jpg: 480x640 2 plastic bottles, 10.3ms\n",
            "image 447/561 /content/computer_vision/test/images/plastic2_filtered_plastic_20200116_144222_frame_74_jpg.rf.48b431cc083160df09ce2183c6c67f0d.jpg: 480x640 2 plastic bottles, 8.7ms\n",
            "image 448/561 /content/computer_vision/test/images/plastic2_filtered_plastic_20200116_144222_frame_75_jpg.rf.623248b5ccee66e8fdc22fae3729357b.jpg: 480x640 2 plastic bottles, 8.9ms\n",
            "image 449/561 /content/computer_vision/test/images/plastic2_filtered_plastic_20200116_144222_frame_77_jpg.rf.96e9572e7946acf70bfa5c88856eff0b.jpg: 480x640 2 plastic bottles, 8.3ms\n",
            "image 450/561 /content/computer_vision/test/images/plastic2_filtered_plastic_20200116_144222_frame_83_jpg.rf.030edbe9a58b2265f9ee0020fab39bb9.jpg: 480x640 2 plastic bottles, 8.3ms\n",
            "image 451/561 /content/computer_vision/test/images/plastic2_filtered_plastic_20200116_144222_frame_84_jpg.rf.cc2e3bc47bdf6dbde52d46d861479320.jpg: 480x640 2 plastic bottles, 8.9ms\n",
            "image 452/561 /content/computer_vision/test/images/plastic2_filtered_plastic_20200116_144222_frame_87_jpg.rf.d926f148dc93f399962f824b8fc9c59d.jpg: 480x640 2 plastic bottles, 8.4ms\n",
            "image 453/561 /content/computer_vision/test/images/plastic2_filtered_plastic_20200116_144322_frame_129_jpg.rf.55ee2a88d57cc0c2bc1fee932b9320be.jpg: 480x640 1 plastic bottle, 8.3ms\n",
            "image 454/561 /content/computer_vision/test/images/plastic2_filtered_plastic_20200116_144322_frame_12_jpg.rf.93f7cbe885e1fae532d89b6d65bcc272.jpg: 480x640 1 plastic bottle, 8.5ms\n",
            "image 455/561 /content/computer_vision/test/images/plastic2_filtered_plastic_20200116_144322_frame_250_jpg.rf.e529fca9a48bfefba7ec35d0e039e078.jpg: 480x640 1 plastic bottle, 9.7ms\n",
            "image 456/561 /content/computer_vision/test/images/plastic2_filtered_plastic_20200116_144322_frame_26_jpg.rf.7089ed701ce9c07e7b1093938e92c59c.jpg: 480x640 1 plastic bottle, 8.9ms\n",
            "image 457/561 /content/computer_vision/test/images/plastic2_filtered_plastic_20200116_144342_frame_127_jpg.rf.9859e0bea2d1d97b64220e738f8bf2b0.jpg: 480x640 1 plastic bottle, 9.5ms\n",
            "image 458/561 /content/computer_vision/test/images/plastic2_filtered_plastic_20200116_144342_frame_236_jpg.rf.88ca8fb53396435cac5fb2d14567d6fa.jpg: 480x640 2 plastic bottles, 8.5ms\n",
            "image 459/561 /content/computer_vision/test/images/plastic2_filtered_plastic_20200116_144342_frame_276_jpg.rf.5f20b34a8bc1984f9cca2ac5a6558222.jpg: 480x640 1 plastic bottle, 8.6ms\n",
            "image 460/561 /content/computer_vision/test/images/plastic2_filtered_plastic_20200116_144342_frame_96_jpg.rf.f543f372ea33ebacc7a56f5bb219a316.jpg: 480x640 1 plastic bottle, 8.6ms\n",
            "image 461/561 /content/computer_vision/test/images/plastic2_filtered_plastic_20200116_144410_frame_10_jpg.rf.52be8b420a656c26aecd090833adad6e.jpg: 480x640 1 plastic bottle, 9.7ms\n",
            "image 462/561 /content/computer_vision/test/images/plastic2_filtered_plastic_20200116_144410_frame_12_jpg.rf.4a44fc76c3b044bd76f7c5bafac9b8a7.jpg: 480x640 1 plastic bottle, 9.4ms\n",
            "image 463/561 /content/computer_vision/test/images/plastic2_filtered_plastic_20200116_144410_frame_132_jpg.rf.59c6769f97927b03b1a224129266e246.jpg: 480x640 1 plastic bottle, 9.6ms\n",
            "image 464/561 /content/computer_vision/test/images/plastic2_filtered_plastic_20200116_144410_frame_134_jpg.rf.d0452b7b77e8aebd8e7d7ff698fc48ed.jpg: 480x640 1 plastic bottle, 9.3ms\n",
            "image 465/561 /content/computer_vision/test/images/plastic2_filtered_plastic_20200116_144410_frame_139_jpg.rf.5e20dcf367e8120c4bdf9b6cb9f48bad.jpg: 480x640 1 plastic bottle, 9.6ms\n",
            "image 466/561 /content/computer_vision/test/images/plastic2_filtered_plastic_20200116_144410_frame_169_jpg.rf.7287ae5932646aff666e91dfe21ccabe.jpg: 480x640 1 plastic bottle, 10.0ms\n",
            "image 467/561 /content/computer_vision/test/images/plastic2_filtered_plastic_20200116_144410_frame_174_jpg.rf.6fb63c6c3ee03b944f067931c71ba944.jpg: 480x640 1 plastic bottle, 13.3ms\n",
            "image 468/561 /content/computer_vision/test/images/plastic2_filtered_plastic_20200116_144410_frame_196_jpg.rf.ca37705a90c66ccbbd7d9774d04e6255.jpg: 480x640 2 plastic bottles, 9.5ms\n",
            "image 469/561 /content/computer_vision/test/images/plastic2_filtered_plastic_20200116_144410_frame_204_jpg.rf.f9f0d81702ca19b5b64cc8c0fe89cbf3.jpg: 480x640 2 plastic bottles, 10.4ms\n",
            "image 470/561 /content/computer_vision/test/images/plastic2_filtered_plastic_20200116_144410_frame_22_jpg.rf.1f574943d6eda0241b7461bf5be16df2.jpg: 480x640 1 plastic bottle, 10.3ms\n",
            "image 471/561 /content/computer_vision/test/images/plastic2_filtered_plastic_20200116_144410_frame_280_jpg.rf.e300505a1b82205e4f5dc0988ef100b8.jpg: 480x640 1 plastic bottle, 11.4ms\n",
            "image 472/561 /content/computer_vision/test/images/plastic2_filtered_plastic_20200116_144410_frame_297_jpg.rf.a9e83fcadb7e75babab37ccc21d78328.jpg: 480x640 1 plastic bottle, 11.9ms\n",
            "image 473/561 /content/computer_vision/test/images/plastic2_filtered_plastic_20200116_144410_frame_319_jpg.rf.f78528030def61ec44d8a61661360de9.jpg: 480x640 1 plastic bottle, 10.9ms\n",
            "image 474/561 /content/computer_vision/test/images/plastic2_filtered_plastic_20200116_144437_frame_11_jpg.rf.7643cf2a46063011b0b4eb347371cd20.jpg: 480x640 1 plastic bottle, 15.8ms\n",
            "image 475/561 /content/computer_vision/test/images/plastic2_filtered_plastic_20200116_144437_frame_157_jpg.rf.3d496e12b726e5e31b72e4da55bfdb15.jpg: 480x640 5 plastic bottles, 11.2ms\n",
            "image 476/561 /content/computer_vision/test/images/plastic2_filtered_plastic_20200116_144437_frame_161_jpg.rf.362df0f62900478735c0b93db2ac2b21.jpg: 480x640 4 plastic bottles, 12.4ms\n",
            "image 477/561 /content/computer_vision/test/images/plastic2_filtered_plastic_20200116_144437_frame_206_jpg.rf.814281bea36c1fc8f30efbcadde574a1.jpg: 480x640 2 plastic bottles, 9.4ms\n",
            "image 478/561 /content/computer_vision/test/images/plastic2_filtered_plastic_20200116_144437_frame_233_jpg.rf.2b63d19639635cba735e73cd467662b5.jpg: 480x640 2 plastic bottles, 8.4ms\n",
            "image 479/561 /content/computer_vision/test/images/plastic2_filtered_plastic_20200116_144437_frame_253_jpg.rf.6591b1c27d58844efaca0e09f4866d01.jpg: 480x640 1 plastic bottle, 8.5ms\n",
            "image 480/561 /content/computer_vision/test/images/plastic2_filtered_plastic_20200116_144437_frame_289_jpg.rf.538c423d0e4f450b6aa61102aa183cad.jpg: 480x640 2 plastic bottles, 8.7ms\n",
            "image 481/561 /content/computer_vision/test/images/plastic2_filtered_plastic_20200116_144437_frame_94_jpg.rf.3adebde5da6bf5151be95a727a72a8e9.jpg: 480x640 1 plastic bottle, 9.1ms\n",
            "image 482/561 /content/computer_vision/test/images/plastic2_filtered_plastic_20200116_144514_frame_104_jpg.rf.f53c38644f77a90dbc850594842adc9f.jpg: 480x640 1 plastic bottle, 10.2ms\n",
            "image 483/561 /content/computer_vision/test/images/plastic2_filtered_plastic_20200116_144514_frame_105_jpg.rf.8b2c7ded0b7741567c2f1ffd9ce14630.jpg: 480x640 1 plastic bottle, 12.7ms\n",
            "image 484/561 /content/computer_vision/test/images/plastic2_filtered_plastic_20200116_144514_frame_11_jpg.rf.1d6c4c66ec728146e65529a968cdf674.jpg: 480x640 1 plastic bottle, 10.2ms\n",
            "image 485/561 /content/computer_vision/test/images/plastic2_filtered_plastic_20200116_144514_frame_120_jpg.rf.946d57a573568168752d337df4b107ef.jpg: 480x640 1 plastic bottle, 9.5ms\n",
            "image 486/561 /content/computer_vision/test/images/plastic2_filtered_plastic_20200116_144514_frame_124_jpg.rf.71af78f88b492a77f59081ccb554a414.jpg: 480x640 1 plastic bottle, 12.5ms\n",
            "image 487/561 /content/computer_vision/test/images/plastic2_filtered_plastic_20200116_144514_frame_127_jpg.rf.c9b329cb1f65a40841fbe3fb0c727010.jpg: 480x640 1 plastic bottle, 11.4ms\n",
            "image 488/561 /content/computer_vision/test/images/plastic2_filtered_plastic_20200116_144514_frame_140_jpg.rf.89f8bd116b5dd0777d3f365f08b924d5.jpg: 480x640 1 plastic bottle, 9.3ms\n",
            "image 489/561 /content/computer_vision/test/images/plastic2_filtered_plastic_20200116_144514_frame_144_jpg.rf.22262b74d77585bf7798d126616e01f2.jpg: 480x640 1 plastic bottle, 8.9ms\n",
            "image 490/561 /content/computer_vision/test/images/plastic2_filtered_plastic_20200116_144514_frame_158_jpg.rf.0e3dc5b1d61895aadaadc5420225273f.jpg: 480x640 1 plastic bottle, 8.7ms\n",
            "image 491/561 /content/computer_vision/test/images/plastic2_filtered_plastic_20200116_144514_frame_162_jpg.rf.7ccb66df77960b446ccd8994e481da41.jpg: 480x640 1 plastic bottle, 8.7ms\n",
            "image 492/561 /content/computer_vision/test/images/plastic2_filtered_plastic_20200116_144514_frame_1_jpg.rf.92a6eb9dbdcd867131206556a909d8b9.jpg: 480x640 1 plastic bottle, 8.9ms\n",
            "image 493/561 /content/computer_vision/test/images/plastic2_filtered_plastic_20200116_144514_frame_208_jpg.rf.e91f7697a7173f317673049722ffa02c.jpg: 480x640 3 plastic bottles, 8.7ms\n",
            "image 494/561 /content/computer_vision/test/images/plastic2_filtered_plastic_20200116_144514_frame_211_jpg.rf.e1506ea29f3a0e31d7fe0260b345b8b9.jpg: 480x640 3 plastic bottles, 8.4ms\n",
            "image 495/561 /content/computer_vision/test/images/plastic2_filtered_plastic_20200116_144514_frame_258_jpg.rf.1f4d18f63e4417a9ed0a38360a3aa2eb.jpg: 480x640 1 plastic bottle, 8.4ms\n",
            "image 496/561 /content/computer_vision/test/images/plastic2_filtered_plastic_20200116_144514_frame_299_jpg.rf.9332adc27f7ebfb810c06ce1be83e73f.jpg: 480x640 1 plastic bottle, 8.3ms\n",
            "image 497/561 /content/computer_vision/test/images/plastic2_filtered_plastic_20200116_144514_frame_32_jpg.rf.61670505fe02f92f58ac206bb095ae2e.jpg: 480x640 1 plastic bottle, 9.0ms\n",
            "image 498/561 /content/computer_vision/test/images/plastic2_filtered_plastic_20200116_144514_frame_40_jpg.rf.4615f46d4f6c4fcd33f163ff6b8eccc2.jpg: 480x640 1 plastic bottle, 8.4ms\n",
            "image 499/561 /content/computer_vision/test/images/plastic2_filtered_plastic_20200116_144514_frame_51_jpg.rf.81e6aee83825851e0c28909db3ca77c9.jpg: 480x640 1 plastic bottle, 8.4ms\n",
            "image 500/561 /content/computer_vision/test/images/plastic2_filtered_plastic_20200116_144514_frame_53_jpg.rf.2f3b5f9f1d22da60bf023be09c630efb.jpg: 480x640 1 plastic bottle, 8.8ms\n",
            "image 501/561 /content/computer_vision/test/images/plastic2_filtered_plastic_20200116_144514_frame_80_jpg.rf.b4b77f7bf77543c16217320f2de3fc0a.jpg: 480x640 1 plastic bottle, 9.0ms\n",
            "image 502/561 /content/computer_vision/test/images/plastic2_filtered_plastic_20200116_144536_frame_21_jpg.rf.5038ec43f0ea0e1b20e3664995e20f4d.jpg: 480x640 1 plastic bottle, 8.6ms\n",
            "image 503/561 /content/computer_vision/test/images/plastic2_filtered_plastic_20200116_144536_frame_233_jpg.rf.1e6bc53c1f36bb45e108a8d62d854888.jpg: 480x640 1 plastic bottle, 8.3ms\n",
            "image 504/561 /content/computer_vision/test/images/plastic2_filtered_plastic_20200116_144536_frame_43_jpg.rf.c4ca4b00799d7cee4f2e3c8bd1491164.jpg: 480x640 1 plastic bottle, 9.3ms\n",
            "image 505/561 /content/computer_vision/test/images/plastic2_filtered_plastic_20200116_144536_frame_61_jpg.rf.390f3d5380d1f3324fade6fc295a09d9.jpg: 480x640 1 plastic bottle, 8.3ms\n",
            "image 506/561 /content/computer_vision/test/images/plastic2_filtered_plastic_20200116_144611_frame_115_jpg.rf.3f0172c4a8d8b50d5d524f1e548737a1.jpg: 480x640 1 plastic bottle, 8.3ms\n",
            "image 507/561 /content/computer_vision/test/images/plastic2_filtered_plastic_20200116_144611_frame_122_jpg.rf.f462cf6ea2e0f2fef7f88de5c4b57a8f.jpg: 480x640 1 plastic bottle, 8.3ms\n",
            "image 508/561 /content/computer_vision/test/images/plastic2_filtered_plastic_20200116_144611_frame_123_jpg.rf.0f66420052c8bf76d21031e838e7a146.jpg: 480x640 1 plastic bottle, 8.4ms\n",
            "image 509/561 /content/computer_vision/test/images/plastic2_filtered_plastic_20200116_144611_frame_165_jpg.rf.ee8a377febe9bc3178ec7c08e964b8b9.jpg: 480x640 3 plastic bottles, 10.1ms\n",
            "image 510/561 /content/computer_vision/test/images/plastic2_filtered_plastic_20200116_144611_frame_169_jpg.rf.a264247e0f3a7ca59faf3d28ec716373.jpg: 480x640 3 plastic bottles, 9.9ms\n",
            "image 511/561 /content/computer_vision/test/images/plastic2_filtered_plastic_20200116_144611_frame_213_jpg.rf.5c235c6da9e70ace1004057d0ea66356.jpg: 480x640 1 plastic bottle, 9.1ms\n",
            "image 512/561 /content/computer_vision/test/images/plastic2_filtered_plastic_20200116_144611_frame_27_jpg.rf.576a097ad6cbb6b0c484c8a64c1f8315.jpg: 480x640 1 plastic bottle, 9.9ms\n",
            "image 513/561 /content/computer_vision/test/images/plastic2_filtered_plastic_20200116_144611_frame_5_jpg.rf.1805d3d16da275f2d55e9f7d07e04ea2.jpg: 480x640 1 plastic bottle, 10.8ms\n",
            "image 514/561 /content/computer_vision/test/images/plastic2_filtered_plastic_20200116_144611_frame_8_jpg.rf.366f2f19e9ea1a0abd3ac1215824f681.jpg: 480x640 1 plastic bottle, 10.3ms\n",
            "image 515/561 /content/computer_vision/test/images/plastic2_filtered_plastic_20200116_144632_frame_164_jpg.rf.5ad89eff8aee77a3a86407505634e4ef.jpg: 480x640 1 plastic bottle, 15.7ms\n",
            "image 516/561 /content/computer_vision/test/images/plastic2_filtered_plastic_20200116_144632_frame_195_jpg.rf.010a2889eaae346e82a022a485b05c87.jpg: 480x640 2 plastic bottles, 11.1ms\n",
            "image 517/561 /content/computer_vision/test/images/plastic2_filtered_plastic_20200116_144632_frame_208_jpg.rf.d185e409122de6a411d404ba56836b67.jpg: 480x640 2 plastic bottles, 9.6ms\n",
            "image 518/561 /content/computer_vision/test/images/plastic2_filtered_plastic_20200116_144632_frame_34_jpg.rf.e6fbbf93f2893a1dbbaafaccd1cf75d8.jpg: 480x640 1 plastic bottle, 9.8ms\n",
            "image 519/561 /content/computer_vision/test/images/plastic2_filtered_plastic_20200116_144632_frame_47_jpg.rf.c63672b7587482c122acf6c2e99f9996.jpg: 480x640 1 plastic bottle, 10.9ms\n",
            "image 520/561 /content/computer_vision/test/images/plastic2_filtered_plastic_20200116_144632_frame_77_jpg.rf.fd7aa5715799c182b16e48934829e1e2.jpg: 480x640 1 plastic bottle, 10.6ms\n",
            "image 521/561 /content/computer_vision/test/images/plastic2_filtered_plastic_20200116_144632_frame_85_jpg.rf.ec0159ef1eb85f089295173360bfbf96.jpg: 480x640 1 plastic bottle, 9.4ms\n",
            "image 522/561 /content/computer_vision/test/images/plastic2_filtered_plastic_20200116_144632_frame_86_jpg.rf.533b4de1ada45e0658f46d03b82c0093.jpg: 480x640 1 plastic bottle, 10.6ms\n",
            "image 523/561 /content/computer_vision/test/images/plastic2_filtered_plastic_20200116_144653_frame_12_jpg.rf.1bf52789b80e176cf83e8195f9bdce8b.jpg: 480x640 1 plastic bottle, 18.3ms\n",
            "image 524/561 /content/computer_vision/test/images/plastic2_filtered_plastic_20200116_144653_frame_17_jpg.rf.c820f71bdc4ccd652bc5941f76e6fa2a.jpg: 480x640 1 plastic bottle, 8.8ms\n",
            "image 525/561 /content/computer_vision/test/images/plastic2_filtered_plastic_20200116_144653_frame_93_jpg.rf.760a91d58cec38df4baea6f6eb9ea49d.jpg: 480x640 1 paper, 1 plastic bottle, 8.8ms\n",
            "image 526/561 /content/computer_vision/test/images/plastic2_filtered_plastic_20200116_144709_frame_153_jpg.rf.ad5f9e35a06ef277f125590b387ec44e.jpg: 480x640 1 plastic bottle, 9.3ms\n",
            "image 527/561 /content/computer_vision/test/images/plastic2_filtered_plastic_20200116_144709_frame_198_jpg.rf.3fe431c836ce19d732b9e7c14939916b.jpg: 480x640 1 paper, 1 plastic bottle, 9.3ms\n",
            "image 528/561 /content/computer_vision/test/images/plastic2_filtered_plastic_20200116_144709_frame_215_jpg.rf.e0216da96baa79745677d4a1b48c1ac7.jpg: 480x640 1 plastic bottle, 9.5ms\n",
            "image 529/561 /content/computer_vision/test/images/plastic3_plastic-1-_jpg.rf.c6785fadcfaecdcc6d5efe73c1b342f6.jpg: 384x640 1 plastic bottle, 10.5ms\n",
            "image 530/561 /content/computer_vision/test/images/plastic3_plastic-125-_jpg.rf.b8590a21a8646ce1a915002927e1aec4.jpg: 480x640 1 plastic bottle, 12.7ms\n",
            "image 531/561 /content/computer_vision/test/images/plastic3_plastic-127-_jpg.rf.41de3c663ecb18631d30a3a5bb8b828f.jpg: 480x640 1 plastic bottle, 9.7ms\n",
            "image 532/561 /content/computer_vision/test/images/plastic3_plastic-134-_jpg.rf.a6caed100b220de488f2ce208f509e85.jpg: 480x640 1 paper, 18.9ms\n",
            "image 533/561 /content/computer_vision/test/images/plastic3_plastic-177-_jpg.rf.c6c989484317b8e6fcafedbce0be4962.jpg: 480x640 1 plastic bottle, 6.8ms\n",
            "image 534/561 /content/computer_vision/test/images/plastic3_plastic-185-_jpg.rf.cd0724efa8ebb10dba2a558bc88c56bb.jpg: 480x640 1 paper, 6.4ms\n",
            "image 535/561 /content/computer_vision/test/images/plastic3_plastic-190-_jpg.rf.030787e48b61ee0a6546cf4a37457a8f.jpg: 480x640 1 plastic bottle, 6.4ms\n",
            "image 536/561 /content/computer_vision/test/images/plastic3_plastic-207-_jpg.rf.05bbb3af787484b7c938cdfb0fd7dcad.jpg: 480x640 1 plastic bottle, 6.3ms\n",
            "image 537/561 /content/computer_vision/test/images/plastic3_plastic-221-_jpg.rf.ab201c63e6869d2a41f1cdbb4fc56f58.jpg: 640x480 1 plastic bottle, 11.0ms\n",
            "image 538/561 /content/computer_vision/test/images/plastic3_plastic-229-_jpg.rf.5256f7995b23954958d9507d722677bc.jpg: 480x640 1 plastic bottle, 7.1ms\n",
            "image 539/561 /content/computer_vision/test/images/plastic3_plastic-241-_jpg.rf.18df7987cb076ec342cfef2ccb5457fb.jpg: 480x640 1 plastic bottle, 8.8ms\n",
            "image 540/561 /content/computer_vision/test/images/plastic3_plastic-247-_jpg.rf.646bf89d4255a047d71babfa611f10cd.jpg: 640x480 1 plastic bottle, 7.4ms\n",
            "image 541/561 /content/computer_vision/test/images/plastic3_plastic-283-_jpg.rf.7f4beb7da84b94e19b5a1ac32913cff3.jpg: 480x640 1 plastic bottle, 7.6ms\n",
            "image 542/561 /content/computer_vision/test/images/plastic3_plastic-382-_jpg.rf.255ffeda02a4ac991c7922b6f3cb7be4.jpg: 480x640 1 plastic bottle, 6.3ms\n",
            "image 543/561 /content/computer_vision/test/images/plastic3_plastic-407-_jpg.rf.f0721cf7e9fa195546ccbc9e13d0b428.jpg: 480x640 1 plastic bottle, 7.6ms\n",
            "image 544/561 /content/computer_vision/test/images/plastic3_plastic-415-_jpg.rf.1e196181ef2fdb12bac686250cbd3519.jpg: 480x640 1 plastic bottle, 6.2ms\n",
            "image 545/561 /content/computer_vision/test/images/plastic3_plastic-490-_jpg.rf.48f2000d8af0da2bff0822a392946fa5.jpg: 480x640 1 plastic bottle, 6.6ms\n",
            "image 546/561 /content/computer_vision/test/images/plastic3_plastic-498-_jpg.rf.7adaaa8edb1cd7ca306500b7eb2acded.jpg: 480x640 1 paper, 6.1ms\n",
            "image 547/561 /content/computer_vision/test/images/plastic3_plastic-5-_jpg.rf.e571ef1a8e2fc7871c31302c65834b94.jpg: 640x384 1 plastic bottle, 7.2ms\n",
            "image 548/561 /content/computer_vision/test/images/plastic3_plastic-57-_jpg.rf.68e71c10dd5ad220aef5825f8b35f9c1.jpg: 480x640 1 plastic bottle, 7.4ms\n",
            "image 549/561 /content/computer_vision/test/images/plastic3_plastic-58-_jpg.rf.be0ba66ee18cd43594c9f141fc922092.jpg: 480x640 1 plastic bottle, 6.6ms\n",
            "image 550/561 /content/computer_vision/test/images/plastic3_plastic-616-_jpg.rf.8ad9d6db1beed68d4295ee651c4daf12.jpg: 480x640 1 plastic bottle, 7.5ms\n",
            "image 551/561 /content/computer_vision/test/images/plastic3_plastic-618-_jpg.rf.68995ca433052c1b1113bcf9fdfa6fbb.jpg: 480x640 1 plastic bottle, 6.4ms\n",
            "image 552/561 /content/computer_vision/test/images/plastic3_plastic-702-_jpg.rf.d5ddf0f6732cd5eac9b029bf72421f91.jpg: 480x640 1 plastic bottle, 6.7ms\n",
            "image 553/561 /content/computer_vision/test/images/plastic3_plastic-86-_jpg.rf.829b58938b34772c5c71c1cd32fb1b15.jpg: 480x640 1 plastic bottle, 6.2ms\n",
            "image 554/561 /content/computer_vision/test/images/plastic_bottle-142_jpg.rf.bb1d2d480e471e3a12f6effdb73818a2.jpg: 640x640 1 plastic bottle, 8.2ms\n",
            "image 555/561 /content/computer_vision/test/images/plastic_bottle-22_jpg.rf.ce6b089eb5fe2f01b79da15a3e5434dc.jpg: 416x640 1 plastic bottle, 7.2ms\n",
            "image 556/561 /content/computer_vision/test/images/plastic_bottle-249_jpg.rf.7d78f929277fdb717c1e9e07eed94748.jpg: 640x640 2 plastic bottles, 8.0ms\n",
            "image 557/561 /content/computer_vision/test/images/plastic_bottle-255_jpg.rf.a8d3c423794fc75f43da25bda05e678d.jpg: 640x640 1 plastic bottle, 7.4ms\n",
            "image 558/561 /content/computer_vision/test/images/plastic_bottle-322_jpg.rf.d58ea9684c9d9988ca2125ca25f58dce.jpg: 640x640 1 plastic bottle, 7.4ms\n",
            "image 559/561 /content/computer_vision/test/images/plastic_bottle-417_jpg.rf.e199ac99aaa7383777369c557ca74d52.jpg: 448x640 2 plastic bottles, 6.8ms\n",
            "image 560/561 /content/computer_vision/test/images/plasticbottle-355-_jpg.rf.dfd8b6ca8085f2a6969df4ef455072b6.jpg: 640x640 1 plastic bottle, 8.0ms\n",
            "image 561/561 /content/computer_vision/test/images/pure-life-water-bottle_png_jpg.rf.66be126408901d48d0b18a282175381a.jpg: 576x640 1 plastic bottle, 7.9ms\n",
            "Speed: 2.6ms preprocess, 10.7ms inference, 1.6ms postprocess per image at shape (1, 3, 576, 640)\n",
            "Results saved to \u001b[1mruns/detect/predict\u001b[0m\n",
            "Predictions saved in: /content/computer_vision/test/images/-127_jpg.rf.e9fcfa79c009052f7dbf38e4647ddc1e.jpg\n"
          ]
        }
      ],
      "source": [
        "# Test the model using the test set\n",
        "results = model.predict(\n",
        "    source=\"/content/computer_vision/test/images\",  # Path to test images\n",
        "    save=True,                                      # Save predictions\n",
        "    imgsz=640,                                      # Image size\n",
        "    conf=0.25                                       # Confidence threshold\n",
        ")\n",
        "\n",
        "# Output predictions directory\n",
        "print(\"Predictions saved in:\", results[0].path)\n"
      ]
    },
    {
      "cell_type": "code",
      "execution_count": null,
      "metadata": {
        "colab": {
          "base_uri": "https://localhost:8080/",
          "height": 593
        },
        "id": "YSnTUw8HAK1u",
        "outputId": "18141640-ab29-42ed-9dd0-3d827122013c"
      },
      "outputs": [
        {
          "data": {
            "image/jpeg": "[encoded data removed]",
            "text/plain": [
              "<IPython.core.display.Image object>"
            ]
          },
          "execution_count": 25,
          "metadata": {},
          "output_type": "execute_result"
        }
      ],
      "source": [
        "# Example of displaying one prediction\n",
        "from IPython.display import Image\n",
        "\n",
        "Image(filename=\"/content/runs/detect/predict/100045_jpg.rf.c2745b040099ba1a99ee9c35a610ea5c.jpg\")  # Replace 'image_name.jpg' with an actual test image filename\n"
      ]
    },
    {
      "cell_type": "code",
      "execution_count": null,
      "metadata": {
        "colab": {
          "base_uri": "https://localhost:8080/"
        },
        "id": "bKsXZkD4CX-h",
        "outputId": "622d2e66-9ae3-4c0a-efa2-76309e63960a"
      },
      "outputs": [
        {
          "name": "stdout",
          "output_type": "stream",
          "text": [
            "Ultralytics 8.3.59 🚀 Python-3.10.12 torch-2.5.1+cu121 CUDA:0 (Tesla T4, 15102MiB)\n"
          ]
        },
        {
          "name": "stderr",
          "output_type": "stream",
          "text": [
            "\u001b[34m\u001b[1mval: \u001b[0mScanning /content/computer_vision/valid/labels.cache... 1107 images, 0 backgrounds, 0 corrupt: 100%|██████████| 1107/1107 [00:00<?, ?it/s]"
          ]
        },
        {
          "name": "stdout",
          "output_type": "stream",
          "text": [
            "WARNING ⚠️ Box and segment counts should be equal, but got len(segments) = 188, len(boxes) = 1607. To resolve this only boxes will be used and all segments will be removed. To avoid this please supply either a detect or segment dataset, not a detect-segment mixed dataset.\n"
          ]
        },
        {
          "name": "stderr",
          "output_type": "stream",
          "text": [
            "\n",
            "                 Class     Images  Instances      Box(P          R      mAP50  mAP50-95): 100%|██████████| 70/70 [00:24<00:00,  2.90it/s]\n"
          ]
        },
        {
          "name": "stdout",
          "output_type": "stream",
          "text": [
            "                   all       1107       1607      0.886      0.773      0.861      0.686\n",
            "                 paper        386        534      0.856      0.659      0.784      0.599\n",
            "        plastic bottle        722       1073      0.915      0.887      0.938      0.774\n",
            "Speed: 0.3ms preprocess, 3.7ms inference, 0.0ms loss, 2.3ms postprocess per image\n",
            "Results saved to \u001b[1mruns/detect/val5\u001b[0m\n",
            "Validation Metrics:\n",
            "mAP@0.5: 0.8610\n",
            "mAP@0.5:0.95: 0.6863\n",
            "Precision: 0.8564\n",
            "Recall: 0.6590\n"
          ]
        }
      ],
      "source": [
        "# Validate the trained model\n",
        "results = model.val(data=\"/content/computer_vision/data.yaml\")  # Use your dataset YAML file\n",
        "\n",
        "# Print validation results\n",
        "print(\"Validation Metrics:\")\n",
        "print(f\"mAP@0.5: {results.box.map50:.4f}\")         # Mean Average Precision at IoU 0.5\n",
        "print(f\"mAP@0.5:0.95: {results.box.map:.4f}\")     # Mean Average Precision at IoU 0.5:0.95\n",
        "# Accessing precision for a specific class (e.g., the first class)\n",
        "print(f\"Precision: {results.box.p[0]:.4f}\")  # Precision for class 0\n",
        "print(f\"Recall: {results.box.r[0]:.4f}\")        # Recall for class 0"
      ]
    },
    {
      "cell_type": "code",
      "execution_count": null,
      "metadata": {
        "id": "cKODwiSSWCPu"
      },
      "outputs": [],
      "source": [
        "results = model.train(\n",
        "    data=\"/content/computer_vision/data.yaml\",\n",
        "    epochs=20,\n",
        "    batch=16,\n",
        "    imgsz=640,\n",
        "    name=\"fine_tuned_model\",\n",
        "    model=\"runs/detect/paper_plastic_model/weights/best.pt\",\n",
        "    lr0=0.001,\n",
        "    freeze=10,\n",
        "    augment=True,\n",
        "    patience=5,\n",
        "    optimizer=\"Adam\"\n",
        "   )\n",
        ""
      ]
    },
    {
      "cell_type": "code",
      "execution_count": null,
      "metadata": {
        "colab": {
          "base_uri": "https://localhost:8080/"
        },
        "id": "p7eEaY9RDRTu",
        "outputId": "1310bdb7-4881-4347-a044-3fe068c450cf"
      },
      "outputs": [
        {
          "name": "stdout",
          "output_type": "stream",
          "text": [
            "Precision: [    0.85641      0.9154]\n",
            "Recall: [    0.65895     0.88743]\n",
            "F1 Score: [    0.74481      0.9012]\n",
            "AP50: [    0.78416     0.93778]\n",
            "mAP50-95: 0.6863170247100296\n"
          ]
        }
      ],
      "source": [
        "\n",
        "precision = results.box.p  # Precision for each class\n",
        "recall = results.box.r     # Recall for each class\n",
        "f1_score = results.box.f1  # F1 score for each class\n",
        "ap50 = results.box.ap50    # AP at IoU 0.5\n",
        "map50_95 = results.box.map  # mAP at IoU thresholds 0.5:0.95\n",
        "\n",
        "# Print metrics\n",
        "print(f\"Precision: {precision}\")\n",
        "print(f\"Recall: {recall}\")\n",
        "print(f\"F1 Score: {f1_score}\")\n",
        "print(f\"AP50: {ap50}\")\n",
        "print(f\"mAP50-95: {map50_95}\")\n"
      ]
    },
    {
      "cell_type": "code",
      "execution_count": null,
      "metadata": {
        "colab": {
          "base_uri": "https://localhost:8080/",
          "height": 564
        },
        "id": "tjAuCaIaEJ0G",
        "outputId": "3c2b7a99-754a-4bf3-ab2f-c324b770c7c3"
      },
      "outputs": [
        {
          "data": {
            "image/png": "[encoded data removed]",
            "text/plain": [
              "<Figure size 1000x600 with 1 Axes>"
            ]
          },
          "metadata": {},
          "output_type": "display_data"
        }
      ],
      "source": [
        "import matplotlib.pyplot as plt\n",
        "\n",
        "# Visualizing precision, recall, and F1-score for each class\n",
        "classes = list(range(len(precision)))  # Replace with actual class names if available\n",
        "plt.figure(figsize=(10, 6))\n",
        "\n",
        "plt.plot(classes, precision, label=\"Precision\", marker='o')\n",
        "plt.plot(classes, recall, label=\"Recall\", marker='o')\n",
        "plt.plot(classes, f1_score, label=\"F1 Score\", marker='o')\n",
        "\n",
        "plt.xlabel(\"Class\")\n",
        "plt.ylabel(\"Metric Value\")\n",
        "plt.title(\"Performance Metrics by Class\")\n",
        "plt.legend()\n",
        "plt.grid()\n",
        "plt.show()\n"
      ]
    },
    {
      "cell_type": "code",
      "execution_count": null,
      "metadata": {
        "colab": {
          "base_uri": "https://localhost:8080/",
          "height": 1000
        },
        "id": "ndDZ9xuXQjm5",
        "outputId": "cfca58d1-36fc-4c46-b3c6-b61e287ff0f6"
      },
      "outputs": [
        {
          "name": "stdout",
          "output_type": "stream",
          "text": [
            "Collecting gradio\n",
            "  Downloading gradio-5.12.0-py3-none-any.whl.metadata (16 kB)\n",
            "Collecting aiofiles<24.0,>=22.0 (from gradio)\n",
            "  Downloading aiofiles-23.2.1-py3-none-any.whl.metadata (9.7 kB)\n",
            "Requirement already satisfied: anyio<5.0,>=3.0 in /usr/local/lib/python3.10/dist-packages (from gradio) (3.7.1)\n",
            "Collecting fastapi<1.0,>=0.115.2 (from gradio)\n",
            "  Downloading fastapi-0.115.6-py3-none-any.whl.metadata (27 kB)\n",
            "Collecting ffmpy (from gradio)\n",
            "  Downloading ffmpy-0.5.0-py3-none-any.whl.metadata (3.0 kB)\n",
            "Collecting gradio-client==1.5.4 (from gradio)\n",
            "  Downloading gradio_client-1.5.4-py3-none-any.whl.metadata (7.1 kB)\n",
            "Requirement already satisfied: httpx>=0.24.1 in /usr/local/lib/python3.10/dist-packages (from gradio) (0.28.1)\n",
            "Requirement already satisfied: huggingface-hub>=0.25.1 in /usr/local/lib/python3.10/dist-packages (from gradio) (0.27.1)\n",
            "Requirement already satisfied: jinja2<4.0 in /usr/local/lib/python3.10/dist-packages (from gradio) (3.1.5)\n",
            "Collecting markupsafe~=2.0 (from gradio)\n",
            "  Downloading MarkupSafe-2.1.5-cp310-cp310-manylinux_2_17_x86_64.manylinux2014_x86_64.whl.metadata (3.0 kB)\n",
            "Requirement already satisfied: numpy<3.0,>=1.0 in /usr/local/lib/python3.10/dist-packages (from gradio) (1.26.4)\n",
            "Requirement already satisfied: orjson~=3.0 in /usr/local/lib/python3.10/dist-packages (from gradio) (3.10.13)\n",
            "Requirement already satisfied: packaging in /usr/local/lib/python3.10/dist-packages (from gradio) (24.2)\n",
            "Requirement already satisfied: pandas<3.0,>=1.0 in /usr/local/lib/python3.10/dist-packages (from gradio) (2.2.2)\n",
            "Requirement already satisfied: pillow<12.0,>=8.0 in /usr/local/lib/python3.10/dist-packages (from gradio) (11.1.0)\n",
            "Requirement already satisfied: pydantic>=2.0 in /usr/local/lib/python3.10/dist-packages (from gradio) (2.10.4)\n",
            "Collecting pydub (from gradio)\n",
            "  Downloading pydub-0.25.1-py2.py3-none-any.whl.metadata (1.4 kB)\n",
            "Collecting python-multipart>=0.0.18 (from gradio)\n",
            "  Downloading python_multipart-0.0.20-py3-none-any.whl.metadata (1.8 kB)\n",
            "Requirement already satisfied: pyyaml<7.0,>=5.0 in /usr/local/lib/python3.10/dist-packages (from gradio) (6.0.2)\n",
            "Collecting ruff>=0.2.2 (from gradio)\n",
            "  Downloading ruff-0.9.1-py3-none-manylinux_2_17_x86_64.manylinux2014_x86_64.whl.metadata (25 kB)\n",
            "Collecting safehttpx<0.2.0,>=0.1.6 (from gradio)\n",
            "  Downloading safehttpx-0.1.6-py3-none-any.whl.metadata (4.2 kB)\n",
            "Collecting semantic-version~=2.0 (from gradio)\n",
            "  Downloading semantic_version-2.10.0-py2.py3-none-any.whl.metadata (9.7 kB)\n",
            "Collecting starlette<1.0,>=0.40.0 (from gradio)\n",
            "  Downloading starlette-0.45.2-py3-none-any.whl.metadata (6.3 kB)\n",
            "Collecting tomlkit<0.14.0,>=0.12.0 (from gradio)\n",
            "  Downloading tomlkit-0.13.2-py3-none-any.whl.metadata (2.7 kB)\n",
            "Requirement already satisfied: typer<1.0,>=0.12 in /usr/local/lib/python3.10/dist-packages (from gradio) (0.15.1)\n",
            "Requirement already satisfied: typing-extensions~=4.0 in /usr/local/lib/python3.10/dist-packages (from gradio) (4.12.2)\n",
            "Collecting uvicorn>=0.14.0 (from gradio)\n",
            "  Downloading uvicorn-0.34.0-py3-none-any.whl.metadata (6.5 kB)\n",
            "Requirement already satisfied: fsspec in /usr/local/lib/python3.10/dist-packages (from gradio-client==1.5.4->gradio) (2024.10.0)\n",
            "Requirement already satisfied: websockets<15.0,>=10.0 in /usr/local/lib/python3.10/dist-packages (from gradio-client==1.5.4->gradio) (14.1)\n",
            "Requirement already satisfied: idna>=2.8 in /usr/local/lib/python3.10/dist-packages (from anyio<5.0,>=3.0->gradio) (3.7)\n",
            "Requirement already satisfied: sniffio>=1.1 in /usr/local/lib/python3.10/dist-packages (from anyio<5.0,>=3.0->gradio) (1.3.1)\n",
            "Requirement already satisfied: exceptiongroup in /usr/local/lib/python3.10/dist-packages (from anyio<5.0,>=3.0->gradio) (1.2.2)\n",
            "Collecting starlette<1.0,>=0.40.0 (from gradio)\n",
            "  Downloading starlette-0.41.3-py3-none-any.whl.metadata (6.0 kB)\n",
            "Requirement already satisfied: certifi in /usr/local/lib/python3.10/dist-packages (from httpx>=0.24.1->gradio) (2024.12.14)\n",
            "Requirement already satisfied: httpcore==1.* in /usr/local/lib/python3.10/dist-packages (from httpx>=0.24.1->gradio) (1.0.7)\n",
            "Requirement already satisfied: h11<0.15,>=0.13 in /usr/local/lib/python3.10/dist-packages (from httpcore==1.*->httpx>=0.24.1->gradio) (0.14.0)\n",
            "Requirement already satisfied: filelock in /usr/local/lib/python3.10/dist-packages (from huggingface-hub>=0.25.1->gradio) (3.16.1)\n",
            "Requirement already satisfied: requests in /usr/local/lib/python3.10/dist-packages (from huggingface-hub>=0.25.1->gradio) (2.32.3)\n",
            "Requirement already satisfied: tqdm>=4.42.1 in /usr/local/lib/python3.10/dist-packages (from huggingface-hub>=0.25.1->gradio) (4.67.1)\n",
            "Requirement already satisfied: python-dateutil>=2.8.2 in /usr/local/lib/python3.10/dist-packages (from pandas<3.0,>=1.0->gradio) (2.8.2)\n",
            "Requirement already satisfied: pytz>=2020.1 in /usr/local/lib/python3.10/dist-packages (from pandas<3.0,>=1.0->gradio) (2024.2)\n",
            "Requirement already satisfied: tzdata>=2022.7 in /usr/local/lib/python3.10/dist-packages (from pandas<3.0,>=1.0->gradio) (2024.2)\n",
            "Requirement already satisfied: annotated-types>=0.6.0 in /usr/local/lib/python3.10/dist-packages (from pydantic>=2.0->gradio) (0.7.0)\n",
            "Requirement already satisfied: pydantic-core==2.27.2 in /usr/local/lib/python3.10/dist-packages (from pydantic>=2.0->gradio) (2.27.2)\n",
            "Requirement already satisfied: click>=8.0.0 in /usr/local/lib/python3.10/dist-packages (from typer<1.0,>=0.12->gradio) (8.1.8)\n",
            "Requirement already satisfied: shellingham>=1.3.0 in /usr/local/lib/python3.10/dist-packages (from typer<1.0,>=0.12->gradio) (1.5.4)\n",
            "Requirement already satisfied: rich>=10.11.0 in /usr/local/lib/python3.10/dist-packages (from typer<1.0,>=0.12->gradio) (13.9.4)\n",
            "Requirement already satisfied: six>=1.5 in /usr/local/lib/python3.10/dist-packages (from python-dateutil>=2.8.2->pandas<3.0,>=1.0->gradio) (1.17.0)\n",
            "Requirement already satisfied: markdown-it-py>=2.2.0 in /usr/local/lib/python3.10/dist-packages (from rich>=10.11.0->typer<1.0,>=0.12->gradio) (3.0.0)\n",
            "Requirement already satisfied: pygments<3.0.0,>=2.13.0 in /usr/local/lib/python3.10/dist-packages (from rich>=10.11.0->typer<1.0,>=0.12->gradio) (2.18.0)\n",
            "Requirement already satisfied: charset-normalizer<4,>=2 in /usr/local/lib/python3.10/dist-packages (from requests->huggingface-hub>=0.25.1->gradio) (3.4.1)\n",
            "Requirement already satisfied: urllib3<3,>=1.21.1 in /usr/local/lib/python3.10/dist-packages (from requests->huggingface-hub>=0.25.1->gradio) (2.3.0)\n",
            "Requirement already satisfied: mdurl~=0.1 in /usr/local/lib/python3.10/dist-packages (from markdown-it-py>=2.2.0->rich>=10.11.0->typer<1.0,>=0.12->gradio) (0.1.2)\n",
            "Downloading gradio-5.12.0-py3-none-any.whl (57.6 MB)\n",
            "\u001b[2K   \u001b[90m━━━━━━━━━━━━━━━━━━━━━━━━━━━━━━━━━━━━━━━━\u001b[0m \u001b[32m57.6/57.6 MB\u001b[0m \u001b[31m15.8 MB/s\u001b[0m eta \u001b[36m0:00:00\u001b[0m\n",
            "\u001b[?25hDownloading gradio_client-1.5.4-py3-none-any.whl (321 kB)\n",
            "\u001b[2K   \u001b[90m━━━━━━━━━━━━━━━━━━━━━━━━━━━━━━━━━━━━━━━━\u001b[0m \u001b[32m321.4/321.4 kB\u001b[0m \u001b[31m27.2 MB/s\u001b[0m eta \u001b[36m0:00:00\u001b[0m\n",
            "\u001b[?25hDownloading aiofiles-23.2.1-py3-none-any.whl (15 kB)\n",
            "Downloading fastapi-0.115.6-py3-none-any.whl (94 kB)\n",
            "\u001b[2K   \u001b[90m━━━━━━━━━━━━━━━━━━━━━━━━━━━━━━━━━━━━━━━━\u001b[0m \u001b[32m94.8/94.8 kB\u001b[0m \u001b[31m8.9 MB/s\u001b[0m eta \u001b[36m0:00:00\u001b[0m\n",
            "\u001b[?25hDownloading MarkupSafe-2.1.5-cp310-cp310-manylinux_2_17_x86_64.manylinux2014_x86_64.whl (25 kB)\n",
            "Downloading python_multipart-0.0.20-py3-none-any.whl (24 kB)\n",
            "Downloading ruff-0.9.1-py3-none-manylinux_2_17_x86_64.manylinux2014_x86_64.whl (11.3 MB)\n",
            "\u001b[2K   \u001b[90m━━━━━━━━━━━━━━━━━━━━━━━━━━━━━━━━━━━━━━━━\u001b[0m \u001b[32m11.3/11.3 MB\u001b[0m \u001b[31m113.2 MB/s\u001b[0m eta \u001b[36m0:00:00\u001b[0m\n",
            "\u001b[?25hDownloading safehttpx-0.1.6-py3-none-any.whl (8.7 kB)\n",
            "Downloading semantic_version-2.10.0-py2.py3-none-any.whl (15 kB)\n",
            "Downloading starlette-0.41.3-py3-none-any.whl (73 kB)\n",
            "\u001b[2K   \u001b[90m━━━━━━━━━━━━━━━━━━━━━━━━━━━━━━━━━━━━━━━━\u001b[0m \u001b[32m73.2/73.2 kB\u001b[0m \u001b[31m6.2 MB/s\u001b[0m eta \u001b[36m0:00:00\u001b[0m\n",
            "\u001b[?25hDownloading tomlkit-0.13.2-py3-none-any.whl (37 kB)\n",
            "Downloading uvicorn-0.34.0-py3-none-any.whl (62 kB)\n",
            "\u001b[2K   \u001b[90m━━━━━━━━━━━━━━━━━━━━━━━━━━━━━━━━━━━━━━━━\u001b[0m \u001b[32m62.3/62.3 kB\u001b[0m \u001b[31m5.4 MB/s\u001b[0m eta \u001b[36m0:00:00\u001b[0m\n",
            "\u001b[?25hDownloading ffmpy-0.5.0-py3-none-any.whl (6.0 kB)\n",
            "Downloading pydub-0.25.1-py2.py3-none-any.whl (32 kB)\n",
            "Installing collected packages: pydub, uvicorn, tomlkit, semantic-version, ruff, python-multipart, markupsafe, ffmpy, aiofiles, starlette, safehttpx, gradio-client, fastapi, gradio\n",
            "  Attempting uninstall: markupsafe\n",
            "    Found existing installation: MarkupSafe 3.0.2\n",
            "    Uninstalling MarkupSafe-3.0.2:\n",
            "      Successfully uninstalled MarkupSafe-3.0.2\n",
            "Successfully installed aiofiles-23.2.1 fastapi-0.115.6 ffmpy-0.5.0 gradio-5.12.0 gradio-client-1.5.4 markupsafe-2.1.5 pydub-0.25.1 python-multipart-0.0.20 ruff-0.9.1 safehttpx-0.1.6 semantic-version-2.10.0 starlette-0.41.3 tomlkit-0.13.2 uvicorn-0.34.0\n",
            "Running Gradio in a Colab notebook requires sharing enabled. Automatically setting `share=True` (you can turn this off by setting `share=False` in `launch()` explicitly).\n",
            "\n",
            "Colab notebook detected. To show errors in colab notebook, set debug=True in launch()\n",
            "* Running on public URL: https://18443c07809362ddd9.gradio.live\n",
            "\n",
            "This share link expires in 72 hours. For free permanent hosting and GPU upgrades, run `gradio deploy` from the terminal in the working directory to deploy to Hugging Face Spaces (https://huggingface.co/spaces)\n"
          ]
        },
        {
          "data": {
            "text/html": [
              "<div><iframe src=\"https://18443c07809362ddd9.gradio.live\" width=\"100%\" height=\"500\" allow=\"autoplay; camera; microphone; clipboard-read; clipboard-write;\" frameborder=\"0\" allowfullscreen></iframe></div>"
            ],
            "text/plain": [
              "<IPython.core.display.HTML object>"
            ]
          },
          "metadata": {},
          "output_type": "display_data"
        },
        {
          "data": {
            "text/plain": []
          },
          "execution_count": 5,
          "metadata": {},
          "output_type": "execute_result"
        }
      ],
      "source": [
        "# Install Gradio\n",
        "!pip install gradio\n",
        "from ultralytics import YOLO\n",
        "import gradio as gr\n",
        "from PIL import Image\n",
        "\n",
        "# Load the trained YOLO model\n",
        "model = YOLO(\"runs/detect/paper_plastic_model/weights/best.pt\")  # Replace with your model path\n",
        "\n",
        "# Function to handle prediction\n",
        "def predict_image(image):\n",
        "    # Run YOLO prediction\n",
        "    results = model.predict(source=image, conf=0.25, imgsz=640)\n",
        "\n",
        "    # Extract labels and confidence scores\n",
        "    detected_objects = []\n",
        "    for box in results[0].boxes:\n",
        "        label = results[0].names[int(box.cls[0])]  # Get class name\n",
        "        confidence = box.conf[0].item()           # Get confidence\n",
        "        detected_objects.append(f\"{label} ({confidence:.2f})\")\n",
        "\n",
        "    # Format the result\n",
        "    if detected_objects:\n",
        "        return f\"Detected Objects: {', '.join(detected_objects)}\"\n",
        "    else:\n",
        "        return \"No objects detected.\"\n",
        "\n",
        "# Gradio interface\n",
        "interface = gr.Interface(\n",
        "    fn=predict_image,  # Function to call\n",
        "    inputs=gr.Image(type=\"filepath\"),  # Input type\n",
        "    outputs=\"text\",  # Output type\n",
        "    title=\"Paper and Plastic Detection\",\n",
        "    description=\"Upload an image to detect objects as Paper or Plastic.\",\n",
        ")\n",
        "\n",
        "# Launch the interface\n",
        "interface.launch()\n"
      ]
    },
    {
      "cell_type": "code",
      "execution_count": null,
      "metadata": {
        "colab": {
          "base_uri": "https://localhost:8080/"
        },
        "id": "wFmlUUTwotAI",
        "outputId": "44e43480-70b1-4390-bed2-b1796575996d"
      },
      "outputs": [
        {
          "name": "stdout",
          "output_type": "stream",
          "text": [
            "Ultralytics 8.3.59 🚀 Python-3.10.12 torch-2.5.1+cu121 CUDA:0 (Tesla T4, 15102MiB)\n",
            "Model summary (fused): 168 layers, 3,006,038 parameters, 0 gradients, 8.1 GFLOPs\n"
          ]
        },
        {
          "name": "stderr",
          "output_type": "stream",
          "text": [
            "\u001b[34m\u001b[1mval: \u001b[0mScanning /content/computer_vision/valid/labels.cache... 1107 images, 0 backgrounds, 0 corrupt: 100%|██████████| 1107/1107 [00:00<?, ?it/s]"
          ]
        },
        {
          "name": "stdout",
          "output_type": "stream",
          "text": [
            "WARNING ⚠️ Box and segment counts should be equal, but got len(segments) = 188, len(boxes) = 1607. To resolve this only boxes will be used and all segments will be removed. To avoid this please supply either a detect or segment dataset, not a detect-segment mixed dataset.\n"
          ]
        },
        {
          "name": "stderr",
          "output_type": "stream",
          "text": [
            "\n",
            "                 Class     Images  Instances      Box(P          R      mAP50  mAP50-95): 100%|██████████| 70/70 [00:27<00:00,  2.55it/s]\n"
          ]
        },
        {
          "name": "stdout",
          "output_type": "stream",
          "text": [
            "                   all       1107       1607       0.85      0.825      0.885      0.721\n",
            "                 paper        386        534       0.82       0.73      0.821      0.639\n",
            "        plastic bottle        722       1073       0.88      0.919       0.95      0.803\n",
            "Speed: 0.3ms preprocess, 4.5ms inference, 0.0ms loss, 2.1ms postprocess per image\n",
            "Results saved to \u001b[1mruns/detect/fine_tuned_model2\u001b[0m\n",
            "Validation Metrics After Fine-Tuning:\n",
            "mAP@0.5: 0.8855\n",
            "mAP@0.5:0.95: 0.7211\n",
            "Precision: 0.8496\n",
            "Recall: 0.8246\n"
          ]
        }
      ],
      "source": [
        "# Validate the fine-tuned model\n",
        "results = model.val(data=\"/content/computer_vision/data.yaml\")\n",
        "\n",
        "# Print validation metrics\n",
        "print(\"Validation Metrics After Fine-Tuning:\")\n",
        "print(f\"mAP@0.5: {results.box.map50:.4f}\")         # Mean Average Precision at IoU 0.5\n",
        "print(f\"mAP@0.5:0.95: {results.box.map:.4f}\")     # Mean Average Precision at IoU 0.5:0.95\n",
        "print(f\"Precision: {results.box.p.mean():.4f}\")   # Average Precision\n",
        "print(f\"Recall: {results.box.r.mean():.4f}\")      # Average Recall\n"
      ]
    }
  ],
  "metadata": {
    "accelerator": "GPU",
    "colab": {
      "gpuType": "T4",
      "provenance": [],
      "include_colab_link": true
    },
    "kernelspec": {
      "display_name": "Python 3",
      "name": "python3"
    },
    "language_info": {
      "name": "python"
    }
  },
  "nbformat": 4,
  "nbformat_minor": 0
}